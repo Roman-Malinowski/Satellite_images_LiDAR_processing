{
 "cells": [
  {
   "cell_type": "code",
   "execution_count": null,
   "id": "94a0d34e-b151-46e9-ad0a-905a7c672b32",
   "metadata": {
    "tags": []
   },
   "outputs": [],
   "source": [
    "import os\n",
    "import xml.etree.ElementTree as ET\n",
    "\n",
    "import numpy as np\n",
    "import rasterio\n",
    "import rasterio.merge\n",
    "import fiona\n",
    "from shapely.geometry import shape\n",
    "\n",
    "from shareloc.geomodels import GeoModel\n",
    "from shareloc.geofunctions.localization import Localization\n",
    "from shareloc.dtm_reader import dtm_reader\n",
    "from shareloc.geofunctions.dtm_intersection import DTMIntersection"
   ]
  },
  {
   "cell_type": "code",
   "execution_count": null,
   "id": "c621bdc9-cde2-4602-8270-d7c1b1b6d95e",
   "metadata": {
    "tags": []
   },
   "outputs": [],
   "source": [
    "# Mode is either \"SRTM\" or \"COPERNICUS\"\n",
    "mode = \"COPERNICUS\"\n",
    "path_dim = \"/work/CAMPUS/etudes/3D/Development/malinoro/Pleiades/Yosemite/2017-05-02_18h49m264/IMG_PHR1B_P_001/DIM_PHR1B_P_201705021849264_SEN_PWH-8376_2024-05-03_08-08-38_1039-001.XML\"\n",
    "output_path = \"/work/CAMPUS/etudes/3D/Development/malinoro/CARS_output/Yosemite/COPERNICUS/COPERNICUS_merged.tif\"\n",
    "\n",
    "dem_root = {\"SRTM\": \"/work/datalake/static_aux/MNT/SRTM_30_hgt/\", \"COPERNICUS\": \"/work/datalake/static_aux/MNT/COP-DEM_GLO-30-DGED_extracted/\"}\n",
    "dem_folder = dem_root[mode]"
   ]
  },
  {
   "cell_type": "code",
   "execution_count": null,
   "id": "fc587851-cb3d-4191-b27a-5ebe5b366439",
   "metadata": {
    "tags": []
   },
   "outputs": [],
   "source": [
    "tree = ET.parse(path_dim)\n",
    "root = tree.getroot()"
   ]
  },
  {
   "cell_type": "code",
   "execution_count": null,
   "id": "73c6478f-4dc5-4622-9c9e-d90bcb41fa48",
   "metadata": {
    "tags": []
   },
   "outputs": [],
   "source": [
    "lat_min, lat_max, lon_min, lon_max = np.inf, -np.inf, np.inf, -np.inf\n",
    "\n",
    "for vertex in root.find(\"Dataset_Content\").find(\"Dataset_Extent\").findall(\"Vertex\"):\n",
    "    lat_min = min(lat_min, float(vertex.find(\"LAT\").text))\n",
    "    lat_max = max(lat_max, float(vertex.find(\"LAT\").text))\n",
    "    lon_min = min(lon_min, float(vertex.find(\"LON\").text))\n",
    "    lon_max = max(lon_max, float(vertex.find(\"LON\").text))\n",
    "\n",
    "list_lat = []\n",
    "list_lon = []\n",
    "list_dem = []\n",
    "for lat in range(np.floor(lat_min).astype(int), np.ceil(lat_max).astype(int)):\n",
    "    if lat >= 0:\n",
    "        dem_lat = f\"N{lat:02d}\"\n",
    "    else:\n",
    "        dem_lat = f\"S{-lat:02d}\"\n",
    "    list_lat += [dem_lat]\n",
    "    \n",
    "    for lon in range(np.floor(lon_min).astype(int), np.ceil(lon_max).astype(int)):\n",
    "        if lon >= 0:\n",
    "            dem_lon = f\"E{lon:03d}\"\n",
    "        else:\n",
    "            dem_lon = f\"W{-lon:03d}\"\n",
    "        \n",
    "        list_lon += [dem_lon]\n",
    "        if mode == \"SRTM\":\n",
    "            list_dem += [f\"{dem_lat}{dem_lon}.hgt\"]\n",
    "        elif mode == \"COPERNICUS\":\n",
    "            list_dem += [f\"{dem_lon}/Copernicus_DSM_10_{dem_lat}_00_{dem_lon}_00/DEM/Copernicus_DSM_10_{dem_lat}_00_{dem_lon}_00_DEM.tif\"]\n",
    "        else:\n",
    "            raise RuntimeError(\"Mode '{mode}' should be either 'SRTM' or 'COPERNICUS'\")\n",
    "print(f\"LAT {lat_min} <--> {lat_max} ==  {list_lat}\")\n",
    "print(f\"LON {lon_min} <--> {lon_max} ==  {list_lon}\")\n",
    "print(list_dem)"
   ]
  },
  {
   "cell_type": "code",
   "execution_count": null,
   "id": "8ebe3e44-85ec-4de1-af53-d8951cb90854",
   "metadata": {
    "tags": []
   },
   "outputs": [],
   "source": [
    "for k in list_dem:\n",
    "    if mode == \"SRTM\":\n",
    "        msg_error = \"\\nTry with Copernicus DEM?\"\n",
    "    else:\n",
    "        msg_error = \"\"\n",
    "    assert os.path.exists(os.path.join(dem_folder, k)), f\"{os.path.join(dem_folder, k)} does not exists{msg_error}\""
   ]
  },
  {
   "cell_type": "code",
   "execution_count": null,
   "id": "758b3aa8-65ea-4618-aaae-37d5b6893045",
   "metadata": {
    "tags": []
   },
   "outputs": [],
   "source": [
    "if not os.path.exists(os.path.dirname(output_path)):\n",
    "    raise RuntimeError(f\"Output directory does not exists: {os.path.dirname(output_path)}.\\nConsider creating it with:\\n\\nos.makedirs('{os.path.dirname(output_path)}')\\n\")"
   ]
  },
  {
   "cell_type": "code",
   "execution_count": null,
   "id": "2834b0dc-3d56-4919-be17-85756d7fc781",
   "metadata": {
    "tags": []
   },
   "outputs": [],
   "source": [
    "list_hgt = []\n",
    "for dem_file in list_dem:\n",
    "    list_hgt += [rasterio.open(os.path.join(dem_folder, dem_file))]"
   ]
  },
  {
   "cell_type": "code",
   "execution_count": null,
   "id": "dcaab743-b9e5-4efd-9ba2-ffcd66393de1",
   "metadata": {
    "tags": []
   },
   "outputs": [],
   "source": [
    "no_data_list = np.unique([k.meta['nodata'] for k in list_hgt if k.meta['nodata'] is not None])\n",
    "if no_data_list.size == 1:\n",
    "    no_data = no_data_list[0]\n",
    "else:\n",
    "    print(f\"Could not identify no_data: {no_data_list}. Please set var 'no_data' manually\")"
   ]
  },
  {
   "cell_type": "code",
   "execution_count": null,
   "id": "340745bd-009d-4213-b4e1-162d327f80cc",
   "metadata": {
    "tags": []
   },
   "outputs": [],
   "source": [
    "no_data = None"
   ]
  },
  {
   "cell_type": "code",
   "execution_count": null,
   "id": "8ea40503-eb72-46bb-89bc-26bd7a38133f",
   "metadata": {
    "tags": []
   },
   "outputs": [],
   "source": [
    "data, transform = rasterio.merge.merge(list_hgt, nodata=no_data)\n",
    "data = np.squeeze(data)"
   ]
  },
  {
   "cell_type": "code",
   "execution_count": null,
   "id": "2e9e632f-df02-4944-b5b8-159bbb0d3f91",
   "metadata": {
    "tags": []
   },
   "outputs": [],
   "source": [
    "data.shape, transform"
   ]
  },
  {
   "cell_type": "code",
   "execution_count": null,
   "id": "608d1b82-24ad-4c74-aebe-48cdd4903053",
   "metadata": {
    "tags": []
   },
   "outputs": [],
   "source": [
    "profile = list_hgt[0].profile\n",
    "profile.update(height=data.shape[0], width=data.shape[1], transform=transform, driver=\"GTiff\")\n",
    "\n",
    "with rasterio.open(output_path, 'w', **profile) as dst:\n",
    "    dst.write(data, 1)"
   ]
  },
  {
   "cell_type": "markdown",
   "id": "31cde5b5-a2ef-429e-85bf-2b457eadaffa",
   "metadata": {},
   "source": [
    "# Getting rows and columns based on shapefile"
   ]
  },
  {
   "cell_type": "markdown",
   "id": "3314a34e-53d3-462a-bf0a-d98350dbf999",
   "metadata": {},
   "source": [
    "### Inputs\n",
    "Provided a RPC file and a vector path (polygon .shp), computes the rows and cols that will be extracted with OTB. We add a margin on the sides. "
   ]
  },
  {
   "cell_type": "code",
   "execution_count": null,
   "id": "2d68a257-9c50-4893-87d2-1855b683d2d4",
   "metadata": {
    "tags": []
   },
   "outputs": [],
   "source": [
    "rpc_path = \"/work/CAMPUS/etudes/3D/Development/malinoro/Pleiades/Yosemite/2017-05-02_18h49m264/IMG_PHR1B_P_001/RPC_PHR1B_P_201705021849264_SEN_PWH-8376_2024-05-03_08-08-38_1039-001.XML\"\n",
    "vector_path = \"/work/CAMPUS/users/malinoro/ETUDES/Glacier/DEM/Graasubreen.shp\"\n",
    "\n",
    "margin = 3000 # pixels"
   ]
  },
  {
   "cell_type": "code",
   "execution_count": null,
   "id": "28d67c44-1df1-43ed-bd5c-5130e4be9d4d",
   "metadata": {
    "tags": []
   },
   "outputs": [],
   "source": [
    "rpc = GeoModel(rpc_path,  geomodel_type=\"RPC\")\n",
    "dtm_read = dtm_reader(output_path)\n",
    "dtm = DTMIntersection(dtm_read.epsg, dtm_read.alt_data, dtm_read.nb_rows, dtm_read.nb_columns, dtm_read.transform)\n",
    "loc = Localization(rpc, dtm)"
   ]
  },
  {
   "cell_type": "code",
   "execution_count": null,
   "id": "f9eccc9e-11d7-4b15-8860-9ebe346da140",
   "metadata": {
    "tags": []
   },
   "outputs": [],
   "source": [
    "polys = []\n",
    "vec_file = fiona.open(vector_path, \"r\")\n",
    "for feat in vec_file:\n",
    "    polys.append(shape(feat[\"geometry\"]))\n",
    "minx, miny, maxx, maxy = polys[0].bounds\n",
    "\n",
    "row_max, col_max = np.floor(rpc.rowmax).astype(int), np.floor(rpc.colmax).astype(int)\n",
    "ulx, uly, lrx, lry = col_max, row_max, 0, 0\n",
    "for lon in [minx, maxx]:\n",
    "    for lat in  [miny, maxy]:\n",
    "        row, col = loc.inverse(lon, lat)[0:2]\n",
    "        ulx = min(ulx, np.floor(col)[0].astype(int))\n",
    "        uly = min(uly, np.floor(row)[0].astype(int))\n",
    "        \n",
    "        lrx = max(lrx, np.ceil(col)[0].astype(int))\n",
    "        lry = max(lry, np.ceil(row)[0].astype(int))\n",
    "        \n",
    "tmp = f\"\"\"({ulx}, {uly}) --------> x\n",
    " | \n",
    " | \n",
    " | \n",
    " |\n",
    " ▼                ({lrx}, {lry})\n",
    "\"\"\"\n",
    "print(tmp)"
   ]
  },
  {
   "cell_type": "code",
   "execution_count": null,
   "id": "058a19b8-c797-4952-add1-28609f944b46",
   "metadata": {
    "tags": []
   },
   "outputs": [],
   "source": [
    "otb_ulx = max(ulx-margin, 0)\n",
    "otb_uly = max(uly-margin, 0)\n",
    "\n",
    "otb_lrx = min(lrx+margin, col_max)\n",
    "otb_lry = min(lry+margin, row_max)\n",
    "\n",
    "print(f\"otbcli_ExtractROI -mode extent -mode.extent.ulx {otb_ulx} -mode.extent.uly {otb_uly} -mode.extent.lrx {otb_lrx} -mode.extent.lry {otb_lry} -in -out \")"
   ]
  }
 ],
 "metadata": {
  "kernelspec": {
   "display_name": "venv_cars_trex",
   "language": "python",
   "name": "venv_cars_trex"
  },
  "language_info": {
   "codemirror_mode": {
    "name": "ipython",
    "version": 3
   },
   "file_extension": ".py",
   "mimetype": "text/x-python",
   "name": "python",
   "nbconvert_exporter": "python",
   "pygments_lexer": "ipython3",
   "version": "3.8.13"
  }
 },
 "nbformat": 4,
 "nbformat_minor": 5
}
