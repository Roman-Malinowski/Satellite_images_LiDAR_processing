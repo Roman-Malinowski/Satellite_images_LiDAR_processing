{
 "cells": [
  {
   "cell_type": "code",
   "execution_count": null,
   "id": "27705f9c-73c8-454d-a903-10e7fff292f9",
   "metadata": {
    "tags": []
   },
   "outputs": [],
   "source": [
    "from datetime import datetime, timedelta\n",
    "import os\n",
    "import sys\n",
    "\n",
    "import numpy as np\n",
    "import pandas as pd\n",
    "import laspy"
   ]
  },
  {
   "cell_type": "code",
   "execution_count": null,
   "id": "4a907c40-a39e-4105-9333-95440ab699e9",
   "metadata": {
    "tags": []
   },
   "outputs": [],
   "source": [
    "root = \"/work/CAMPUS/etudes/3D/Development/malinoro/LiDAR_HD/Toulouse\"\n",
    "\n",
    "list_laz = [laz_file for laz_file in os.listdir(root) if laz_file[-4:]==\".laz\"]\n",
    "len(list_laz)"
   ]
  },
  {
   "cell_type": "markdown",
   "id": "386aec53-7c73-4d42-8929-13d469c41e0b",
   "metadata": {},
   "source": [
    "# Acquisition time\n",
    "The documentation (https://geoservices.ign.fr/sites/default/files/2023-10/DC_LiDAR_HD_1-0_PTS.pdf Section 2.2.12) states that:\n",
    "\n",
    "\"La valeur du temps (gps_time) du point correspond au nombre de seconde écoulées depuis le\n",
    "14/09/2011 à 00:00:00 UTC\""
   ]
  },
  {
   "cell_type": "code",
   "execution_count": null,
   "id": "ce745cd5-f326-404d-b6d5-df46f86e8a66",
   "metadata": {
    "tags": []
   },
   "outputs": [],
   "source": [
    "source_time = datetime(2011, 9, 14, 0, 0, 0)\n",
    "n_laz = len(list_laz)\n",
    "\n",
    "df = pd.DataFrame(columns=[\"laz_file\", \"point_count\", \"min_time\", \"max_time\", \"med_time\"])\n",
    "\n",
    "for i, laz_file in enumerate(list_laz):\n",
    "    print(f\"\\rReading {i+1}/{n_laz} laz file\", end=\"\")\n",
    "    laz = laspy.read(os.path.join(root, laz_file))\n",
    "    # list(laz_1.point_format.dimension_names)\n",
    "    pc = laz.header.point_count\n",
    "    \n",
    "    min_delta = np.min(laz['gps_time'])\n",
    "    max_delta = np.max(laz['gps_time'])\n",
    "    med_delta = np.median(laz['gps_time'])\n",
    "    \n",
    "    min_time = source_time + timedelta(seconds=np.floor(min_delta))\n",
    "    max_time = source_time + timedelta(seconds=np.ceil(max_delta))\n",
    "    med_time = source_time + timedelta(seconds=np.ceil(med_delta))\n",
    "    \n",
    "    df.loc[i, [\"laz_file\", \"point_count\", \"min_time\", \"max_time\", \"med_time\"]] = [laz_file, pc, min_time, max_time, med_time]"
   ]
  },
  {
   "cell_type": "markdown",
   "id": "71f29b40-c4f6-4793-aa99-da92f9fb7462",
   "metadata": {},
   "source": [
    "# Aggregate CSV"
   ]
  },
  {
   "cell_type": "code",
   "execution_count": null,
   "id": "ea7b8bc6-795a-412a-aad5-f667abf032fa",
   "metadata": {
    "tags": []
   },
   "outputs": [],
   "source": [
    "cols = [\"laz_file\", \"point_count\", \"min_time\", \"max_time\", \"med_time\", \"med_x\", \"med_y\", \"min_x\", \"min_y\", \"max_x\", \"max_y\"]\n",
    "df = pd.DataFrame(columns=cols)\n",
    "\n",
    "for i, laz_file in enumerate(list_laz):\n",
    "    df_tmp = pd.read_csv(os.path.join(root, \"csv_data\", laz_file + \".csv\"), index_col=0)\n",
    "    df.loc[i, cols] = df_tmp.loc[0, cols]\n",
    "df.set_index(\"laz_file\", inplace=True)"
   ]
  },
  {
   "cell_type": "code",
   "execution_count": null,
   "id": "bc2ddca9-3915-4c08-885a-81b5742b838c",
   "metadata": {
    "tags": []
   },
   "outputs": [],
   "source": [
    "df[\"med_time\"].astype('datetime64[ns]').quantile(0.5, interpolation=\"midpoint\")"
   ]
  },
  {
   "cell_type": "markdown",
   "id": "fb6ed254-bd47-440e-9fed-4ac8d3d6454e",
   "metadata": {},
   "source": [
    "# Fuse LAZ"
   ]
  },
  {
   "cell_type": "code",
   "execution_count": null,
   "id": "bfae3efc-813e-4c5d-aa06-a0d47851f13f",
   "metadata": {
    "tags": []
   },
   "outputs": [],
   "source": [
    "output_path = os.path.join(\"/work/CAMPUS/etudes/3D/Development/malinoro/LiDAR_HD/\", \"Ernest_Wallon.laz\")\n",
    "list_files = [\"LHD_FXX_0572_6282_PTS_C_LAMB93_IGN69.copc.laz\", \"LHD_FXX_0571_6282_PTS_C_LAMB93_IGN69.copc.laz\"]\n",
    "[k in list_laz for k in list_files]"
   ]
  },
  {
   "cell_type": "code",
   "execution_count": null,
   "id": "9c2e1d17-2f71-4cff-8479-61ed30f3e38f",
   "metadata": {
    "tags": []
   },
   "outputs": [],
   "source": [
    "from laspy import CopcReader\n",
    "\n",
    "scales = None\n",
    "offsets = None\n",
    "mode = \"w\"\n",
    "\n",
    "crdr = CopcReader.open(os.path.join(root, list_files[0])).header\n",
    "new_header = laspy.LasHeader(version=crdr.version, point_format=crdr.point_format) #Creating a header wich is not COPC\n",
    "print(new_header.point_count)\n",
    "total_point_count = 0\n",
    "for file in list_files:\n",
    "    print(file)\n",
    "    with CopcReader.open(os.path.join(root, file)) as laz_to_add:\n",
    "        if scales is None:\n",
    "            scales = laz_to_add.header.scales\n",
    "            offsets = laz_to_add.header.offsets\n",
    "        elif (scales != laz_to_add.header.scales).any() or (offsets != laz_to_add.header.offsets).any():\n",
    "            raise RuntimeError(f\"Scales or offsets are not consistent between laz files\\nScales: {scales}  vs {laz_to_add.header.scales}\\nOffsets: {offsets} | {laz_to_add.header.offsets}\")\n",
    "        points = laz_to_add.query()  # Query all points\n",
    "\n",
    "    with laspy.open(output_path, mode=mode, header=new_header) as out:\n",
    "        if mode==\"w\":\n",
    "            out.write_points(points)\n",
    "            mode = \"a\"\n",
    "        else:\n",
    "            out.append_points(points)"
   ]
  },
  {
   "cell_type": "code",
   "execution_count": null,
   "id": "c07db806-56d8-4013-ba05-db8e12912e29",
   "metadata": {
    "tags": []
   },
   "outputs": [],
   "source": [
    "laz_to_add = laspy.read(output_path)\n",
    "laz_to_add.header.point_count"
   ]
  },
  {
   "cell_type": "code",
   "execution_count": null,
   "id": "dd954394-0383-455d-8b39-da32aa8db23f",
   "metadata": {
    "tags": []
   },
   "outputs": [],
   "source": [
    "print(df.loc[list_files][\"point_count\"].sum())\n",
    "df.loc[list_files]"
   ]
  },
  {
   "cell_type": "code",
   "execution_count": null,
   "id": "a38aec85-4dfb-4864-a923-5447374247e8",
   "metadata": {
    "tags": []
   },
   "outputs": [],
   "source": [
    "points"
   ]
  },
  {
   "cell_type": "code",
   "execution_count": null,
   "id": "171c3057-48e5-410c-946f-7abe2204354a",
   "metadata": {
    "tags": []
   },
   "outputs": [],
   "source": [
    "laz_to_add.header.max_point_count()"
   ]
  },
  {
   "cell_type": "code",
   "execution_count": null,
   "id": "bc2821ac-cecd-461d-9a6d-809be0b2033c",
   "metadata": {
    "tags": []
   },
   "outputs": [],
   "source": [
    "points"
   ]
  },
  {
   "cell_type": "code",
   "execution_count": null,
   "id": "cccd3787-8431-4561-9fdb-7e35d88e9e0f",
   "metadata": {
    "tags": []
   },
   "outputs": [],
   "source": [
    "print(new_header.vlrs)"
   ]
  },
  {
   "cell_type": "code",
   "execution_count": null,
   "id": "f9afb946-2010-42e6-aca3-38f48ab90887",
   "metadata": {
    "tags": []
   },
   "outputs": [],
   "source": [
    "new_header"
   ]
  },
  {
   "cell_type": "code",
   "execution_count": null,
   "id": "e2b539f7-9770-4af5-b024-fd72f95977d9",
   "metadata": {},
   "outputs": [],
   "source": []
  }
 ],
 "metadata": {
  "kernelspec": {
   "display_name": "venv_cars_trex",
   "language": "python",
   "name": "venv_cars_trex"
  },
  "language_info": {
   "codemirror_mode": {
    "name": "ipython",
    "version": 3
   },
   "file_extension": ".py",
   "mimetype": "text/x-python",
   "name": "python",
   "nbconvert_exporter": "python",
   "pygments_lexer": "ipython3",
   "version": "3.8.4"
  }
 },
 "nbformat": 4,
 "nbformat_minor": 5
}
