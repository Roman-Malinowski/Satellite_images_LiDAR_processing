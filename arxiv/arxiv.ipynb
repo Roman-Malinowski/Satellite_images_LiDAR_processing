{
 "cells": [
  {
   "cell_type": "code",
   "execution_count": null,
   "id": "c653e6dd-e1c3-472f-90ac-6213bf1ffda2",
   "metadata": {
    "tags": []
   },
   "outputs": [],
   "source": [
    "import re"
   ]
  },
  {
   "cell_type": "code",
   "execution_count": null,
   "id": "c0826954-1a77-4b84-acf6-5ac056c36d80",
   "metadata": {
    "tags": []
   },
   "outputs": [],
   "source": [
    "def color_keyword(match):\n",
    "    return f\"\\033[102m{match.group(0)}\\033[00m\"\n",
    "\n",
    "def color_title(match, color=105):\n",
    "    return f\"{match.group(0)}\\033[{color}m\"\n",
    "\n",
    "def process_articles(message, keywords):\n",
    "    pattern = \"|\".join(keywords)\n",
    "    dict_kw = {key: [] for key in keywords}\n",
    "    articles = list(re.finditer(r\"\\nTitle\\: \", message))\n",
    "    \n",
    "    for i in range(len(articles)):\n",
    "        if i == len(articles) - 1:\n",
    "            article = message[articles[i].start():]\n",
    "        else:\n",
    "            article = message[articles[i].start():articles[i+1].start()]\n",
    "        kw = re.findall(pattern, article, flags=re.IGNORECASE)\n",
    "        if len(kw)==0:\n",
    "            continue\n",
    "        \n",
    "        article = re.sub(pattern, color_keyword, article, flags=re.IGNORECASE)\n",
    "        title = article[:list(re.finditer(r\"\\nAuthors\\: \", article))[0].start()]\n",
    "        title = re.sub(\" +\", \" \", title)\n",
    "        title = re.sub(r\"\\n \", r\"\\n\", title)\n",
    "        title = f\"\\033[105m{title}\\033[00m\"\n",
    "        title = re.sub(\"(?<=\\\\033\\[102m).*?\\\\033\\[00m\", color_title, title, flags=re.IGNORECASE)\n",
    "        \n",
    "\n",
    "        url = list(re.finditer(\"https\\:\\/\\/arxiv\\.org\\/.*?(?= ,  )\", article))[0]\n",
    "        url = article[url.start():url.end()]\n",
    "\n",
    "        abstract = list(re.finditer(r\"\\n\\\\\\\\\\n  \", article))\n",
    "        if len(abstract)==0:\n",
    "            abstract = \"\"\n",
    "        else:\n",
    "            abstract = article[abstract[0].end():list(re.finditer(r\"\\n\\\\\\\\ \\( \", article))[0].start()]\n",
    "            abstract = re.sub(\" +\", \" \", abstract)\n",
    "            abstract = re.sub(r\"\\n \", r\"\\n\", abstract)\n",
    "            \n",
    "        flag_break = False\n",
    "        for key in keywords:\n",
    "            flag_break\n",
    "            for k in kw:\n",
    "                if re.search(key, k, flags=re.IGNORECASE) is not None:\n",
    "                    dict_kw[key] += [{\"title\": title, \"abstract\": abstract, \"url\": url}]\n",
    "                    flag_break = True\n",
    "                    break\n",
    "            if flag_break:\n",
    "                break\n",
    "    \n",
    "    for key in keywords:\n",
    "        if len(dict_kw[key]) == 0:\n",
    "            print(f\"\\033[101m{key}\\033[00m: None\")\n",
    "        else:\n",
    "            print(f\"\\033[101m{key}\\033[00m\")\n",
    "            for article in dict_kw[key]:\n",
    "                print(\"\\n\".join([\"\\033[100m\"+article['title']+\"\\033[00m\", article['abstract'], article['url'], \"\\n------------------------------------------------------------------------------\"]))\n",
    "    return dict_kw"
   ]
  },
  {
   "cell_type": "code",
   "execution_count": null,
   "id": "187a54e7-0aba-4d76-ba07-40f14e86362c",
   "metadata": {
    "tags": []
   },
   "outputs": [],
   "source": [
    "keywords = [\"Stereo\", \"Matching\", \"Multi.?view\", \"satellite\", \"Photogrammetry\", \"3D\", \"marriage\"]"
   ]
  },
  {
   "cell_type": "code",
   "execution_count": null,
   "id": "0ce4f0f9-8eac-4847-bc01-c53029cc8a4a",
   "metadata": {
    "tags": []
   },
   "outputs": [],
   "source": [
    "message = open(\"msg.txt\").read()\n",
    "dict_kw = process_articles(message, keywords)"
   ]
  },
  {
   "cell_type": "code",
   "execution_count": null,
   "id": "85c23364-2ea2-4521-818e-b9d7e930ce67",
   "metadata": {},
   "outputs": [],
   "source": []
  }
 ],
 "metadata": {
  "kernelspec": {
   "display_name": "venv_misc",
   "language": "python",
   "name": "venv_misc"
  },
  "language_info": {
   "codemirror_mode": {
    "name": "ipython",
    "version": 3
   },
   "file_extension": ".py",
   "mimetype": "text/x-python",
   "name": "python",
   "nbconvert_exporter": "python",
   "pygments_lexer": "ipython3",
   "version": "3.8.4"
  }
 },
 "nbformat": 4,
 "nbformat_minor": 5
}
