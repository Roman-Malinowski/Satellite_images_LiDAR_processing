{
 "cells": [
  {
   "cell_type": "code",
   "execution_count": null,
   "id": "27705f9c-73c8-454d-a903-10e7fff292f9",
   "metadata": {
    "tags": []
   },
   "outputs": [],
   "source": [
    "from datetime import datetime, timedelta\n",
    "import os\n",
    "import sys\n",
    "\n",
    "import numpy as np\n",
    "import pandas as pd\n",
    "import laspy\n",
    "import rasterio\n",
    "\n",
    "import cars_rasterize.las2tif as las2tif"
   ]
  },
  {
   "cell_type": "markdown",
   "id": "386aec53-7c73-4d42-8929-13d469c41e0b",
   "metadata": {},
   "source": [
    "# Acquisition time\n",
    "The documentation (https://geoservices.ign.fr/sites/default/files/2023-10/DC_LiDAR_HD_1-0_PTS.pdf Section 2.2.12) states that:\n",
    "\n",
    "\"La valeur du temps (gps_time) du point correspond au nombre de seconde écoulées depuis le\n",
    "14/09/2011 à 00:00:00 UTC\""
   ]
  },
  {
   "cell_type": "markdown",
   "id": "dc07157a-ccb8-4f14-bce9-e332b3e7a727",
   "metadata": {},
   "source": [
    "### Single laz file"
   ]
  },
  {
   "cell_type": "code",
   "execution_count": null,
   "id": "5fcdcab1-805f-4f8f-b91b-9608809c2c53",
   "metadata": {},
   "outputs": [],
   "source": [
    "laz_file = \"/path/to/my/point_cloud_1.laz\""
   ]
  },
  {
   "cell_type": "code",
   "execution_count": null,
   "id": "ce745cd5-f326-404d-b6d5-df46f86e8a66",
   "metadata": {
    "tags": []
   },
   "outputs": [],
   "source": [
    "source_time = datetime(2011, 9, 14, 0, 0, 0)\n",
    "\n",
    "df = pd.DataFrame(columns=[\"laz_file\", \"point_count\", \"min_time\", \"max_time\", \"med_time\"])\n",
    "laz = laspy.read(laz_file)\n",
    "# list(laz_1.point_format.dimension_names)\n",
    "pc = laz.header.point_count\n",
    "\n",
    "min_delta = np.min(laz['gps_time'])\n",
    "max_delta = np.max(laz['gps_time'])\n",
    "med_delta = np.median(laz['gps_time'])\n",
    "\n",
    "min_time = source_time + timedelta(seconds=np.floor(min_delta))\n",
    "max_time = source_time + timedelta(seconds=np.ceil(max_delta))\n",
    "med_time = source_time + timedelta(seconds=np.ceil(med_delta))\n",
    "\n",
    "df.loc[0, [\"laz_file\", \"point_count\", \"min_time\", \"max_time\", \"med_time\"]] = [laz_file, pc, min_time, max_time, med_time]\n",
    "df"
   ]
  },
  {
   "cell_type": "markdown",
   "id": "71f29b40-c4f6-4793-aa99-da92f9fb7462",
   "metadata": {},
   "source": [
    "### Aggregate CSV files\n",
    "\n",
    "This part reads the .csv files created by compute_laz_date.py to display stats on all .laz"
   ]
  },
  {
   "cell_type": "code",
   "execution_count": null,
   "id": "abc6debf-820b-4cc5-8490-713452f88eed",
   "metadata": {},
   "outputs": [],
   "source": [
    "list_csv = [\"/path/to/my/point_cloud_1.laz.csv\", \"/path/to/my/point_cloud_2.laz.csv\"]"
   ]
  },
  {
   "cell_type": "code",
   "execution_count": null,
   "id": "ea7b8bc6-795a-412a-aad5-f667abf032fa",
   "metadata": {
    "tags": []
   },
   "outputs": [],
   "source": [
    "cols = [\"laz_file\", \"point_count\", \"min_time\", \"max_time\", \"med_time\", \"med_x\", \"med_y\", \"min_x\", \"min_y\", \"max_x\", \"max_y\"]\n",
    "df = pd.DataFrame(columns=cols)\n",
    "\n",
    "for i, csv_file in enumerate(list_csv):\n",
    "    df_tmp = pd.read_csv(csv_file, index_col=0)\n",
    "    df.loc[i, cols] = df_tmp.loc[0, cols]\n",
    "df.set_index(\"laz_file\", inplace=True)\n",
    "df"
   ]
  },
  {
   "cell_type": "code",
   "execution_count": null,
   "id": "bc2ddca9-3915-4c08-885a-81b5742b838c",
   "metadata": {
    "tags": []
   },
   "outputs": [],
   "source": [
    "df[\"med_time\"].astype('datetime64[ns]').quantile(0.5, interpolation=\"midpoint\")"
   ]
  },
  {
   "cell_type": "markdown",
   "id": "fb6ed254-bd47-440e-9fed-4ac8d3d6454e",
   "metadata": {},
   "source": [
    "# Fuse LAZ"
   ]
  },
  {
   "cell_type": "code",
   "execution_count": null,
   "id": "41cea58b-58e1-4699-8327-d9ca932f4438",
   "metadata": {
    "tags": []
   },
   "outputs": [],
   "source": [
    "import warnings\n",
    "\n",
    "from laspy import CopcReader\n",
    "from pyproj.crs import CRS"
   ]
  },
  {
   "cell_type": "code",
   "execution_count": null,
   "id": "bfae3efc-813e-4c5d-aa06-a0d47851f13f",
   "metadata": {
    "tags": []
   },
   "outputs": [],
   "source": [
    "list_files = [\n",
    "    \"/path/to/my/point_cloud_1.laz\",\n",
    "    \"/path/to/my/point_cloud_2.laz\"\n",
    "]\n",
    "output_laz_path = \"/path/to/my/full_point_cloud.laz\""
   ]
  },
  {
   "cell_type": "code",
   "execution_count": null,
   "id": "bb8fb554-dca7-4b09-9eb5-02e26c18d67a",
   "metadata": {
    "tags": []
   },
   "outputs": [],
   "source": [
    "def check_dimensions_consistency(list_files):\n",
    "    list_names = [k.name for k in CopcReader.open(list_files[0]).header.point_format.dimensions]\n",
    "    dims_to_remove = []\n",
    "\n",
    "    for file in list_files:\n",
    "        with CopcReader.open(file) as laz_to_add:\n",
    "            dimensions = [k.name for k in laz_to_add.header.point_format.dimensions]\n",
    "\n",
    "        dims_to_remove += [k for k in list_names if k not in dimensions]\n",
    "        dims_to_remove += [k for k in dimensions if k not in list_names]\n",
    "    return set(dims_to_remove)"
   ]
  },
  {
   "cell_type": "code",
   "execution_count": null,
   "id": "b63dcc0d-dc29-4e75-8db5-b0dd6193c618",
   "metadata": {
    "tags": []
   },
   "outputs": [],
   "source": [
    "dims_to_remove = check_dimensions_consistency(list_files)\n",
    "if len(dims_to_remove)>0:\n",
    "    warnings.warn(f\"Dimensions are not consistent accross LAZ files. We will ignore the following dimensions: {dims_to_remove}\")"
   ]
  },
  {
   "cell_type": "code",
   "execution_count": null,
   "id": "9c2e1d17-2f71-4cff-8479-61ed30f3e38f",
   "metadata": {
    "tags": []
   },
   "outputs": [],
   "source": [
    "scales = None\n",
    "offsets = None\n",
    "mode = \"w\"\n",
    "crs = CRS.from_epsg(2154)  # Lambert93\n",
    "points=None\n",
    "\n",
    "crdr = CopcReader.open(list_files[0]).header\n",
    "\n",
    "for dim in [k for k in dims_to_remove if k in list(crdr.point_format.dimension_names)]:\n",
    "    crdr.point_format.remove_extra_dimension(dim)\n",
    "    \n",
    "new_header = laspy.LasHeader(version=crdr.version, point_format=crdr.point_format) # Creating a header wich is not COPC\n",
    "new_header.add_crs(crs)\n",
    "for file in list_files:\n",
    "    print(\"Reading\", file)\n",
    "    laz_to_add = laspy.read(file) \n",
    "    if scales is None:\n",
    "        scales = laz_to_add.header.scales\n",
    "        offsets = laz_to_add.header.offsets\n",
    "    elif (scales != laz_to_add.header.scales).any() or (offsets != laz_to_add.header.offsets).any():\n",
    "        raise RuntimeError(f\"Scales or offsets are not consistent between laz files\\nScales: {scales}  vs {laz_to_add.header.scales}\\nOffsets: {offsets} | {laz_to_add.header.offsets}\")\n",
    "\n",
    "    dims_to_remove_file = [k for k in dims_to_remove if k in list(laz_to_add.point_format.dimension_names)]\n",
    "    if len(dims_to_remove_file) > 0:\n",
    "        laz_to_add.remove_extra_dims(dims_to_remove_file)\n",
    "\n",
    "    with laspy.open(output_laz_path, mode=mode, header=new_header) as out:\n",
    "        if mode==\"w\":\n",
    "            out.write_points(laz_to_add.points)\n",
    "            mode = \"a\"\n",
    "        else:\n",
    "            out.append_points(laz_to_add.points)"
   ]
  },
  {
   "cell_type": "markdown",
   "id": "3f36e522-6fb7-4102-9ba1-56afed056d7d",
   "metadata": {},
   "source": [
    "# Rasterize"
   ]
  },
  {
   "cell_type": "code",
   "execution_count": null,
   "id": "56ec11a2-f7b8-4093-8c6f-48dd1ffb3284",
   "metadata": {
    "tags": []
   },
   "outputs": [],
   "source": [
    "output_laz_path = \"/path/to/my/full_point_cloud.laz\"\n",
    "output_tif_path = \"/path/to/my/rasterized_dsm.tif\""
   ]
  },
  {
   "cell_type": "code",
   "execution_count": null,
   "id": "c836123e-bb6e-42be-bd2c-8b2ffd3c545a",
   "metadata": {},
   "outputs": [],
   "source": [
    "las2tif.main(output_laz_path, output_tif_path, resolution=0.5, radius=3, sigma=0.3)"
   ]
  },
  {
   "cell_type": "code",
   "execution_count": null,
   "id": "73786028-ba1f-4554-91d3-fb15deaf0fba",
   "metadata": {
    "tags": []
   },
   "outputs": [],
   "source": [
    "# Checking if CRS is correct and nodata is not NaN\n",
    "flag_write = False\n",
    "dsm_reader = rasterio.open(output_tif_path)\n",
    "with rasterio.Env():\n",
    "    profile = dsm_reader.profile\n",
    "    if (profile[\"crs\"] is None) or ~(profile[\"crs\"].equals(rasterio.crs.CRS.from_epsg(2154))):\n",
    "        dsm = dsm_reader.read(1)\n",
    "        profile.update(crs=rasterio.crs.CRS.from_epsg(2154))\n",
    "        flag_write = True\n",
    "    if profile[\"nodata\"] == \"nan\":\n",
    "        dsm = dsm_reader.read(1)\n",
    "        dsm[np.isnan(dsm)] = -32768\n",
    "        profile.update(nodata=-32768.0)\n",
    "        flag_write = True\n",
    "    if flag_write:\n",
    "        with rasterio.open(output_tif_path, 'w', **profile) as dst:\n",
    "            dst.write(dsm.astype(profile[\"dtype\"]), 1)"
   ]
  }
 ],
 "metadata": {
  "kernelspec": {
   "display_name": "venv_cars_trex",
   "language": "python",
   "name": "venv_cars_trex"
  },
  "language_info": {
   "codemirror_mode": {
    "name": "ipython",
    "version": 3
   },
   "file_extension": ".py",
   "mimetype": "text/x-python",
   "name": "python",
   "nbconvert_exporter": "python",
   "pygments_lexer": "ipython3",
   "version": "3.8.4"
  }
 },
 "nbformat": 4,
 "nbformat_minor": 5
}
