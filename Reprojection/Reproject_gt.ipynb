{
 "cells": [
  {
   "cell_type": "code",
   "execution_count": null,
   "id": "5f7a1412-22cc-4eae-a4f8-2572ce2a1d6f",
   "metadata": {
    "tags": []
   },
   "outputs": [],
   "source": [
    "import os\n",
    "\n",
    "import matplotlib.pyplot as plt\n",
    "import numpy as np\n",
    "from numpy.lib.stride_tricks import sliding_window_view\n",
    "from numba import njit, prange\n",
    "import otbApplication\n",
    "import rasterio\n",
    "from rasterio.warp import calculate_default_transform, reproject, Resampling\n",
    "from scipy import ndimage"
   ]
  },
  {
   "cell_type": "markdown",
   "id": "856674ba-7542-4a5f-bdf0-248b5557c7f1",
   "metadata": {},
   "source": [
    "# Guidelines\n",
    "This small notebook aims to convert a raster (Ground Truth in my case) so that it can be compared cell by cell to another raster.\n",
    "\n",
    "The final rasters will have the same coordinate system, raster size and cell size.\n",
    "\n",
    "What we do in this notebook:\n",
    "* Crop the DSM\n",
    "* Load the rasters and their metadata\n",
    "* Reproject them in the same coordinate system\n",
    "* Resample the nodata mask to the desired size and filter it (because some artefacts appear on NaN)\n",
    "* Fill the nodata holes from the raster and resample it to the desized size\n",
    "* Apply the resampled nodata mask to the resampled raster\n",
    "\n",
    "Voilà !"
   ]
  },
  {
   "cell_type": "markdown",
   "id": "6c025367-0fa7-49fd-975c-096b88438cbf",
   "metadata": {},
   "source": [
    "# Extracting the ROI"
   ]
  },
  {
   "cell_type": "markdown",
   "id": "71db9a7a-3f9c-4ff5-8a1c-59ecc5264fee",
   "metadata": {},
   "source": [
    "In the following example, the ground truth DSM is larger than the CARS DSM"
   ]
  },
  {
   "cell_type": "code",
   "execution_count": null,
   "id": "794c8f29-c3de-419b-8a7e-a27542163d5a",
   "metadata": {
    "tags": []
   },
   "outputs": [],
   "source": [
    "dsm_gt = \"/work/CAMPUS/etudes/3D/Development/malinoro/Glacier/DEM/peyto_20160913_1x1_medfilt-median-DEM.tif\"\n",
    "dsm_gt_cropped = \"/work/CAMPUS/etudes/3D/Development/malinoro/CARS_output/Peyto_ROI/peyto_20160913_1x1_medfilt-median-DEM.tif\"\n",
    "\n",
    "reference_raster = \"/work/CAMPUS/users/cuervog/git/cars/images/Peyto/Peyto_ROI_Gab/Peyto_ROI/extract_dsm.tif\""
   ]
  },
  {
   "cell_type": "code",
   "execution_count": null,
   "id": "21836ca3-674b-4c6c-b6d4-3de57f7f1ce9",
   "metadata": {},
   "outputs": [],
   "source": [
    "app = otbApplication.Registry.CreateApplication(\"ExtractROI\")\n",
    "\n",
    "app.SetParameterString(\"in\", dsm_gt)\n",
    "app.SetParameterString(\"mode\",\"fit\")\n",
    "app.SetParameterString(\"mode.fit.im\", reference_raster)\n",
    "app.SetParameterString(\"out\", dsm_gt_cropped)"
   ]
  },
  {
   "cell_type": "code",
   "execution_count": null,
   "id": "5c6c6aee-090f-494a-a161-c94bff54782a",
   "metadata": {
    "tags": []
   },
   "outputs": [],
   "source": [
    "app.ExecuteAndWriteOutput()"
   ]
  },
  {
   "cell_type": "markdown",
   "id": "82921733-29f2-4465-ab5c-ed792c3053e8",
   "metadata": {},
   "source": [
    "# Reading the Data and Metadata"
   ]
  },
  {
   "cell_type": "code",
   "execution_count": null,
   "id": "2f331494-969b-463d-93e5-8ee62661124a",
   "metadata": {},
   "outputs": [],
   "source": [
    "with rasterio.open(reference_raster, \"r\") as f:\n",
    "    dsm_profile = f.profile\n",
    "    dsm_bounds = f.bounds\n",
    "    print(dsm_profile)\n",
    "    dsm_array = f.read(1)\n",
    "    dsm_array[dsm_array==dsm_profile[\"nodata\"]] = np.nan\n",
    "    \n",
    "\n",
    "with rasterio.open(dsm_gt_cropped) as f:\n",
    "    gt_profile = f.profile\n",
    "    gt_bounds = f.bounds\n",
    "    gt_meta = f.meta\n",
    "    print(gt_profile)\n",
    "    gt = f.read(1)"
   ]
  },
  {
   "cell_type": "markdown",
   "id": "d2fcb0b2-5902-41ff-aba3-1314ed9dd558",
   "metadata": {},
   "source": [
    "# Reprojecting the GT"
   ]
  },
  {
   "cell_type": "code",
   "execution_count": null,
   "id": "9cdb58f9-2306-4c73-a605-1f8b986784bc",
   "metadata": {},
   "outputs": [],
   "source": [
    "transform, width, height = calculate_default_transform(\n",
    "    gt_profile[\"crs\"], dsm_profile[\"crs\"], gt_profile[\"width\"], gt_profile[\"height\"], *gt_bounds)\n",
    "kwargs = gt_meta.copy()\n",
    "kwargs.update({\n",
    "    'crs': dsm_profile[\"crs\"],\n",
    "    'transform': transform,\n",
    "    'width': width,\n",
    "    'height': height\n",
    "})\n",
    "\n",
    "gt_reprojected, gt_transform = reproject(source=gt,\n",
    "                                       src_transform=gt_profile[\"transform\"],\n",
    "                                       src_crs=gt_profile[\"crs\"],\n",
    "                                       dst_crs=dsm_profile[\"crs\"],\n",
    "                                       resampling=Resampling.nearest)\n",
    "gt_reprojected = gt_reprojected[0]\n",
    "gt_reprojected[gt_reprojected==gt_profile[\"nodata\"]] = np.nan\n",
    "gt[gt==gt_profile[\"nodata\"]] = np.nan"
   ]
  },
  {
   "cell_type": "code",
   "execution_count": null,
   "id": "295a871e-d5a5-452f-a5b6-52eb8b73f16d",
   "metadata": {
    "tags": []
   },
   "outputs": [],
   "source": [
    "np.unique(gt_reprojected)"
   ]
  },
  {
   "cell_type": "markdown",
   "id": "3cd27193-1237-4817-90c5-26b6b47c9a75",
   "metadata": {},
   "source": [
    "# Computing the pixel size ratios"
   ]
  },
  {
   "cell_type": "code",
   "execution_count": null,
   "id": "af02a0c7-bf82-476d-b49f-ab89af69b786",
   "metadata": {},
   "outputs": [],
   "source": [
    "ratio_x, ratio_y = dsm_profile[\"height\"] / gt_profile[\"height\"], dsm_profile[\"width\"] / gt_profile[\"width\"]\n",
    "ratio_x, ratio_y"
   ]
  },
  {
   "cell_type": "code",
   "execution_count": null,
   "id": "147bf57a-2572-480e-bad2-538b84728ded",
   "metadata": {},
   "outputs": [],
   "source": [
    "fig = plt.figure(figsize=(10,5))\n",
    "ax = fig.add_subplot(121)\n",
    "ax.imshow(dsm_array)\n",
    "ax.grid(False)\n",
    "ax.set_title(\"CARS DSM\")\n",
    "\n",
    "ax = fig.add_subplot(122)\n",
    "ax.imshow(gt_reprojected)\n",
    "ax.set_title(\"Reprojected GT\")\n",
    "ax.grid(False)"
   ]
  },
  {
   "cell_type": "markdown",
   "id": "a467af2e-2ea5-49ee-acc5-cae0a934c013",
   "metadata": {},
   "source": [
    "# Creating and projecting a NaN mask for the final result"
   ]
  },
  {
   "cell_type": "code",
   "execution_count": null,
   "id": "68ab6d19-f32d-481b-ba6f-a072276a95f3",
   "metadata": {},
   "outputs": [],
   "source": [
    "\"\"\"TODO adapter la taille du kernel au ratio x,y\"\"\"\n",
    "gt_mask = np.isnan(gt_reprojected)\n",
    "result_mask = ndimage.zoom(gt_mask, (ratio_x, ratio_y), order=0)\n",
    "\n",
    "#kernel_size = (5, 5)\n",
    "kernel_size = (1,1)\n",
    "result_mask_view = sliding_window_view(np.pad(result_mask, pad_width=[(kernel_size[0]//2, kernel_size[0]//2), (kernel_size[1]//2, kernel_size[1]//2)], mode=\"edge\"), kernel_size)\n",
    "filtered_result = np.any(result_mask_view, axis=(2,3))"
   ]
  },
  {
   "cell_type": "code",
   "execution_count": null,
   "id": "594e5d97-61d2-457b-8d43-3ec52c45dd01",
   "metadata": {
    "tags": []
   },
   "outputs": [],
   "source": [
    "print(\"SRC shape:\", result_mask.shape)\n",
    "print(\"GT shape:\", gt_mask.shape)"
   ]
  },
  {
   "cell_type": "code",
   "execution_count": null,
   "id": "a64bc65f-2623-45ea-9c21-34db4298e2ab",
   "metadata": {},
   "outputs": [],
   "source": [
    "print(\"Adjust the zoom figure to see if the kernel size is correct\")\n",
    "left_src, right_src, bottom_src, top_src = 3400, 3600, 4600, 4400\n",
    "left_gt, right_gt, bottom_gt, top_gt  = 1700, 1800, 2300, 2200\n",
    "\n",
    "fig = plt.figure(figsize=(20, 14))\n",
    "\n",
    "ax = fig.add_subplot(231)\n",
    "im_1 = np.zeros(gt_mask.shape+(4,), dtype=int)\n",
    "im_1[gt_mask] = (255, 0, 0, 255)\n",
    "ax.imshow(im_1)\n",
    "ax.set_title(\"No Data GT\")\n",
    "ax.grid(False)\n",
    "\n",
    "ax = fig.add_subplot(232)\n",
    "im_2 = np.zeros(result_mask.shape+(4,), dtype=int)\n",
    "im_2[result_mask] = (255, 0, 0, 255)\n",
    "ax.imshow(im_2)\n",
    "ax.set_title(\"No Data after resampling\")\n",
    "ax.grid(False)\n",
    "\n",
    "ax = fig.add_subplot(233)\n",
    "im_3 = np.zeros(filtered_result.shape+(4,), dtype=int)\n",
    "im_3[filtered_result] = (255, 0, 0, 255)\n",
    "ax.imshow(im_3)\n",
    "ax.set_title(\"No Data after sampling, filtered\")\n",
    "ax.grid(False)\n",
    "\n",
    "ax = fig.add_subplot(234)\n",
    "im_1 = np.zeros(gt_mask.shape+(4,), dtype=int)\n",
    "im_1[gt_mask] = (255, 0, 0, 255)\n",
    "ax.imshow(im_1[top_gt:bottom_gt+1, left_gt:right_gt+1], extent=(left_gt, right_gt, bottom_gt, top_gt))\n",
    "ax.set_title(\"No Data GT\")\n",
    "ax.grid(False)\n",
    "\n",
    "ax = fig.add_subplot(235)\n",
    "im_2 = np.zeros(result_mask.shape+(4,), dtype=int)\n",
    "im_2[result_mask] = (255, 0, 0, 255)\n",
    "ax.imshow(im_2[top_src:bottom_src+1, left_src:right_src+1], extent=(left_src, right_src, bottom_src, top_src))\n",
    "ax.set_title(\"No Data after resampling\")\n",
    "ax.grid(False)\n",
    "\n",
    "ax = fig.add_subplot(236)\n",
    "im_3 = np.zeros(filtered_result.shape+(4,), dtype=int)\n",
    "im_3[filtered_result] = (255, 0, 0, 255)\n",
    "ax.imshow(im_3[top_src:bottom_src+1, left_src:right_src+1], extent=(left_src, right_src, bottom_src, top_src))\n",
    "ax.set_title(\"No Data after sampling, filtered\")\n",
    "ax.grid(False)"
   ]
  },
  {
   "cell_type": "markdown",
   "id": "1453aee8-220a-4ca9-8354-fb2872f1431f",
   "metadata": {},
   "source": [
    "# Filling the holes before resampling"
   ]
  },
  {
   "cell_type": "code",
   "execution_count": null,
   "id": "bc6654dc-a51d-4421-8cd2-dcd15e059564",
   "metadata": {},
   "outputs": [],
   "source": [
    "@njit(\"f4[:,:](f4[:,:])\", parallel=True)\n",
    "def expand_non_nans(array):\n",
    "    n_rows, n_cols = array.shape\n",
    "    array_out = np.copy(array)\n",
    "    for j in prange(n_cols):\n",
    "        if np.isnan(array[0, j]):\n",
    "            array_out[0, j] = array_out[1, j] \n",
    "        if np.isnan(array[n_rows - 1, j]):\n",
    "            array_out[n_rows - 1, j] = array_out[n_rows - 2, j]\n",
    "    for i in prange(n_rows):\n",
    "        if np.isnan(array[i, 0]):\n",
    "            array_out[i, 0] = array_out[i, 1]\n",
    "        if np.isnan(array[i, n_cols-1]):\n",
    "            array_out[i, n_cols-1] = array_out[i, n_cols-2]\n",
    "    \n",
    "    for i in prange(1, n_rows - 1):\n",
    "        for j in prange(1, n_cols - 1):\n",
    "            if np.isnan(array[i, j]):\n",
    "                array_out[i, j] = np.nanmean(np.array([array[i, j-1], array[i, j+1], array[i-1, j], array[i+1, j]]))\n",
    "    return array_out"
   ]
  },
  {
   "cell_type": "code",
   "execution_count": null,
   "id": "b503031c-1601-4946-bcb6-b4c4f907fe37",
   "metadata": {},
   "outputs": [],
   "source": [
    "# If there are NaN holes to big, this takes forever.\n",
    "# So we limit the number of iterations\n",
    "gt_copy = np.copy(gt_reprojected)\n",
    "\n",
    "iterations = 1\n",
    "while iterations <= 10:\n",
    "    print(f\"\\rBegining iter {iterations}\", end=\"\")\n",
    "    if ~(np.isnan(gt_copy).any()):\n",
    "        print(\"\\nNo more NaNs!\")\n",
    "        break\n",
    "    else:\n",
    "        gt_copy = expand_non_nans(gt_copy)\n",
    "    iterations += 1\n",
    "\n",
    "if iterations == 11:\n",
    "    print(\"\\nForcing rest of NaNs to 0\")\n",
    "    gt_copy[np.isnan(gt_copy)] = 0"
   ]
  },
  {
   "cell_type": "code",
   "execution_count": null,
   "id": "9802c3cc-96c6-457d-8d31-213c3912f9f6",
   "metadata": {},
   "outputs": [],
   "source": [
    "fig = plt.figure(figsize=(10,5))\n",
    "ax = fig.add_subplot(121)\n",
    "ax.imshow(gt_reprojected)\n",
    "ax.set_title(\"GT reprojected\")\n",
    "ax.grid(False)\n",
    "\n",
    "ax = fig.add_subplot(122)\n",
    "ax.imshow(gt_copy)\n",
    "ax.set_title(\"GT reprojected with filled holes\")\n",
    "ax.grid(False)"
   ]
  },
  {
   "cell_type": "markdown",
   "id": "14c69180-f310-400e-909f-fe0d5da9b5e4",
   "metadata": {},
   "source": [
    "# Resampling the reprojected images and masking NaN"
   ]
  },
  {
   "cell_type": "code",
   "execution_count": null,
   "id": "2994956b-97e9-4f88-afba-bd2caa5d1cbf",
   "metadata": {},
   "outputs": [],
   "source": [
    "gt_result = ndimage.zoom(gt_copy, (ratio_x, ratio_y), order=0)\n",
    "gt_result[filtered_result] = np.nan"
   ]
  },
  {
   "cell_type": "code",
   "execution_count": null,
   "id": "b830042b-78ea-42cd-9fff-d3d3dd4d702b",
   "metadata": {},
   "outputs": [],
   "source": [
    "fig = plt.figure(figsize=(20,10))\n",
    "ax = fig.add_subplot(131)\n",
    "ax.imshow(dsm_array)\n",
    "ax.set_title(f\"CARS DSM ({dsm_array.shape[0]} x {dsm_array.shape[1]})\")\n",
    "ax.grid(False)\n",
    "\n",
    "ax = fig.add_subplot(132)\n",
    "ax.imshow(gt)\n",
    "ax.set_title(f\"GT ({gt.shape[0]} x {gt.shape[1]})\")\n",
    "ax.grid(False)\n",
    "\n",
    "ax = fig.add_subplot(133)\n",
    "ax.imshow(gt_result)\n",
    "ax.set_title(f\"GT reprojected, resampled  ({gt_result.shape[0]} x {gt_result.shape[1]})\")\n",
    "ax.grid(False)"
   ]
  },
  {
   "cell_type": "markdown",
   "id": "befae236-cf2e-4fb0-bafc-90eaf4bbd75e",
   "metadata": {},
   "source": [
    "# Saving the data"
   ]
  },
  {
   "cell_type": "code",
   "execution_count": null,
   "id": "9ba3bebb-6100-4e0f-b7e2-17130ab03d18",
   "metadata": {
    "tags": []
   },
   "outputs": [],
   "source": [
    "output_path_name = os.path.join(os.path.dirname(reference_raster), \"gt_resampled.tif\")\n",
    "output_path_name"
   ]
  },
  {
   "cell_type": "code",
   "execution_count": null,
   "id": "5030e686-e581-45d1-a637-88ca41d59d4f",
   "metadata": {},
   "outputs": [],
   "source": [
    "gt_result[np.isnan(gt_result)] = gt_profile[\"nodata\"]\n",
    "\n",
    "new_profile = gt_profile.copy()\n",
    "new_profile[\"width\"], new_profile[\"height\"] = gt_result.shape[1], gt_result.shape[0]\n",
    "new_profile[\"crs\"] = dsm_profile[\"crs\"]\n",
    "new_profile[\"transform\"] = dsm_profile[\"transform\"]\n",
    "\n",
    "with rasterio.open(output_path_name, 'w', **new_profile) as dst:\n",
    "    dst.write(gt_result, 1)\n",
    "\n",
    "gt_result[gt_result==gt_profile[\"nodata\"]] = np.nan"
   ]
  }
 ],
 "metadata": {
  "kernelspec": {
   "display_name": "venv_cars_trex",
   "language": "python",
   "name": "venv_cars_trex"
  },
  "language_info": {
   "codemirror_mode": {
    "name": "ipython",
    "version": 3
   },
   "file_extension": ".py",
   "mimetype": "text/x-python",
   "name": "python",
   "nbconvert_exporter": "python",
   "pygments_lexer": "ipython3",
   "version": "3.8.13"
  }
 },
 "nbformat": 4,
 "nbformat_minor": 5
}
