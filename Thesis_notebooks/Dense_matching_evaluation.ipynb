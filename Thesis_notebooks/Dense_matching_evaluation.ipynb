{
 "cells": [
  {
   "cell_type": "code",
   "execution_count": null,
   "id": "1933a3d5-4dd8-4ef8-8074-45b724683929",
   "metadata": {
    "tags": []
   },
   "outputs": [],
   "source": [
    "%load_ext autoreload\n",
    "%autoreload 2"
   ]
  },
  {
   "cell_type": "code",
   "execution_count": null,
   "id": "7546aa9e-d553-430a-a95e-c1eee2b0c8f1",
   "metadata": {
    "tags": []
   },
   "outputs": [],
   "source": [
    "import json\n",
    "import os\n",
    "import re\n",
    "import warnings\n",
    "import logging"
   ]
  },
  {
   "cell_type": "code",
   "execution_count": null,
   "id": "84315184-5ce1-44be-8ae1-ceae20605866",
   "metadata": {
    "tags": []
   },
   "outputs": [],
   "source": [
    "logging.basicConfig(level=logging.INFO)"
   ]
  },
  {
   "cell_type": "code",
   "execution_count": null,
   "id": "36ca6ca8-300a-4c40-93a0-06abd6b0dd53",
   "metadata": {
    "tags": []
   },
   "outputs": [],
   "source": [
    "import cv2\n",
    "\n",
    "import matplotlib.pyplot as plt\n",
    "from matplotlib.lines import Line2D\n",
    "from matplotlib.collections import PatchCollection\n",
    "from matplotlib.patches import Rectangle, Ellipse, Patch\n",
    "#plt.rcParams[\"font.family\"] = \"DejaVu Serif\"\n",
    "plt.rcParams.update({'text.usetex': True, \"font.family\": \"sans-serif\", 'font.size': 18})\n",
    "plt.style.use(\"tableau-colorblind10\")  # [#006BA4, #FF800E, #BABAB, #595959, #5F9ED1, #C85200, #898989, #A2C8EC, #FFBC79, #CFCFCF]\n",
    "plt.rcParams['axes.axisbelow'] = True\n",
    "\n",
    "import numpy as np\n",
    "from numba import njit, prange\n",
    "import pandas as pd\n",
    "from PIL import Image\n",
    "import rasterio\n",
    "import xarray as xr"
   ]
  },
  {
   "cell_type": "code",
   "execution_count": null,
   "id": "55b2db05-7488-4e64-8900-bf51729e4f11",
   "metadata": {
    "tags": []
   },
   "outputs": [],
   "source": [
    "# Load pandora imports\n",
    "import pandora\n",
    "pandora.setup_logging(True)"
   ]
  },
  {
   "cell_type": "code",
   "execution_count": null,
   "id": "34cc86c2-b0cb-4cea-89eb-19a378ac736b",
   "metadata": {
    "tags": []
   },
   "outputs": [],
   "source": [
    "# Load plugins\n",
    "pandora.import_plugin()"
   ]
  },
  {
   "cell_type": "markdown",
   "id": "a30f45a1-c1e1-473e-99ca-6244c9648fca",
   "metadata": {},
   "source": [
    "### Defining functions for loading Middlebury GT and for correctly plotting greyscale images."
   ]
  },
  {
   "cell_type": "code",
   "execution_count": null,
   "id": "bc6ff091-d741-49b5-945c-ab7dfaf45833",
   "metadata": {
    "tags": []
   },
   "outputs": [],
   "source": [
    "def process_pfm(disp_path):\n",
    "    \"\"\"Read Middlebury disparity map and calculate depth map.\n",
    "    http://davis.lbl.gov/Manuals/NETPBM/doc/pfm.html\n",
    "    \"\"\"\n",
    "    disp = cv2.imread(disp_path, cv2.IMREAD_UNCHANGED)\n",
    "    with open(disp_path, \"rb\") as pfm_file:\n",
    "        header = pfm_file.readline().decode().rstrip()\n",
    "        channels = 3 if header == \"PF\" else 1\n",
    "\n",
    "        dim_match = re.match(r\"^(\\d+)\\s(\\d+)\\s$\", pfm_file.readline().decode(\"utf-8\"))\n",
    "        if dim_match:\n",
    "            width, height = map(int, dim_match.groups())\n",
    "        else:\n",
    "            raise Exception(\"Malformed PFM header.\")\n",
    "\n",
    "        scale = float(\n",
    "            pfm_file.readline().decode().rstrip()\n",
    "        )  # read disparity scale factor\n",
    "        if scale < 0:\n",
    "            endian = \"<\"  # littel endian\n",
    "            scale = -scale\n",
    "        else:\n",
    "            endian = \">\"  # big endian\n",
    "\n",
    "    disp = disp * scale\n",
    "    return disp\n",
    "\n",
    "def normalize_for_imshow(img: np.ndarray):\n",
    "    img_normalized = np.zeros(img.shape, dtype=img.dtype)\n",
    "    for band in range(img.shape[-1]):\n",
    "        min_band, max_band = np.nanquantile(img[:,:,band], [0.01, 0.99])\n",
    "        img_normalized[:,:,band] = np.clip(img[:,:,band], min_band, max_band)\n",
    "        img_normalized[:,:,band] = (img_normalized[:,:,band] - np.nanmin(img_normalized[:,:,band])) / (np.nanmax(img_normalized[:,:,band]) - np.nanmin(img_normalized[:,:,band]))\n",
    "    return img_normalized\n",
    "\n",
    "def crop_img(path):\n",
    "    img = np.array(Image.open(path))\n",
    "    img_sum = img.sum(axis=2)\n",
    "    for k in range(img.shape[0]):\n",
    "        if (img_sum[k, :] != (255*4)).any():\n",
    "            top = k\n",
    "            break\n",
    "    for k in range(img.shape[0]):\n",
    "        if (img_sum[img.shape[0] - 1 - k, :] != (255*4)).any():\n",
    "            bottom = img.shape[0] - 1 - k\n",
    "            break\n",
    "    for k in range(img.shape[1]):\n",
    "        if (img_sum[:, k] != (255*4)).any():\n",
    "            left = k\n",
    "            break\n",
    "    for k in range(img.shape[1]):\n",
    "        if (img_sum[:, img.shape[1] - 1 - k] != (255*4)).any():\n",
    "            right = img.shape[1] - 1 - k\n",
    "            break\n",
    "    img = img[top:bottom+1, left:right+1]\n",
    "    Image.fromarray(img).save(path)"
   ]
  },
  {
   "cell_type": "markdown",
   "id": "d6d4abc6-fc26-4345-8f30-0d5c5d311187",
   "metadata": {
    "tags": []
   },
   "source": [
    "# Investigation"
   ]
  },
  {
   "cell_type": "markdown",
   "id": "02d3718c-0e21-438e-bd01-2b33c5be1e3d",
   "metadata": {},
   "source": [
    "### Defining the scene, Cost function used, input and output paths.\n",
    "* For Middlebury data, `year` should be in [2003, 2005, 2006, 2014, 2021]\n",
    "* For Jacksonville or Montepellier data, `year` is \"\".\n",
    "\n",
    "`scene` is the name of the scene. For Middlebury it is \"cones\" for example. For Montpellier or Jacksonville it is something like \"MTP_144\".\n",
    "Check `/work/CAMPUS/users/malinoro/Data/Satellite` and `/work/CAMPUS/users/malinoro/Data/MiddleBury` to see which scenes are available"
   ]
  },
  {
   "cell_type": "code",
   "execution_count": null,
   "id": "e5e646ea-e06e-49a6-adf7-9de32b30abd3",
   "metadata": {
    "tags": []
   },
   "outputs": [],
   "source": [
    "cost_function = \"CENSUS\"\n",
    "year, scene = \"2003\", \"cones\"\n",
    "\n",
    "\n",
    "if cost_function == \"CENSUS\":\n",
    "    cost_func_pandora = \"census\"\n",
    "    penalty_method = \"sgm_penalty\"\n",
    "    win_size = 5\n",
    "elif cost_function == \"MCCNN\":\n",
    "    cost_func_pandora = \"mc_cnn\"\n",
    "    penalty_method = \"mc_cnn_fast_penalty\"\n",
    "    win_size = 11\n",
    "else:\n",
    "    logging.error(\"Cost function is not supported, add sgm_penalty, win_size etc on your own!\")\n",
    "    raise NameError\n",
    "\n",
    "\n",
    "if year == \"\":\n",
    "    root_gt = \"/work/CAMPUS/users/malinoro/Data/Satellite\"\n",
    "else:\n",
    "    root_gt = \"/work/CAMPUS/users/malinoro/Data/MiddleBury\"\n",
    "\n",
    "output_path = os.path.join(\"/work/CAMPUS/users/malinoro/outputs/Pandora\", cost_function, scene)\n",
    "gt_path = os.path.join(root_gt, year, scene)\n",
    "assert os.path.exists(gt_path)"
   ]
  },
  {
   "cell_type": "markdown",
   "id": "a4c8bfef-e6b1-4924-b8fd-9a2bf8cf94cf",
   "metadata": {},
   "source": [
    "### Loading images, GT, d_min, d_max on disk"
   ]
  },
  {
   "cell_type": "code",
   "execution_count": null,
   "id": "126d1d2f",
   "metadata": {
    "tags": []
   },
   "outputs": [],
   "source": [
    "if year in [\"2003\", \"2005\", \"2006\"]:\n",
    "    img_left_path = os.path.join(gt_path, \"im2_gray.png\")\n",
    "    img_right_path = os.path.join(gt_path, \"im6_gray.png\")\n",
    "    \n",
    "    img_left = np.array(Image.open(os.path.join(gt_path, \"im2.png\")))\n",
    "    img_left_gray = np.array(Image.open(img_left_path))\n",
    "    img_right = np.array(Image.open(os.path.join(gt_path, \"im6.png\")))\n",
    "    img_right_gray = np.array(Image.open(img_right_path))\n",
    "    \n",
    "    scale_gt = 4 if year==\"2003\" else 3\n",
    "    true_disp = - np.asarray(Image.open(os.path.join(gt_path, \"disp2.png\"))).astype(float) / scale_gt\n",
    "    true_disp[true_disp == 0] = np.nan\n",
    "\n",
    "    d_min, d_max = -60, 0\n",
    "    \n",
    "elif year in [\"2014\", \"2021\"]:\n",
    "    img_left_path = os.path.join(gt_path, \"im0_gray.png\")\n",
    "    img_right_path = os.path.join(gt_path, \"im1_gray.png\")\n",
    "    \n",
    "    img_left = np.array(Image.open(os.path.join(gt_path, \"im0.png\")))\n",
    "    img_left_gray = np.array(Image.open(img_left_path))\n",
    "    img_right = np.array(Image.open(os.path.join(gt_path, \"im1.png\")))\n",
    "    img_right_gray = np.array(Image.open(img_right_path))\n",
    "    \n",
    "    true_disp = -process_pfm(os.path.join(gt_path, \"disp0.pfm\"))\n",
    "    true_disp[true_disp == -np.inf] = np.nan\n",
    "    \n",
    "    with open(os.path.join(gt_path, \"calib.txt\"), \"r\") as f:\n",
    "        lines = f.readlines()\n",
    "    d_min , d_max = - int(lines[6].split(\"=\")[-1]), 0\n",
    "    \n",
    "elif year in [\"2001\"]:\n",
    "    img_left_path = os.path.join(gt_path, \"im2_gray.png\")\n",
    "    img_right_path = os.path.join(gt_path, \"im6_gray.png\")\n",
    "    \n",
    "    img_left = np.array(Image.open(os.path.join(gt_path, \"im2.png\")))\n",
    "    img_left_gray = np.array(Image.open(img_left_path))\n",
    "    img_right = np.array(Image.open(os.path.join(gt_path, \"im6.png\")))\n",
    "    img_right_gray = np.array(Image.open(img_right_path))\n",
    "    \n",
    "    scale_gt = 8\n",
    "    true_disp = - cv2.imread(os.path.join(gt_path, \"disp2.pgm\"))[:,:,0].astype(float) / scale_gt\n",
    "    tmp_disp = np.unique(true_disp)\n",
    "    d_min, d_max = np.floor(np.min(tmp_disp)).astype(int), np.ceil(np.max(tmp_disp)).astype(int)\n",
    "    true_disp[true_disp == 0] = np.nan\n",
    "\n",
    "\n",
    "elif \"MTP_\" in scene:\n",
    "    img_left_path = os.path.join(gt_path, \"left_epipolar_image_gray.tif\")\n",
    "    img_right_path = os.path.join(gt_path, \"right_epipolar_image_gray.tif\")\n",
    "    \n",
    "    img_left = np.moveaxis(rasterio.open(os.path.join(gt_path, \"left_epipolar_image.tif\")).read([1,2,3]), 0, -1)\n",
    "    img_left = normalize_for_imshow(img_left)\n",
    "    img_left_gray = rasterio.open(img_left_path).read(1)\n",
    "    img_right = np.moveaxis(rasterio.open(os.path.join(gt_path, \"right_epipolar_image.tif\")).read([1,2,3]), 0, -1)\n",
    "    img_right = normalize_for_imshow(img_right)\n",
    "    img_right_gray = rasterio.open(img_right_path).read(1)\n",
    "\n",
    "    true_disp = rasterio.open(os.path.join(gt_path, \"left_epipolar_disp.tif\")).read(1)\n",
    "    true_disp_mask = rasterio.open(os.path.join(gt_path, \"left_epipolar_mask.tif\")).read(1)\n",
    "    true_disp[true_disp_mask > 0] = np.nan\n",
    "    \n",
    "    d_min, d_max = int(np.floor(np.nanmin(true_disp))), int(np.ceil(np.nanmax(true_disp)))\n",
    "    \n",
    "    \n",
    "elif \"JAX_\" in scene:\n",
    "    img_left_path = os.path.join(gt_path, \"left_epipolar_image_gray.tif\")\n",
    "    img_right_path = os.path.join(gt_path, \"right_epipolar_image_gray.tif\")\n",
    "    \n",
    "    img_left = np.moveaxis(rasterio.open(os.path.join(gt_path, \"left_epipolar_image.tif\")).read([1,2,3]), 0, -1)\n",
    "    img_left_gray = rasterio.open(img_left_path).read(1)\n",
    "    img_right = np.moveaxis(rasterio.open(os.path.join(gt_path, \"right_epipolar_image.tif\")).read([1,2,3]), 0, -1)\n",
    "    img_right_gray = rasterio.open(img_right_path).read(1)\n",
    "\n",
    "    true_disp = rasterio.open(os.path.join(gt_path, \"left_epipolar_disp.tif\")).read(1)\n",
    "    true_disp_mask = rasterio.open(os.path.join(gt_path, \"left_epipolar_mask.tif\")).read(1)\n",
    "    true_disp[true_disp_mask > 0] = np.nan\n",
    "    \n",
    "    d_min, d_max = int(np.floor(np.nanmin(true_disp))), int(np.ceil(np.nanmax(true_disp)))\n",
    "\n",
    "logging.info(f\" {scene}\\nd_min: {d_min} | d_max: {d_max}\\nwin_size: {win_size}\")"
   ]
  },
  {
   "cell_type": "code",
   "execution_count": null,
   "id": "a58ce717-061d-4f4a-a7ee-4db5ac6e17e2",
   "metadata": {
    "tags": []
   },
   "outputs": [],
   "source": [
    "input_config = {\n",
    "    \"left\": {\"img\": img_left_path, \"mask\": None, \"disp\": [-60, 0], \"nodata\": np.nan},\n",
    "    \"right\": {\"img\": img_right_path, \"mask\": None, \"disp\": None, \"nodata\": np.nan},\n",
    "}\n",
    "\n",
    "img_left_pandora = pandora.img_tools.create_dataset_from_inputs(input_config=input_config[\"left\"])\n",
    "img_right_pandora = pandora.img_tools.create_dataset_from_inputs(input_config=input_config[\"right\"])\n",
    "\n",
    "pandora.check_configuration.check_datasets(img_left_pandora, img_right_pandora)\n",
    "\n",
    "pandora_machine = pandora.state_machine.PandoraMachine()"
   ]
  },
  {
   "cell_type": "markdown",
   "id": "babc78cc-4cf4-4920-86c3-27b9b1b8d44b",
   "metadata": {},
   "source": [
    "#### Computing with Pandora"
   ]
  },
  {
   "cell_type": "code",
   "execution_count": null,
   "id": "3281e8bb-a74e-4c28-8477-41f605580149",
   "metadata": {
    "tags": []
   },
   "outputs": [],
   "source": [
    "user_cfg = {\n",
    "    \"input\": {\n",
    "        \"left\": {\"img\": img_left_path,\n",
    "                 \"disp\": [d_min, d_max]},\n",
    "        \"right\": {\"img\": img_right_path}\n",
    "    },\n",
    "    \"pipeline\": {\n",
    "        \"matching_cost\": {\n",
    "            \"matching_cost_method\": cost_func_pandora,\n",
    "            \"window_size\": win_size,\n",
    "            \"subpix\": 1\n",
    "        },\n",
    "        \"optimization\": {\n",
    "            \"optimization_method\": \"sgm\",\n",
    "            \"overcounting\": False,\n",
    "            \"penalty\": {\n",
    "                \"penalty_method\": penalty_method,\n",
    "            },\n",
    "            \"sgm_version\": \"c++\",\n",
    "            \"min_cost_paths\": False,\n",
    "            \"use_confidence\": False\n",
    "        },\n",
    "        \"cost_volume_confidence\": {\n",
    "            \"confidence_method\": \"ambiguity\",\n",
    "                \"eta_max\": 0.99,\n",
    "                \"eta_step\": 0.04\n",
    "        },\n",
    "        \"cost_volume_confidence.90\": {\n",
    "            \"confidence_method\": \"interval_bounds\",\n",
    "            \"possibility_threshold\": 0.9\n",
    "        },\n",
    "        \"cost_volume_confidence.90_no_reg\": {\n",
    "            \"confidence_method\": \"interval_bounds\",\n",
    "            \"possibility_threshold\": 0.9\n",
    "        },\n",
    "        \"cost_volume_confidence.98\": {\n",
    "            \"confidence_method\": \"interval_bounds\",\n",
    "            \"possibility_threshold\": 0.98\n",
    "        },\n",
    "        \"cost_volume_confidence.80\": {\n",
    "            \"confidence_method\": \"interval_bounds\",\n",
    "            \"possibility_threshold\": 0.8\n",
    "        },\n",
    "        \"disparity\": {\"disparity_method\": \"wta\", \"invalid_disparity\": \"NaN\"},\n",
    "        \"refinement\": {\"refinement_method\": \"vfit\"},\n",
    "        \"filter\": {\"filter_method\": \"median\", \"filter_size\": 3},\n",
    "        \"filter.90\": {\"filter_method\": \"median_for_intervals\",\n",
    "                       \"filter_size\": 3,\n",
    "                       \"regularization\": True,\n",
    "                       \"interval_indicator\": \"90\",\n",
    "                       \"vertical_depth\": 2,\n",
    "                       \"quantile_regularization\": 0.90\n",
    "                      },\n",
    "        \"validation\": {\"validation_method\": \"cross_checking_accurate\"}\n",
    "    }\n",
    "}"
   ]
  },
  {
   "cell_type": "code",
   "execution_count": null,
   "id": "836ea9d5-97ee-424d-803f-1926f22e980f",
   "metadata": {
    "tags": []
   },
   "outputs": [],
   "source": [
    "metadata_left = pandora.img_tools.get_metadata(user_cfg[\"input\"][\"left\"][\"img\"], (d_min, d_max))\n",
    "metadata_right = pandora.img_tools.get_metadata(user_cfg[\"input\"][\"right\"][\"img\"])\n",
    "user_cfg_pipeline = pandora.check_configuration.get_config_pipeline(user_cfg)\n",
    "\n",
    "pandora_machine.run_prepare(user_cfg, img_left_pandora, img_right_pandora)"
   ]
  },
  {
   "cell_type": "code",
   "execution_count": null,
   "id": "f47e87c4-87d4-438a-b001-8571003409b8",
   "metadata": {
    "tags": []
   },
   "outputs": [],
   "source": [
    "pandora_machine.run('matching_cost', user_cfg)\n",
    "pandora_machine.run('optimization', user_cfg)\n",
    "pandora_machine.run('cost_volume_confidence', user_cfg)\n",
    "pandora_machine.run('cost_volume_confidence.90', user_cfg)\n",
    "pandora_machine.run('cost_volume_confidence.98', user_cfg)\n",
    "pandora_machine.run('cost_volume_confidence.90_no_reg', user_cfg)\n",
    "pandora_machine.run('cost_volume_confidence.80', user_cfg)\n",
    "pandora_machine.run('disparity', user_cfg)\n",
    "pandora_machine.run('refinement', user_cfg)\n",
    "pandora_machine.run('filter', user_cfg)\n",
    "pandora_machine.run('filter.90', user_cfg)\n",
    "pandora_machine.run('validation', user_cfg)"
   ]
  },
  {
   "cell_type": "code",
   "execution_count": null,
   "id": "c52394aa-4048-44b1-b8f9-e416bec58870",
   "metadata": {
    "tags": []
   },
   "outputs": [],
   "source": [
    "validity_map = pandora_machine.left_disparity[\"validity_mask\"].data\n",
    "# Getting bitmap out of the validity_map\n",
    "validity_bitmap = np.zeros(shape=validity_map.shape + (3,), dtype=bool)\n",
    "validity_bitmap[:, :, 0] = validity_map & (1<<2)\n",
    "validity_bitmap[:, :, 1] = validity_map & (1<<8)\n",
    "validity_bitmap[:, :, 2] = validity_map & (1<<11)\n",
    "\n",
    "PANDORA_MSK_PIXEL_INVALID  = (validity_map & 0b01111000011) > 0"
   ]
  },
  {
   "cell_type": "code",
   "execution_count": null,
   "id": "b0bfce34-5bbf-49b9-b9ac-0d29abc7607d",
   "metadata": {},
   "outputs": [],
   "source": [
    "disp_map = pandora_machine.left_disparity.disparity_map.data\n",
    "conf_inf_no_reg = pandora_machine.left_disparity.confidence_measure.sel({\"indicator\":\"confidence_from_interval_bounds_inf.90_no_reg\"}).data\n",
    "conf_sup_no_reg = pandora_machine.left_disparity.confidence_measure.sel({\"indicator\":\"confidence_from_interval_bounds_sup.90_no_reg\"}).data\n",
    "conf_inf = pandora_machine.left_disparity.confidence_measure.sel({\"indicator\":\"confidence_from_interval_bounds_inf.90\"}).data\n",
    "conf_sup = pandora_machine.left_disparity.confidence_measure.sel({\"indicator\":\"confidence_from_interval_bounds_sup.90\"}).data\n",
    "conf_amb = pandora_machine.left_disparity.confidence_measure.sel({\"indicator\":\"confidence_from_ambiguity\"}).data\n",
    "\n",
    "no_data = np.isnan(disp_map) | np.isnan(conf_inf) | np.isnan(conf_sup) | np.isnan(true_disp)\n",
    "\n",
    "n_row, n_col = no_data.shape\n",
    "no_data[:, 0:max(0, -d_min)] = True\n",
    "no_data[:, min(n_col, n_col-d_max):n_col] = True"
   ]
  },
  {
   "cell_type": "code",
   "execution_count": null,
   "id": "d46e3f17-8cd7-4028-9b2a-01f9f6f4d269",
   "metadata": {
    "tags": []
   },
   "outputs": [],
   "source": [
    "wrong_intervals_no_reg = (true_disp < conf_inf_no_reg) | (true_disp > conf_sup_no_reg)\n",
    "wrong_intervals_no_reg[no_data] = False\n",
    "\n",
    "wrong_intervals = (true_disp < conf_inf) | (true_disp > conf_sup)\n",
    "wrong_intervals[no_data] = False"
   ]
  },
  {
   "cell_type": "code",
   "execution_count": null,
   "id": "3937b677-dbee-4ac9-9252-a1de24e9b702",
   "metadata": {
    "tags": []
   },
   "outputs": [],
   "source": [
    "n_row, pad = conf_amb.shape[0], 2\n",
    "minimized_conf_from_amb = np.hstack((np.ones((n_row, pad)), conf_amb, np.ones((n_row, pad))))\n",
    "minimized_conf_from_amb = np.nanmin(\n",
    "    np.lib.stride_tricks.sliding_window_view(minimized_conf_from_amb, 5, axis=1),\n",
    "    axis=-1,\n",
    ")\n",
    "minimized_conf_from_amb[:, -1] = 1\n",
    "mask_amb = minimized_conf_from_amb >= 0.6"
   ]
  },
  {
   "cell_type": "markdown",
   "id": "0f4379af-152f-4c9b-9083-46afd22ec14c",
   "metadata": {
    "tags": []
   },
   "source": [
    "# Chapter 5"
   ]
  },
  {
   "cell_type": "code",
   "execution_count": null,
   "id": "7b0333aa-64b9-4d75-964d-b225c91624c7",
   "metadata": {
    "tags": []
   },
   "outputs": [],
   "source": [
    "out_path = \"/work/CAMPUS/users/malinoro/outputs/These/IMG/\"\n",
    "\n",
    "blue=\"#006BA4\"\n",
    "orange=\"#FF800E\"\n",
    "gray=\"#ABABAB\"\n",
    "dark_gray=\"#595959\"\n",
    "gray_blue=\"#5F9ED1\"\n",
    "brown=\"#C85200\"\n",
    "third_gray=\"#898989\"\n",
    "light_blue=\"#A2C8EC\"\n",
    "light_orange=\"#FFBC79\"\n",
    "light_gray=\"#CFCFCF\""
   ]
  },
  {
   "cell_type": "code",
   "execution_count": null,
   "id": "88fc9d54-4566-4c21-8bd7-a765c0cb6add",
   "metadata": {
    "tags": []
   },
   "outputs": [],
   "source": [
    "def custom_grid(ax, left, right, top, bottom):\n",
    "    for x in range(left, right+1):\n",
    "        ax.axvline(x, linewidth=1, alpha=0.3, color=gray)\n",
    "    for y in range(top, bottom+1):\n",
    "        ax.axhline(y, linewidth=1, alpha=0.3, color=gray)"
   ]
  },
  {
   "cell_type": "markdown",
   "id": "8c5a2abf-4d0e-4aa7-94d2-79bcd275c7ba",
   "metadata": {},
   "source": [
    "## From cost curve to possibility"
   ]
  },
  {
   "cell_type": "code",
   "execution_count": null,
   "id": "25b4e3f8-383c-49e2-9145-4f2c82e2171a",
   "metadata": {
    "tags": []
   },
   "outputs": [],
   "source": [
    "fig, ax = plt.subplots(1,1,figsize=(10, 5))\n",
    "\n",
    "ax.plot(pandora_machine.left_cv.disp, pandora_machine.left_cv.sel({\"row\":200, \"col\": 200}).cost_volume.data, linewidth=2, label=\"\\((200, 200)\\)\")\n",
    "ax.plot(pandora_machine.left_cv.disp, pandora_machine.left_cv.sel({\"row\":236, \"col\": 110}).cost_volume.data, linewidth=2, linestyle=\"--\", label=\"\\((236, 110)\\)\")\n",
    "\n",
    "ax.legend(title=\"\\((row, ~col)\\)\", loc=\"lower left\")\n",
    "ax.set_xlim([np.nanmin(pandora_machine.left_cv.disp), np.nanmax(pandora_machine.left_cv.disp)])\n",
    "ax.set_ylim([np.nanmin(pandora_machine.left_cv.cost_volume.data), np.nanmax(pandora_machine.left_cv.cost_volume.data)])\n",
    "ax.set_xlabel(\"\\(\\mathrm{Disparity}\\)\")\n",
    "ax.set_ylabel(\"\\(\\mathrm{Matching~Cost~}C_V\\)\")\n",
    "plt.savefig(os.path.join(out_path, \"cost_curve_not_normalized.png\"), dpi=250, bbox_inches='tight')\n",
    "crop_img(os.path.join(out_path, \"cost_curve_not_normalized.png\"))"
   ]
  },
  {
   "cell_type": "code",
   "execution_count": null,
   "id": "b4647e87-da3c-4ad4-85ed-6f7b7e395016",
   "metadata": {
    "tags": []
   },
   "outputs": [],
   "source": [
    "fig, ax = plt.subplots(1,1,figsize=(10, 5))\n",
    "\n",
    "min_cv, max_cv =  np.nanmin(pandora_machine.left_cv.cost_volume.data),  np.nanmax(pandora_machine.left_cv.cost_volume.data)\n",
    "ax.plot(pandora_machine.left_cv.disp, (pandora_machine.left_cv.sel({\"row\":200, \"col\": 200}).cost_volume.data - max_cv) / (min_cv - max_cv),\n",
    "        linewidth=2, label=\"\\((200, 200)\\)\")\n",
    "ax.plot(pandora_machine.left_cv.disp, (pandora_machine.left_cv.sel({\"row\":236, \"col\": 110}).cost_volume.data - max_cv) / (min_cv - max_cv),\n",
    "        linewidth=2, linestyle=\"--\", label=\"\\((236, 110)\\)\")\n",
    "\n",
    "ax.set_xlim([np.nanmin(pandora_machine.left_cv.disp), np.nanmax(pandora_machine.left_cv.disp)])\n",
    "ax.set_ylim([0, 1])\n",
    "ax.legend(title=\"\\((row, ~col)\\)\", loc=\"upper left\")\n",
    "ax.set_xlabel(\"\\(\\mathrm{Disparity}\\)\")\n",
    "ax.set_ylabel(\"\\(C_V^{norm}\\)\")\n",
    "plt.savefig(os.path.join(out_path, \"cost_curve_normalized.png\"), dpi=250, bbox_inches='tight')\n",
    "crop_img(os.path.join(out_path, \"cost_curve_normalized.png\"))"
   ]
  },
  {
   "cell_type": "code",
   "execution_count": null,
   "id": "c50fe2d5-f384-4201-b31b-8c5bc24e42b5",
   "metadata": {
    "tags": []
   },
   "outputs": [],
   "source": [
    "fig, ax = plt.subplots(1,1,figsize=(10, 5))\n",
    "\n",
    "min_cv, max_cv =  np.nanmin(pandora_machine.left_cv.sel({\"row\":200, \"col\": 200}).cost_volume.data),  np.nanmax(pandora_machine.left_cv.sel({\"row\":200, \"col\": 200}).cost_volume.data)\n",
    "ax.plot(pandora_machine.left_cv.disp, (pandora_machine.left_cv.sel({\"row\":200, \"col\": 200}).cost_volume.data - max_cv) / (min_cv - max_cv),\n",
    "        linewidth=2, label=\"\\((200, 200)\\)\")\n",
    "min_cv, max_cv =  np.nanmin(pandora_machine.left_cv.sel({\"row\":236, \"col\": 110}).cost_volume.data),  np.nanmax(pandora_machine.left_cv.sel({\"row\":236, \"col\": 110}).cost_volume.data)\n",
    "ax.plot(pandora_machine.left_cv.disp, (pandora_machine.left_cv.sel({\"row\":236, \"col\": 110}).cost_volume.data - max_cv) / (min_cv - max_cv),\n",
    "        linewidth=2, linestyle=\"--\", label=\"\\((236, 110)\\)\")\n",
    "\n",
    "ax.set_xlim([np.nanmin(pandora_machine.left_cv.disp), np.nanmax(pandora_machine.left_cv.disp)])\n",
    "ax.set_ylim([0, 1])\n",
    "ax.legend(title=\"\\((row, ~col)\\)\", loc=\"upper right\")\n",
    "ax.set_xlabel(\"\\(\\mathrm{Disparity}\\)\")\n",
    "ax.set_ylabel(\"\\(\\mathrm{Normalized}~C_V\\)\")\n",
    "plt.savefig(os.path.join(out_path, \"cost_curve_bad_normalized.png\"), dpi=250, bbox_inches='tight')\n",
    "crop_img(os.path.join(out_path, \"cost_curve_bad_normalized.png\"))"
   ]
  },
  {
   "cell_type": "code",
   "execution_count": null,
   "id": "10f51dc4-45fc-4432-b630-09668b274d2c",
   "metadata": {
    "tags": []
   },
   "outputs": [],
   "source": [
    "fig, ax = plt.subplots(1,1,figsize=(10, 5))\n",
    "\n",
    "min_cv, max_cv =  np.nanmin(pandora_machine.left_cv.cost_volume.data),  np.nanmax(pandora_machine.left_cv.cost_volume.data)\n",
    "cv = (pandora_machine.left_cv.sel({\"row\":200, \"col\": 200}).cost_volume.data - max_cv) / (min_cv - max_cv)\n",
    "ax.plot(pandora_machine.left_cv.disp, cv + 1 - np.nanmax(cv),\n",
    "        linewidth=2, label=\"\\((200, 200)\\)\")\n",
    "cv = (pandora_machine.left_cv.sel({\"row\":236, \"col\": 110}).cost_volume.data - max_cv) / (min_cv - max_cv)\n",
    "ax.plot(pandora_machine.left_cv.disp, cv + 1 - np.nanmax(cv),\n",
    "        linewidth=2, linestyle=\"--\", label=\"\\((236, 110)\\)\")\n",
    "\n",
    "ax.set_xlim([np.nanmin(pandora_machine.left_cv.disp), np.nanmax(pandora_machine.left_cv.disp)])\n",
    "ax.set_ylim([0, 1])\n",
    "ax.legend(title=\"\\((row, ~col)\\)\", loc=\"lower left\")\n",
    "ax.set_xlabel(\"\\(\\mathrm{Disparity}\\)\")\n",
    "ax.set_ylabel(\"\\(\\pi_{row,col}\\)\")\n",
    "plt.savefig(os.path.join(out_path, \"cost_curve_possibility_distribution.png\"), dpi=250, bbox_inches='tight')\n",
    "crop_img(os.path.join(out_path, \"cost_curve_possibility_distribution.png\"))"
   ]
  },
  {
   "cell_type": "markdown",
   "id": "7d0eedf4-f8a8-4f54-8126-21d8c5eaea9b",
   "metadata": {},
   "source": [
    "## Figure Tuto Stereo"
   ]
  },
  {
   "cell_type": "code",
   "execution_count": null,
   "id": "2e68d1bc-216c-482f-99e3-92334d603687",
   "metadata": {},
   "outputs": [],
   "source": [
    "row, col = 200, 200\n",
    "ground_truth = -29\n",
    "\n",
    "win_marg = int((win_size-1) / 2)\n",
    "\n",
    "vmin, vmax = np.nanmin(pandora_machine.left_img.im.data), np.nanmax(pandora_machine.left_img.im.data)"
   ]
  },
  {
   "cell_type": "code",
   "execution_count": null,
   "id": "36f0fcd1-0b9b-4dad-b44a-12b7350deb39",
   "metadata": {},
   "outputs": [],
   "source": [
    "fig, ax = plt.subplots(1, 1, figsize=(4, 4))\n",
    "\n",
    "ax.imshow(pandora_machine.left_img.im.sel({\"row\": np.arange(row-win_marg, row+win_marg+1), \"col\": np.arange(col-win_marg, col+win_marg+1)}),\n",
    "           cmap=\"gray\", vmin=vmin, vmax=vmax, extent=(-2.5, 2.5,-2.5, 2.5))\n",
    "ax.get_yaxis().set_visible(False)\n",
    "ax.get_xaxis().set_visible(False)\n",
    "plt.savefig(os.path.join(out_path, \"tuto_left_patch.png\"), dpi=150, bbox_inches='tight')\n",
    "crop_img(os.path.join(out_path, \"tuto_left_patch.png\"))"
   ]
  },
  {
   "cell_type": "code",
   "execution_count": null,
   "id": "da142641-c867-46e4-868e-9c5c7dd12a17",
   "metadata": {
    "tags": []
   },
   "outputs": [],
   "source": [
    "fig, ax = plt.subplots(1, 1, figsize=(10, 4))\n",
    "\n",
    "ax.imshow(pandora_machine.right_img.im.sel({\"row\": np.arange(row-win_marg, row+win_marg+1), \"col\": np.arange(col-win_marg-60, col+win_marg+1)}),\n",
    "           cmap=\"gray\", vmin=vmin, vmax=vmax, extent=(-62.5, 2.5,-2.5, 2.5))\n",
    "ax.plot([ground_truth-2.5, ground_truth-2.5, ground_truth+2.5, ground_truth+2.5, ground_truth-2.5], [-2.4, 2.4, 2.4, -2.4, -2.4], color=\"limegreen\", linestyle=\"--\", linewidth=4)\n",
    "\n",
    "ax.get_yaxis().set_visible(False)\n",
    "plt.savefig(os.path.join(out_path, \"tuto_right_patch.png\"), dpi=300, bbox_inches='tight')\n",
    "crop_img(os.path.join(out_path, \"tuto_right_patch.png\"))"
   ]
  },
  {
   "cell_type": "code",
   "execution_count": null,
   "id": "3ca016ec-83a0-4d20-94f3-20be9318b01a",
   "metadata": {
    "tags": []
   },
   "outputs": [],
   "source": [
    "fig, ax = plt.subplots(1, 1, figsize=(12, 3))\n",
    "\n",
    "ax.axvline(ground_truth, color=\"limegreen\", linestyle=\"--\", label=\"\\(\\mathrm{Ground~truth}\\)\")\n",
    "ax.plot(pandora_machine.left_cv.disp, pandora_machine.left_cv.sel({\"row\": row, \"col\": col}).cost_volume.data, label=\"\\(\\mathrm{Cost~curve}\\)\")\n",
    "ax.set_xlim([-2.5+np.nanmin(pandora_machine.left_cv.disp), np.nanmax(pandora_machine.left_cv.disp)+2.5])\n",
    "ax.set_ylim([np.nanmin(pandora_machine.left_cv.cost_volume.data), np.nanmax(pandora_machine.left_cv.cost_volume.data)])\n",
    "ax.set_xlabel(\"\\(\\mathrm{Disparity}\\)\")\n",
    "ax.set_ylabel(\"\\(C_V\\)\")\n",
    "ax.legend()\n",
    "plt.savefig(os.path.join(out_path, \"tuto_cost_curve.png\"), dpi=300, bbox_inches='tight')\n",
    "crop_img(os.path.join(out_path, \"tuto_cost_curve.png\"))"
   ]
  },
  {
   "cell_type": "markdown",
   "id": "7ccddc2b-87e6-4934-9e50-4c97b48ced07",
   "metadata": {
    "tags": []
   },
   "source": [
    "## Disparity sets and intervals"
   ]
  },
  {
   "cell_type": "code",
   "execution_count": null,
   "id": "1c1b9b22-45a4-453c-ad16-5c42d109227a",
   "metadata": {
    "tags": []
   },
   "outputs": [],
   "source": [
    "fig, ax = plt.subplots(1,1,figsize=(10, 5))\n",
    "\n",
    "min_cv, max_cv =  np.nanmin(pandora_machine.left_cv.cost_volume.data),  np.nanmax(pandora_machine.left_cv.cost_volume.data)\n",
    "cv = (pandora_machine.left_cv.sel({\"row\":200, \"col\": 200}).cost_volume.data - max_cv) / (min_cv - max_cv)\n",
    "\n",
    "ax.axhline(0.9, color=\"gray\", linestyle=\":\")\n",
    "ax.plot(pandora_machine.left_cv.disp, cv + 1 - np.nanmax(cv),\n",
    "        linewidth=2, label=\"\\((200, 200)\\)\")\n",
    "\n",
    "disp_set = [Rectangle((-30.3, 0), -28.5-(-30.3), 0.9)]\n",
    "pc = PatchCollection(disp_set, facecolor=\"gray\", alpha=0.3,\n",
    "                     edgecolor=None)\n",
    "\n",
    "ax.add_collection(pc)\n",
    "\n",
    "ax.arrow(-29.4, 0.2, -0.9, 0, head_width=0.02, head_length=0.2, linewidth=4, color='gray', length_includes_head=True)\n",
    "ax.arrow(-29.4, 0.2, 0.9, 0, head_width=0.02, head_length=0.2, linewidth=4, color='gray', length_includes_head=True)\n",
    "\n",
    "ax.text(x=-35, y=0.17, s=r\"$D_\\alpha$\", size=30, color=\"gray\")\n",
    "\n",
    "ax.set_xlim([np.nanmin(pandora_machine.left_cv.disp), np.nanmax(pandora_machine.left_cv.disp)])\n",
    "ax.set_ylim([0, 1])\n",
    "ax.set_yticks([0., 0.2, 0.4, 0.6, 0.8, 0.9, 1.0])\n",
    "ax.set_xlabel(\"\\(\\mathrm{Disparity}\\)\")\n",
    "ax.set_ylabel(\"\\(\\pi_{row,col}\\)\")\n",
    "plt.savefig(os.path.join(out_path, \"disparity_interval_1.png\"), dpi=250, bbox_inches='tight')\n",
    "crop_img(os.path.join(out_path, \"disparity_interval_1.png\"))"
   ]
  },
  {
   "cell_type": "code",
   "execution_count": null,
   "id": "32e1d48d-2e03-425c-b530-7dfddc48f183",
   "metadata": {
    "tags": []
   },
   "outputs": [],
   "source": [
    "fig, ax = plt.subplots(1,1,figsize=(10, 5))\n",
    "\n",
    "min_cv, max_cv =  np.nanmin(pandora_machine.left_cv.cost_volume.data),  np.nanmax(pandora_machine.left_cv.cost_volume.data)\n",
    "cv = (pandora_machine.left_cv.sel({\"row\":236, \"col\": 110}).cost_volume.data - max_cv) / (min_cv - max_cv)\n",
    "ax.axhline(0.9, color=\"gray\", linestyle=\":\")\n",
    "ax.plot(pandora_machine.left_cv.disp, cv + 1 - np.nanmax(cv),\n",
    "        linewidth=2, color=\"#FF800E\", linestyle=\"--\", label=\"\\((236, 110)\\)\")\n",
    "\n",
    "\n",
    "disp_set = [Rectangle((-52.5, 0), -48.5-(-52.5), 0.9),\n",
    "            Rectangle((-44.7, 0), -40.1-(-44.7), 0.9),\n",
    "            Rectangle((-29.2, 0), -27.5-(-29.2), 0.9),\n",
    "            Rectangle((-21.2, 0), -16-(-21.2), 0.9),\n",
    "            Rectangle((-8.3, 0), -7.5-(-8.3), 0.9),\n",
    "           ]\n",
    "pc = PatchCollection(disp_set, facecolor=\"gray\", alpha=0.3,\n",
    "                     edgecolor=None)\n",
    "\n",
    "ax.add_collection(pc)\n",
    "\n",
    "ax.arrow(-50.5, 0.2, -1.7, 0, head_width=0.02, head_length=0.2, linewidth=4, color='gray', length_includes_head=True)\n",
    "ax.arrow(-50.5, 0.2, 1.7, 0, head_width=0.02, head_length=0.2, linewidth=4, color='gray', length_includes_head=True)\n",
    "\n",
    "ax.arrow(-42.4, 0.2, -1.9, 0, head_width=0.02, head_length=0.2, linewidth=4, color='gray', length_includes_head=True)\n",
    "ax.arrow(-42.4, 0.2, 1.9, 0, head_width=0.02, head_length=0.2, linewidth=4, color='gray', length_includes_head=True)\n",
    "\n",
    "ax.arrow(-28.35, 0.2, -0.7, 0, head_width=0.01, head_length=0.1, linewidth=4, color='gray', length_includes_head=True)\n",
    "ax.arrow(-28.25, 0.2, 0.7, 0, head_width=0.01, head_length=0.1, linewidth=4, color='gray', length_includes_head=True)\n",
    "\n",
    "ax.arrow(-18.6, 0.2, -2.2, 0, head_width=0.02, head_length=0.2, linewidth=4, color='gray', length_includes_head=True)\n",
    "ax.arrow(-18.6, 0.2, 2.2, 0, head_width=0.02, head_length=0.2, linewidth=4, color='gray', length_includes_head=True)\n",
    "\n",
    "ax.arrow(-18.6, 0.2, -2.2, 0, head_width=0.02, head_length=0.2, linewidth=4, color='gray', length_includes_head=True)\n",
    "ax.arrow(-18.6, 0.2, 2.2, 0, head_width=0.02, head_length=0.2, linewidth=4, color='gray', length_includes_head=True)\n",
    "\n",
    "ax.arrow(-7.9, 0.2, -0.2, 0, head_width=0.02, head_length=0.2, linewidth=2, color='gray', length_includes_head=True)\n",
    "ax.arrow(-7.9, 0.2, 0.2, 0, head_width=0.02, head_length=0.2, linewidth=2, color='gray', length_includes_head=True)\n",
    "\n",
    "\n",
    "ax.text(x=-35, y=0.17, s=r\"$D_\\alpha$\", size=30, color=\"gray\")\n",
    "\n",
    "ax.set_xlim([np.nanmin(pandora_machine.left_cv.disp), np.nanmax(pandora_machine.left_cv.disp)])\n",
    "ax.set_ylim([0, 1])\n",
    "ax.set_yticks([0., 0.2, 0.4, 0.6, 0.8, 0.9, 1.0])\n",
    "ax.set_xlabel(\"\\(\\mathrm{Disparity}\\)\")\n",
    "ax.set_ylabel(\"\\(\\pi_{row,col}\\)\")\n",
    "plt.savefig(os.path.join(out_path, \"disparity_interval_2.png\"), dpi=250, bbox_inches='tight')\n",
    "crop_img(os.path.join(out_path, \"disparity_interval_2.png\"))"
   ]
  },
  {
   "cell_type": "code",
   "execution_count": null,
   "id": "1cf6329e-1154-4ac4-86ea-b0291a59c6ee",
   "metadata": {},
   "outputs": [],
   "source": [
    "fig, ax = plt.subplots(1,1,figsize=(10, 5))\n",
    "\n",
    "min_cv, max_cv =  np.nanmin(pandora_machine.left_cv.cost_volume.data),  np.nanmax(pandora_machine.left_cv.cost_volume.data)\n",
    "cv = (pandora_machine.left_cv.sel({\"row\":200, \"col\": 200}).cost_volume.data - max_cv) / (min_cv - max_cv)\n",
    "\n",
    "ax.axhline(0.9, color=\"gray\", linestyle=\":\")\n",
    "ax.plot(pandora_machine.left_cv.disp, cv + 1 - np.nanmax(cv),\n",
    "        linewidth=2, label=\"\\((200, 200)\\)\")\n",
    "\n",
    "disp_set = [Rectangle((-30.3, 0), -28.5-(-30.3), 0.9)]\n",
    "pc = PatchCollection(disp_set, facecolor=\"gray\", alpha=0.3,\n",
    "                     edgecolor=None)\n",
    "\n",
    "ax.add_collection(pc)\n",
    "\n",
    "ax.arrow(-29.4, 0.2, -0.9, 0, head_width=0.02, head_length=0.2, linewidth=4, color='gray', length_includes_head=True)\n",
    "ax.arrow(-29.4, 0.2, 0.9, 0, head_width=0.02, head_length=0.2, linewidth=4, color='gray', length_includes_head=True)\n",
    "\n",
    "ax.text(x=-35, y=0.17, s=r\"$I_\\alpha$\", size=30, color=\"gray\")\n",
    "\n",
    "ax.set_xlim([np.nanmin(pandora_machine.left_cv.disp), np.nanmax(pandora_machine.left_cv.disp)])\n",
    "ax.set_ylim([0, 1])\n",
    "ax.set_yticks([0., 0.2, 0.4, 0.6, 0.8, 0.9, 1.0])\n",
    "ax.set_xlabel(\"\\(\\mathrm{Disparity}\\)\")\n",
    "ax.set_ylabel(\"\\(\\pi_{row,col}\\)\")\n",
    "plt.savefig(os.path.join(out_path, \"disparity_interval_3.png\"), dpi=250, bbox_inches='tight')\n",
    "crop_img(os.path.join(out_path, \"disparity_interval_3.png\"))"
   ]
  },
  {
   "cell_type": "code",
   "execution_count": null,
   "id": "e49af51b-10b0-4a19-9795-12b85b96cd0d",
   "metadata": {
    "tags": []
   },
   "outputs": [],
   "source": [
    "fig, ax = plt.subplots(1,1,figsize=(10, 5))\n",
    "\n",
    "min_cv, max_cv =  np.nanmin(pandora_machine.left_cv.cost_volume.data),  np.nanmax(pandora_machine.left_cv.cost_volume.data)\n",
    "cv = (pandora_machine.left_cv.sel({\"row\":236, \"col\": 110}).cost_volume.data - max_cv) / (min_cv - max_cv)\n",
    "ax.axhline(0.9, color=\"gray\", linestyle=\":\")\n",
    "ax.plot(pandora_machine.left_cv.disp, cv + 1 - np.nanmax(cv),\n",
    "        linewidth=2, color=\"#FF800E\", linestyle=\"--\", label=\"\\((236, 110)\\)\")\n",
    "\n",
    "\n",
    "disp_set = [Rectangle((-52.5, 0), -7.5-(-52.5), 0.9),\n",
    "           ]\n",
    "pc = PatchCollection(disp_set, facecolor=\"gray\", alpha=0.3,\n",
    "                     edgecolor=None)\n",
    "\n",
    "ax.add_collection(pc)\n",
    "\n",
    "ax.arrow(-30, 0.2, -22, 0, head_width=0.02, head_length=0.2, linewidth=4, color='gray', length_includes_head=True)\n",
    "ax.arrow(-30, 0.2, 22, 0, head_width=0.02, head_length=0.2, linewidth=4, color='gray', length_includes_head=True)\n",
    "\n",
    "ax.text(x=-30, y=0.25, s=r\"$I_\\alpha$\", size=30, color=\"gray\")\n",
    "\n",
    "ax.set_xlim([np.nanmin(pandora_machine.left_cv.disp), np.nanmax(pandora_machine.left_cv.disp)])\n",
    "ax.set_ylim([0, 1])\n",
    "ax.set_yticks([0., 0.2, 0.4, 0.6, 0.8, 0.9, 1.0])\n",
    "ax.set_xlabel(\"\\(\\mathrm{Disparity}\\)\")\n",
    "ax.set_ylabel(\"\\(\\pi_{row,col}\\)\")\n",
    "plt.savefig(os.path.join(out_path, \"disparity_interval_4.png\"), dpi=250, bbox_inches='tight')\n",
    "crop_img(os.path.join(out_path, \"disparity_interval_4.png\"))"
   ]
  },
  {
   "cell_type": "markdown",
   "id": "d6a3adc6-a562-4364-8ebe-e902399b8376",
   "metadata": {},
   "source": [
    "## 4 Differenet Ambiguous zones"
   ]
  },
  {
   "cell_type": "code",
   "execution_count": null,
   "id": "b1c9c89e-f010-4efd-8d5e-7b897a6985c3",
   "metadata": {
    "tags": []
   },
   "outputs": [],
   "source": [
    "fig, ax = plt.subplots(1,1,figsize=(12,12))\n",
    "\n",
    "ax.imshow(pandora_machine.left_img.im.data[:, max(0, -d_min):min(n_col, n_col-d_max)], cmap=\"gray\", extent=(-0.5+60, 450.5, 375.5,-0.5))\n",
    "\n",
    "ax.plot([150, 350], [80, 80], linewidth=4, color=orange)\n",
    "ax.plot([60, 400], [180, 180], linewidth=4, color=orange)\n",
    "ax.plot([75, 450], [240, 240], linewidth=4, color=orange)\n",
    "ax.plot([75, 450], [290, 290], linewidth=4, color=orange)\n",
    "\n",
    "plt.savefig(os.path.join(out_path, \"cones_with_rows.png\"), dpi=250, bbox_inches='tight')\n",
    "crop_img(os.path.join(out_path, \"cones_with_rows.png\"))"
   ]
  },
  {
   "cell_type": "code",
   "execution_count": null,
   "id": "5d7db476-b648-4f84-9eb7-d27498e75a43",
   "metadata": {
    "tags": []
   },
   "outputs": [],
   "source": [
    "# cones\n",
    "\n",
    "row = 80\n",
    "col_inf, col_sup = 150, 350\n",
    "fig = plt.figure(figsize=(12, 5))\n",
    "ax = fig.add_subplot(111)\n",
    "\n",
    "#ellipses = [Ellipse((217, -23), width=6, height=5, facecolor=None)]\n",
    "#pc = PatchCollection(ellipses, linestyle=\":\", linewidth=2, color=gray, alpha=1, facecolor=(1,1,1,0))\n",
    "#ax.add_collection(pc)\n",
    "\n",
    "ax.plot(np.arange(col_inf, col_sup), true_disp[row, col_inf:col_sup], color=blue, label=\"\\(d_{true}\\)\", linewidth=2.5)\n",
    "ax.plot(np.arange(col_inf, col_sup), disp_map[row, col_inf:col_sup], color=orange, label=r\"\\(\\tilde{d}\\)\", linewidth=2, alpha=0.7)\n",
    "ax.plot(np.arange(col_inf, col_sup), conf_inf_no_reg[row, col_inf:col_sup], linestyle=\"--\", color=orange, label=r\"\\(I_\\alpha\\)\", linewidth=1.5)\n",
    "ax.plot(np.arange(col_inf, col_sup), conf_sup_no_reg[row, col_inf:col_sup], linestyle=\"--\", color=orange, linewidth=1.5)\n",
    "\n",
    "ax.set_ylabel(\"\\(\\mathrm{Disparity}\\)\")\n",
    "ax.set_xlabel(\"\\(\\mathrm{Columns}\\)\")\n",
    "\n",
    "ax.set_xlim([col_inf, col_sup-1])\n",
    "ax.set_ylim((-27.5, -16.5))\n",
    "ax.grid(True)\n",
    "ax.legend(loc=(0.001, 0.01), frameon=True, framealpha=1, facecolor=\"white\");\n",
    "\n",
    "plt.savefig(os.path.join(out_path, \"intervals_ambiguous_area_row_80_1.png\"), dpi=250, bbox_inches='tight')\n",
    "crop_img(os.path.join(out_path, \"intervals_ambiguous_area_row_80_1.png\"))\n",
    "############################################################################################################################################\n",
    "\n",
    "############################################################################################################################################\n",
    "\n",
    "############################################################################################################################################\n",
    "\n",
    "\n",
    "fig = plt.figure(figsize=(12, 5))\n",
    "ax = fig.add_subplot(111)\n",
    "\n",
    "ax.plot(np.arange(col_inf, col_sup), true_disp[row, col_inf:col_sup], color=blue, label=\"\\(d_{true}\\)\", linewidth=2.5)\n",
    "ax.plot(np.arange(col_inf, col_sup), disp_map[row, col_inf:col_sup], color=orange, label=r\"\\(\\tilde{d}\\)\", linewidth=2, alpha=0.7)\n",
    "ax.plot(np.arange(col_inf, col_sup), conf_inf[row, col_inf:col_sup], linestyle=\"--\", color=orange, label=r\"\\(I_\\alpha\\)\", linewidth=1.5)\n",
    "ax.plot(np.arange(col_inf, col_sup), conf_sup[row, col_inf:col_sup], linestyle=\"--\", color=orange, linewidth=1.5)\n",
    "\n",
    "ax.set_ylabel(\"\\(\\mathrm{Disparity}\\)\")\n",
    "ax.set_xlabel(\"\\(\\mathrm{Columns}\\)\")\n",
    "\n",
    "ax.set_xlim([col_inf, col_sup-1])\n",
    "ax.grid(True)\n",
    "\n",
    "# Grey area for invalid pixels\n",
    "bottom_, top_ = ax.get_ylim()\n",
    "diffs = np.diff(np.hstack([[False], validity_bitmap[row, :370, 2], [False]]).astype(int))\n",
    "lefts_, rights_ = np.argwhere(diffs==1).flatten(), np.argwhere(diffs==-1).flatten() - 1\n",
    "invalid_zones = [Rectangle((l_, bottom_), r_ - l_, top_ - bottom_) for l_, r_ in zip(lefts_, rights_)]\n",
    "pc = PatchCollection(invalid_zones, facecolor=\"gray\", alpha=0.3)\n",
    "ax.add_collection(pc)\n",
    "\n",
    "ax.set_ylim((-27.5, -16.5))\n",
    "ax.legend(loc=(0.001, 0.01), frameon=True, framealpha=1, facecolor=\"white\");\n",
    "\n",
    "plt.savefig(os.path.join(out_path, \"intervals_ambiguous_area_row_80_2.png\"), dpi=250, bbox_inches='tight')\n",
    "crop_img(os.path.join(out_path, \"intervals_ambiguous_area_row_80_2.png\"))"
   ]
  },
  {
   "cell_type": "code",
   "execution_count": null,
   "id": "6c274901-b47d-40dc-b3d7-eb575f291e9c",
   "metadata": {
    "tags": []
   },
   "outputs": [],
   "source": [
    "# cones\n",
    "row = 180\n",
    "col_inf, col_sup = 60, 400\n",
    "fig = plt.figure(figsize=(12, 5))\n",
    "ax = fig.add_subplot(111)\n",
    "\n",
    "ax.plot(np.arange(col_inf, col_sup), true_disp[row, col_inf:col_sup], color=blue, label=\"\\(d_{true}\\)\", linewidth=2.5)\n",
    "ax.plot(np.arange(col_inf, col_sup), disp_map[row, col_inf:col_sup], color=orange, label=r\"\\(\\tilde{d}\\)\", linewidth=2, alpha=0.7)\n",
    "ax.plot(np.arange(col_inf, col_sup), conf_inf_no_reg[row, col_inf:col_sup], linestyle=\"--\", color=orange, label=r\"\\(I_\\alpha\\)\", linewidth=1.5)\n",
    "ax.plot(np.arange(col_inf, col_sup), conf_sup_no_reg[row, col_inf:col_sup], linestyle=\"--\", color=orange, linewidth=1.5)\n",
    "\n",
    "ax.set_ylabel(\"\\(\\mathrm{Disparity}\\)\")\n",
    "ax.set_xlabel(\"\\(\\mathrm{Columns}\\)\")\n",
    "\n",
    "ax.set_xlim([col_inf, col_sup-1])\n",
    "ax.set_ylim([-63, 3])\n",
    "ax.grid(True)\n",
    "\n",
    "ax.legend(loc=(0.85, 0.7), frameon=True, framealpha=1, facecolor=\"white\");\n",
    "plt.savefig(os.path.join(out_path, \"intervals_ambiguous_area_row_180_1.png\"), dpi=250, bbox_inches='tight')\n",
    "crop_img(os.path.join(out_path, \"intervals_ambiguous_area_row_180_1.png\"))\n",
    "############################################################################################################################################\n",
    "\n",
    "############################################################################################################################################\n",
    "\n",
    "############################################################################################################################################\n",
    "\n",
    "\n",
    "fig = plt.figure(figsize=(12, 5))\n",
    "ax = fig.add_subplot(111)\n",
    "\n",
    "ax.plot(np.arange(col_inf, col_sup), true_disp[row, col_inf:col_sup], color=blue, label=\"\\(d_{true}\\)\", linewidth=2.5)\n",
    "ax.plot(np.arange(col_inf, col_sup), disp_map[row, col_inf:col_sup], color=orange, label=r\"\\(\\tilde{d}\\)\", linewidth=2, alpha=0.7)\n",
    "ax.plot(np.arange(col_inf, col_sup), conf_inf[row, col_inf:col_sup], linestyle=\"--\", color=orange, label=r\"\\(I_\\alpha\\)\", linewidth=1.5)\n",
    "ax.plot(np.arange(col_inf, col_sup), conf_sup[row, col_inf:col_sup], linestyle=\"--\", color=orange, linewidth=1.5)\n",
    "\n",
    "ax.set_ylabel(\"\\(\\mathrm{Disparity}\\)\")\n",
    "ax.set_xlabel(\"\\(\\mathrm{Columns}\\)\")\n",
    "\n",
    "ax.set_xlim([col_inf, col_sup-1])\n",
    "ax.set_ylim([-63, 3])\n",
    "ax.grid(True)\n",
    "\n",
    "# Grey area for invalid pixels\n",
    "bottom_, top_ = ax.get_ylim()\n",
    "diffs = np.diff(np.hstack([[False], validity_bitmap[row, :370, 2], [False]]).astype(int))\n",
    "lefts_, rights_ = np.argwhere(diffs==1).flatten(), np.argwhere(diffs==-1).flatten() - 1\n",
    "invalid_zones = [Rectangle((l_, bottom_), r_ - l_, top_ - bottom_) for l_, r_ in zip(lefts_, rights_)]\n",
    "pc = PatchCollection(invalid_zones, facecolor=\"gray\", alpha=0.3)\n",
    "ax.add_collection(pc)\n",
    "\n",
    "ax.legend(loc=(0.85, 0.7), frameon=True, framealpha=1, facecolor=\"white\");\n",
    "plt.savefig(os.path.join(out_path, \"intervals_ambiguous_area_row_180_2.png\"), dpi=250, bbox_inches='tight')\n",
    "crop_img(os.path.join(out_path, \"intervals_ambiguous_area_row_180_2.png\"))"
   ]
  },
  {
   "cell_type": "code",
   "execution_count": null,
   "id": "c17ad73a-6536-46f3-9262-ebb2069aa749",
   "metadata": {
    "tags": []
   },
   "outputs": [],
   "source": [
    "# cones\n",
    "row = 240\n",
    "col_inf, col_sup = 75, 450\n",
    "fig = plt.figure(figsize=(12, 5))\n",
    "ax = fig.add_subplot(111)\n",
    "\n",
    "ax.plot(np.arange(col_inf, col_sup), true_disp[row, col_inf:col_sup], color=blue, label=\"\\(d_{true}\\)\", linewidth=2.5)\n",
    "ax.plot(np.arange(col_inf, col_sup), disp_map[row, col_inf:col_sup], color=orange, label=r\"\\(\\tilde{d}\\)\", linewidth=2, alpha=0.7)\n",
    "ax.plot(np.arange(col_inf, col_sup), conf_inf_no_reg[row, col_inf:col_sup], linestyle=\"--\", color=orange, label=r\"\\(I_\\alpha\\)\", linewidth=1.5)\n",
    "ax.plot(np.arange(col_inf, col_sup), conf_sup_no_reg[row, col_inf:col_sup], linestyle=\"--\", color=orange, linewidth=1.5)\n",
    "\n",
    "ax.set_ylabel(\"\\(\\mathrm{Disparity}\\)\")\n",
    "ax.set_xlabel(\"\\(\\mathrm{Columns}\\)\")\n",
    "\n",
    "ax.set_xlim([col_inf, col_sup-1])\n",
    "ax.grid(True)\n",
    "\n",
    "ax.set_ylim((-58.1, -11.9))\n",
    "ax.legend(loc=(0.15, 0.7), frameon=True, framealpha=1, facecolor=\"white\");\n",
    "plt.savefig(os.path.join(out_path, \"intervals_ambiguous_area_row_240_1.png\"), dpi=250, bbox_inches='tight')\n",
    "crop_img(os.path.join(out_path, \"intervals_ambiguous_area_row_240_1.png\"))\n",
    "\n",
    "############################################################################################################################################\n",
    "\n",
    "############################################################################################################################################\n",
    "\n",
    "############################################################################################################################################\n",
    "\n",
    "\n",
    "fig = plt.figure(figsize=(12, 5))\n",
    "ax = fig.add_subplot(111)\n",
    "\n",
    "ax.plot(np.arange(col_inf, col_sup), true_disp[row, col_inf:col_sup], color=blue, label=\"\\(d_{true}\\)\", linewidth=2.5)\n",
    "ax.plot(np.arange(col_inf, col_sup), disp_map[row, col_inf:col_sup], color=orange, label=r\"\\(\\tilde{d}\\)\", linewidth=2, alpha=0.7)\n",
    "ax.plot(np.arange(col_inf, col_sup), conf_inf[row, col_inf:col_sup], linestyle=\"--\", color=orange, label=r\"\\(I_\\alpha\\)\", linewidth=1.5)\n",
    "ax.plot(np.arange(col_inf, col_sup), conf_sup[row, col_inf:col_sup], linestyle=\"--\", color=orange, linewidth=1.5)\n",
    "\n",
    "ax.set_ylabel(\"\\(\\mathrm{Disparity}\\)\")\n",
    "ax.set_xlabel(\"\\(\\mathrm{Columns}\\)\")\n",
    "\n",
    "ax.set_ylim((-58.1, -11.9))\n",
    "ax.set_xlim([col_inf, col_sup-1])\n",
    "ax.grid(True)\n",
    "\n",
    "# Grey area for invalid pixels\n",
    "bottom_, top_ = ax.get_ylim()\n",
    "diffs = np.diff(np.hstack([[False], validity_bitmap[row, :370, 2], [False]]).astype(int))\n",
    "lefts_, rights_ = np.argwhere(diffs==1).flatten(), np.argwhere(diffs==-1).flatten() - 1\n",
    "invalid_zones = [Rectangle((l_, bottom_), r_ - l_, top_ - bottom_) for l_, r_ in zip(lefts_, rights_)]\n",
    "pc = PatchCollection(invalid_zones, facecolor=\"gray\", alpha=0.3)\n",
    "ax.add_collection(pc)\n",
    "\n",
    "\n",
    "ax.legend(loc=(0.15, 0.7), frameon=True, framealpha=1, facecolor=\"white\");\n",
    "plt.savefig(os.path.join(out_path, \"intervals_ambiguous_area_row_240_2.png\"), dpi=250, bbox_inches='tight')\n",
    "crop_img(os.path.join(out_path, \"intervals_ambiguous_area_row_240_2.png\"))"
   ]
  },
  {
   "cell_type": "code",
   "execution_count": null,
   "id": "7c4e4b07-8d6c-4b91-9d99-0759960ad2f1",
   "metadata": {
    "tags": []
   },
   "outputs": [],
   "source": [
    "# cones\n",
    "row = 290\n",
    "col_inf, col_sup = 75, 400\n",
    "fig = plt.figure(figsize=(12, 5))\n",
    "ax = fig.add_subplot(111)\n",
    "\n",
    "ax.plot(np.arange(col_inf, col_sup), true_disp[row, col_inf:col_sup], color=blue, label=\"\\(d_{true}\\)\", linewidth=2.5)\n",
    "ax.plot(np.arange(col_inf, col_sup), disp_map[row, col_inf:col_sup], color=orange, label=r\"\\(\\tilde{d}\\)\", linewidth=2, alpha=0.7)\n",
    "ax.plot(np.arange(col_inf, col_sup), conf_inf_no_reg[row, col_inf:col_sup], linestyle=\"--\", color=orange, label=r\"\\(I_\\alpha\\)\", linewidth=1.5)\n",
    "ax.plot(np.arange(col_inf, col_sup), conf_sup_no_reg[row, col_inf:col_sup], linestyle=\"--\", color=orange, linewidth=1.5)\n",
    "\n",
    "ax.set_ylabel(\"\\(\\mathrm{Disparity}\\)\")\n",
    "ax.set_xlabel(\"\\(\\mathrm{Columns}\\)\")\n",
    "\n",
    "ax.set_xlim([col_inf, col_sup-1])\n",
    "ax.grid(True)\n",
    "ax.set_ylim((-53.0, -31.0))\n",
    "ax.legend(loc=(0.06, 0.7), frameon=True, framealpha=1, facecolor=\"white\");\n",
    "plt.savefig(os.path.join(out_path, \"intervals_ambiguous_area_row_290_1.png\"), dpi=250, bbox_inches='tight')\n",
    "crop_img(os.path.join(out_path, \"intervals_ambiguous_area_row_290_1.png\"))\n",
    "############################################################################################################################################\n",
    "\n",
    "############################################################################################################################################\n",
    "\n",
    "############################################################################################################################################\n",
    "\n",
    "\n",
    "fig = plt.figure(figsize=(12, 5))\n",
    "ax = fig.add_subplot(111)\n",
    "\n",
    "ax.plot(np.arange(col_inf, col_sup), true_disp[row, col_inf:col_sup], color=blue, label=\"\\(d_{true}\\)\", linewidth=2.5)\n",
    "ax.plot(np.arange(col_inf, col_sup), disp_map[row, col_inf:col_sup], color=orange, label=r\"\\(\\tilde{d}\\)\", linewidth=2, alpha=0.7)\n",
    "ax.plot(np.arange(col_inf, col_sup), conf_inf[row, col_inf:col_sup], linestyle=\"--\", color=orange, label=r\"\\(I_\\alpha\\)\", linewidth=1.5)\n",
    "ax.plot(np.arange(col_inf, col_sup), conf_sup[row, col_inf:col_sup], linestyle=\"--\", color=orange, linewidth=1.5)\n",
    "\n",
    "ax.set_ylabel(\"\\(\\mathrm{Disparity}\\)\")\n",
    "ax.set_xlabel(\"\\(\\mathrm{Columns}\\)\")\n",
    "\n",
    "ax.set_xlim([col_inf, col_sup-1])\n",
    "ax.grid(True)\n",
    "\n",
    "ax.set_ylim((-53.0, -31.0))\n",
    "# Grey area for invalid pixels\n",
    "bottom_, top_ = ax.get_ylim()\n",
    "diffs = np.diff(np.hstack([[False], validity_bitmap[row, :370, 2], [False]]).astype(int))\n",
    "lefts_, rights_ = np.argwhere(diffs==1).flatten(), np.argwhere(diffs==-1).flatten() - 1\n",
    "invalid_zones = [Rectangle((l_, bottom_), r_ - l_, top_ - bottom_) for l_, r_ in zip(lefts_, rights_)]\n",
    "pc = PatchCollection(invalid_zones, facecolor=\"gray\", alpha=0.3)\n",
    "ax.add_collection(pc)\n",
    "\n",
    "\n",
    "ax.legend(loc=(0.06, 0.7), frameon=True, framealpha=1, facecolor=\"white\");\n",
    "plt.savefig(os.path.join(out_path, \"intervals_ambiguous_area_row_290_2.png\"), dpi=250, bbox_inches='tight')\n",
    "crop_img(os.path.join(out_path, \"intervals_ambiguous_area_row_290_2.png\"))"
   ]
  },
  {
   "cell_type": "markdown",
   "id": "6b2fa9e5-09f5-4be9-9375-77a57edf1fc9",
   "metadata": {},
   "source": [
    "## Correlation between errors and low confidence"
   ]
  },
  {
   "cell_type": "code",
   "execution_count": null,
   "id": "f6763811-5c52-4d2a-8f12-d3047bc9ee0c",
   "metadata": {
    "tags": []
   },
   "outputs": [],
   "source": [
    "fig, ax = plt.subplots(1,1,figsize=(12,12))\n",
    "\n",
    "mask_wrong_intervals = np.zeros(pandora_machine.left_img.im.data.shape+(4,), dtype=np.uint8)\n",
    "mask_wrong_intervals[wrong_intervals_no_reg] = tuple(int(orange.lstrip(\"#\")[i:i+2], 16) for i in (0, 2, 4)) + (255,)\n",
    "\n",
    "ax.imshow(pandora_machine.left_img.im.data[:, max(0, -d_min):min(n_col, n_col-d_max)], cmap=\"gray\")\n",
    "ax.imshow(mask_wrong_intervals[:, max(0, -d_min):min(n_col, n_col-d_max)])\n",
    "ax.get_yaxis().set_visible(False)\n",
    "ax.get_xaxis().set_visible(False)\n",
    "\n",
    "plt.savefig(os.path.join(out_path, \"wrong_intervals_no_reg.png\"), dpi=250, bbox_inches='tight')\n",
    "crop_img(os.path.join(out_path, \"wrong_intervals_no_reg.png\"))"
   ]
  },
  {
   "cell_type": "code",
   "execution_count": null,
   "id": "fa44dab4-f506-4620-acd2-8c2849ed4ef0",
   "metadata": {
    "tags": []
   },
   "outputs": [],
   "source": [
    "fig, ax = plt.subplots(1,1,figsize=(12,12))\n",
    "\n",
    "ax.imshow(conf_amb[:, max(0, -d_min):min(n_col, n_col-d_max)], cmap=\"gray\", vmin=0, vmax=1)\n",
    "ax.get_yaxis().set_visible(False)\n",
    "ax.get_xaxis().set_visible(False)\n",
    "\n",
    "plt.savefig(os.path.join(out_path, \"ambiguity_cones.png\"), dpi=250, bbox_inches='tight')\n",
    "crop_img(os.path.join(out_path, \"ambiguity_cones.png\"))"
   ]
  },
  {
   "cell_type": "markdown",
   "id": "86143179-8d8f-4a09-890d-4a19577f1dc3",
   "metadata": {},
   "source": [
    "## Ambiguity minimitive kernel"
   ]
  },
  {
   "cell_type": "code",
   "execution_count": null,
   "id": "234e7e3b-f5e9-4661-b14d-cfa558bddd25",
   "metadata": {
    "tags": []
   },
   "outputs": [],
   "source": [
    "row = 110\n",
    "col_inf, col_sup = 150, 375\n",
    "fig, ax = plt.subplots(1, 1, figsize=(12, 3))\n",
    "\n",
    "ax.plot(np.arange(col_inf, col_sup+1), conf_amb[row, col_inf:col_sup+1], label=r\"\\(c_{Amb}\\)\")\n",
    "ax.plot(np.arange(col_inf, col_sup+1), minimized_conf_from_amb[row, col_inf:col_sup+1], label=r\"\\(\\min c_{Amb}\\)\")\n",
    "\n",
    "ax.set_xlim((col_inf, col_sup))\n",
    "ax.set_xlabel(r\"\\(\\mathrm{Columns}\\)\")\n",
    "ax.set_ylabel(r\"\\(c_{Amb}\\)\")\n",
    "\n",
    "ax.axhline(0.6, linestyle=\":\", color=dark_gray)\n",
    "ax.set_ylim((0, 1.05))\n",
    "\n",
    "bottom_, top_ = ax.get_ylim()\n",
    "diffs = np.diff(np.hstack([[False], validity_bitmap[row, :370, 2], [False]]).astype(int))\n",
    "lefts_, rights_ = np.argwhere(diffs==1).flatten(), np.argwhere(diffs==-1).flatten() - 1\n",
    "invalid_zones = [Rectangle((l_, bottom_), r_ - l_, top_ - bottom_) for l_, r_ in zip(lefts_, rights_)]\n",
    "pc = PatchCollection(invalid_zones, facecolor=\"gray\", alpha=0.3)\n",
    "ax.add_collection(pc)\n",
    "\n",
    "ax.set_yticks([0., 0.6, 1.0], [0, r\"\\(\\tau_{Amb}\\)\", 1])\n",
    "\n",
    "\n",
    "ax.legend(loc=(0.8, 0.01), frameon=True, framealpha=1, facecolor=\"white\");\n",
    "plt.savefig(os.path.join(out_path, f\"ambiguity_kernel_row_{row}.png\"), dpi=250, bbox_inches='tight')\n",
    "crop_img(os.path.join(out_path, f\"ambiguity_kernel_row_{row}.png\"))"
   ]
  },
  {
   "cell_type": "code",
   "execution_count": null,
   "id": "a0e43ae8-7dd1-4fae-beec-889d81787c88",
   "metadata": {
    "tags": []
   },
   "outputs": [],
   "source": [
    "fig, ax = plt.subplots(1,1,figsize=(12,12))\n",
    "\n",
    "ax.imshow(mask_amb[:, max(0, -d_min):min(n_col, n_col-d_max)], cmap=\"gray\", vmin=0, vmax=1)\n",
    "ax.get_yaxis().set_visible(False)\n",
    "ax.get_xaxis().set_visible(False)\n",
    "\n",
    "plt.savefig(os.path.join(out_path, \"ambiguity_mask_cones.png\"), dpi=250, bbox_inches='tight')\n",
    "crop_img(os.path.join(out_path, \"ambiguity_mask_cones.png\"))"
   ]
  },
  {
   "cell_type": "code",
   "execution_count": null,
   "id": "c96a7ef6-1d87-412e-8fba-f7e2ca189549",
   "metadata": {},
   "outputs": [],
   "source": [
    "precision = (wrong_intervals_no_reg[:,max(0, -d_min):min(n_col, n_col-d_max)] & (~mask_amb[:,max(0, -d_min):min(n_col, n_col-d_max)])).sum() / (~mask_amb[:,max(0, -d_min):min(n_col, n_col-d_max)]).sum()\n",
    "recall = (wrong_intervals_no_reg[:,max(0, -d_min):min(n_col, n_col-d_max)] & (~mask_amb[:,max(0, -d_min):min(n_col, n_col-d_max)])).sum() / wrong_intervals_no_reg[:,max(0, -d_min):min(n_col, n_col-d_max)].sum()\n",
    "\n",
    "f1_score = 2 * (precision * recall) / (precision + recall)\n",
    "f1_score, precision, recall"
   ]
  },
  {
   "cell_type": "markdown",
   "id": "f44f4f8e-0608-4a4d-99a8-f65d143d6437",
   "metadata": {
    "tags": []
   },
   "source": [
    "## Segments for regularization"
   ]
  },
  {
   "cell_type": "code",
   "execution_count": null,
   "id": "394ce2f7-ab50-48e8-ae6d-e3ed4b71dee4",
   "metadata": {
    "tags": []
   },
   "outputs": [],
   "source": [
    "#left, right, bottom, top = 110, 130, 50, 30\n",
    "left, right, bottom, top = 110, 130, 45, 35\n",
    "\n",
    "fig, ax = plt.subplots(1, 1, figsize=(8, 8))\n",
    "\n",
    "ax.imshow(mask_amb[top:bottom, left:right], cmap=\"gray\", vmin=0, vmax=1, extent=(left, right, bottom, top))\n",
    "custom_grid(ax, left, right, top, bottom)\n",
    "\n",
    "ax.plot([121, 127, 127, 121, 121], [44, 44, 43, 43, 44], linewidth=3, color=blue)  # row - 3\n",
    "\n",
    "ax.plot([115, 124, 124, 115, 115], [39, 39, 38, 38, 39], linewidth=3, color=gray_blue)  # row + 2\n",
    "ax.plot([113, 119, 119, 113, 113], [43, 43, 42, 42, 43], linewidth=3, color=gray_blue)  # row - 2\n",
    "ax.plot([122, 127, 127, 122, 122], [43, 43, 42, 42, 43], linewidth=3, color=gray_blue)  # row - 2\n",
    "\n",
    "ax.plot([113, 127, 127, 113, 113], [42, 42, 41, 41, 42], linewidth=3, color=light_orange)  # row - 1\n",
    "ax.plot([114, 126, 126, 114, 114], [40, 40, 39, 39, 40], linewidth=3, color=light_orange)  # row + 1\n",
    "\n",
    "ax.plot([115, 126, 126, 115, 115], [41, 41, 40, 40, 41], linewidth=3, color=orange)\n",
    "\n",
    "ax.plot([120, 121, 121, 120, 120], [41, 41, 40, 40, 41], linewidth=1, color=orange)\n",
    "ax.plot([115.3, 120], [44, 40.5], linewidth=1, color=orange, linestyle=\":\")\n",
    "\n",
    "ax.text(x=112, y=44.7, s=r\"\\((row,~col)\\)\", fontsize=16)\n",
    "\n",
    "legend_elements = [Patch(fill=False, edgecolor=orange, linewidth=3, label=r\"\\(S(row,col)\\)\"),\n",
    "                   Patch(fill=False, edgecolor=light_orange, linewidth=3, label=r\"\\(S(row\\pm 1,col_{\\pm1})\\)\"),\n",
    "                   Patch(fill=False, edgecolor=gray_blue, linewidth=3, label=r\"\\(S(row\\pm2,col_{\\pm2})\\)\"),\n",
    "                   Patch(fill=False, edgecolor=blue, linewidth=3, label=r\"\\(S(row\\pm3,col_{\\pm3})\\)\")]\n",
    "\n",
    "ax.set_xticks(np.arange(left, right + 1, 5))\n",
    "ax.set_yticks(np.arange(top, bottom + 1, 5))\n",
    "\n",
    "ax.legend(handles=legend_elements, loc=(0.005, 0.77), ncol=2, fontsize=15)\n",
    "plt.savefig(os.path.join(out_path, f\"low_confidence_segments.png\"), dpi=250, bbox_inches='tight')\n",
    "crop_img(os.path.join(out_path, f\"low_confidence_segments.png\"))"
   ]
  },
  {
   "cell_type": "markdown",
   "id": "491a5654-0ab3-4ca3-b719-a292d8cefbc1",
   "metadata": {},
   "source": [
    "## Position of wrong intervals with and without regularization in low confidence areas"
   ]
  },
  {
   "cell_type": "code",
   "execution_count": null,
   "id": "90851493-597c-4eb8-b5f0-7a0225f16ee3",
   "metadata": {
    "tags": []
   },
   "outputs": [],
   "source": [
    "fig, ax = plt.subplots(1,1,figsize=(12,12))\n",
    "\n",
    "mask_wrong_intervals = np.zeros(pandora_machine.left_img.im.data.shape+(4,), dtype=np.uint8)\n",
    "mask_wrong_intervals[wrong_intervals_no_reg] = tuple(int(orange.lstrip(\"#\")[i:i+2], 16) for i in (0, 2, 4)) + (255,)\n",
    "\n",
    "ax.imshow(pandora_machine.left_img.im.data[:, max(0, -d_min):min(n_col, n_col-d_max)], cmap=\"gray\")\n",
    "ax.imshow(mask_wrong_intervals[:, max(0, -d_min):min(n_col, n_col-d_max)])\n",
    "ax.get_yaxis().set_visible(False)\n",
    "ax.get_xaxis().set_visible(False)\n",
    "\n",
    "plt.savefig(os.path.join(out_path, \"comparison_wrong_intervals_no_reg.png\"), dpi=250, bbox_inches='tight')\n",
    "crop_img(os.path.join(out_path, \"comparison_wrong_intervals_no_reg.png\"))\n",
    "\n",
    "fig, ax = plt.subplots(1,1,figsize=(12,12))\n",
    "\n",
    "mask_wrong_intervals = np.zeros(pandora_machine.left_img.im.data.shape+(4,), dtype=np.uint8)\n",
    "mask_wrong_intervals[wrong_intervals] = tuple(int(orange.lstrip(\"#\")[i:i+2], 16) for i in (0, 2, 4)) + (255,)\n",
    "\n",
    "ax.imshow(pandora_machine.left_img.im.data[:, max(0, -d_min):min(n_col, n_col-d_max)], cmap=\"gray\")\n",
    "ax.imshow(mask_wrong_intervals[:, max(0, -d_min):min(n_col, n_col-d_max)])\n",
    "ax.get_yaxis().set_visible(False)\n",
    "ax.get_xaxis().set_visible(False)\n",
    "\n",
    "plt.savefig(os.path.join(out_path, \"comparison_wrong_intervals_reg.png\"), dpi=250, bbox_inches='tight')\n",
    "crop_img(os.path.join(out_path, \"comparison_wrong_intervals_reg.png\"))"
   ]
  },
  {
   "cell_type": "code",
   "execution_count": null,
   "id": "00724b20-48a8-4ceb-bab7-0e22404fdad1",
   "metadata": {
    "tags": []
   },
   "outputs": [],
   "source": [
    "wrong_intervals_no_reg[:, max(0, -d_min):min(n_col, n_col-d_max)].sum()/wrong_intervals_no_reg[:, max(0, -d_min):min(n_col, n_col-d_max)].size, wrong_intervals[:, max(0, -d_min):min(n_col, n_col-d_max)].sum()/wrong_intervals[:, max(0, -d_min):min(n_col, n_col-d_max)].size"
   ]
  },
  {
   "cell_type": "markdown",
   "id": "8a238dd1-4d64-4d7e-9494-afee78927805",
   "metadata": {},
   "source": [
    "# Relative overestimation"
   ]
  },
  {
   "cell_type": "code",
   "execution_count": null,
   "id": "0f6483d8-7689-4b6f-956d-6774b4753d48",
   "metadata": {
    "tags": []
   },
   "outputs": [],
   "source": [
    "row = 230\n",
    "col_inf, col_sup = 95, 132\n",
    "col_inf, col_sup = 95, 134\n",
    "\n",
    "fig = plt.figure(figsize=(8, 4))\n",
    "ax = fig.add_subplot(111)\n",
    "\n",
    "ax.plot(np.arange(col_inf, col_sup), true_disp[row, col_inf:col_sup], color=blue, label=r\"\\(d_{true}\\)\", linewidth=2.5)\n",
    "ax.plot(np.arange(col_inf, col_sup), disp_map[row, col_inf:col_sup], color=orange, label=r\"\\(\\tilde{d}\\)\", linewidth=2, alpha=0.7)\n",
    "ax.plot(np.arange(col_inf, col_sup), conf_inf[row, col_inf:col_sup], linestyle=\"--\", color=orange, label=r\"\\(I_\\alpha\\)\", linewidth=1.5)\n",
    "ax.plot(np.arange(col_inf, col_sup), conf_sup[row, col_inf:col_sup], linestyle=\"--\", color=orange, linewidth=1.5)\n",
    "\n",
    "ax.set_ylabel(\"\\(\\mathrm{Disparity}\\)\")\n",
    "ax.set_xlabel(\"\\(\\mathrm{Columns}\\)\")\n",
    "\n",
    "ax.set_xlim([col_inf, col_sup])\n",
    "ax.set_ylim([-60, 10])\n",
    "\n",
    "ax.grid(True)\n",
    "\n",
    "\n",
    "bottom_, top_ = ax.get_ylim()\n",
    "diffs = np.diff(np.hstack([[False], validity_bitmap[row, :, 2], [False]]).astype(int))\n",
    "lefts_, rights_ = np.argwhere(diffs==1).flatten(), np.argwhere(diffs==-1).flatten() - 1\n",
    "invalid_zones = [Rectangle((l_, bottom_), r_ - l_, top_ - bottom_) for l_, r_ in zip(lefts_, rights_)]\n",
    "pc = PatchCollection(invalid_zones, facecolor=\"gray\", alpha=0.3)\n",
    "ax.add_collection(pc)\n",
    "\n",
    "ax.legend(loc=(0.2, 0.73), frameon=True, framealpha=0.9, facecolor=\"white\", ncols=2);\n",
    "\n",
    "delta_max = np.nanmax(np.hstack([disp_map[row, 100:127], true_disp[row, 100:126]]))\n",
    "delta_min = np.nanmin(np.hstack([disp_map[row, 100:127], true_disp[row, 100:126]]))\n",
    "ax.plot([100, 126], [delta_max, delta_max], c=\"k\", linestyle=\":\", linewidth=1.5)\n",
    "ax.plot([100, 126], [delta_min, delta_min], c=\"k\", linestyle=\":\", linewidth=1.5)\n",
    "\n",
    "ax.arrow(100.5, -30, 0, -20, head_width=0.4, head_length=2, linewidth=4, color='k', length_includes_head=True)\n",
    "ax.arrow(100.5, -30, 0, 17, head_width=0.4, head_length=2, linewidth=4, color='k', length_includes_head=True)\n",
    "\n",
    "ax.arrow(124.2, -30, 0, 10.5, head_width=0.4, head_length=2, linewidth=4, color='k', length_includes_head=True)\n",
    "ax.arrow(124.2, -30, 0, -19, head_width=0.4, head_length=2, linewidth=4, color='k', length_includes_head=True)\n",
    "\n",
    "ax.text(x=97, y=-17, s=r\"\\(I_\\alpha\\)\", size=30, color=\"k\")\n",
    "white_rect = [Rectangle((126.2, -38), 1, 9)]\n",
    "pc = PatchCollection(white_rect, facecolor=\"white\", alpha=1, zorder=2)\n",
    "ax.add_collection(pc)\n",
    "ax.text(x=125, y=-35, s=r\"\\(\\Delta|d_{true}-\\tilde{d}|\\)\", size=21, color=\"k\")\n",
    "\n",
    "plt.savefig(os.path.join(out_path, f\"relative_overestimation_row_{row}.png\"), dpi=250, bbox_inches='tight')\n",
    "crop_img(os.path.join(out_path, f\"relative_overestimation_row_{row}.png\"))"
   ]
  },
  {
   "cell_type": "markdown",
   "id": "3f354065-69f0-4c17-9dd1-d363484d85b9",
   "metadata": {},
   "source": [
    "# Downsampling Middlebury Images"
   ]
  },
  {
   "cell_type": "code",
   "execution_count": null,
   "id": "6be4df45-42b5-4827-bebd-e6011479c62d",
   "metadata": {
    "tags": []
   },
   "outputs": [],
   "source": [
    "img = np.asarray(Image.open(\"/work/CAMPUS/users/malinoro/Data/MiddleBury/2014/Jadeplant-perfect/im0.png\"))\n",
    "IMG = Image.fromarray(img[::4, ::4, :]).save(os.path.join(out_path, \"2014_Jadeplant-perfect.png\"))\n",
    "img = np.asarray(Image.open(\"/work/CAMPUS/users/malinoro/Data/MiddleBury/2021/artroom1/im0.png\"))\n",
    "IMG = Image.fromarray(img[::4, ::4, :]).save(os.path.join(out_path, \"2021_artroom1.png\"))\n",
    "img = np.asarray(Image.open(\"/work/CAMPUS/users/malinoro/Data/MiddleBury/2021/octogons1/im0.png\"))\n",
    "IMG = Image.fromarray(img[::4, ::4, :]).save(os.path.join(out_path, \"2021_octogons1.png\"))"
   ]
  },
  {
   "cell_type": "markdown",
   "id": "da29b1bb-7272-405d-8255-4202c619f04d",
   "metadata": {},
   "source": [
    "# Residual error"
   ]
  },
  {
   "cell_type": "code",
   "execution_count": null,
   "id": "7d9053f3-e478-4e25-93f4-4f139076e1fe",
   "metadata": {},
   "outputs": [],
   "source": [
    "row = 108\n",
    "col_inf, col_sup = 125, 200\n",
    "\n",
    "fig = plt.figure(figsize=(12, 5))\n",
    "ax = fig.add_subplot(111)\n",
    "\n",
    "for x in range(120, 201, 10):\n",
    "    ax.axvline(x, linewidth=1, alpha=0.3, color=gray)\n",
    "for y in [-22, -26, -30]:\n",
    "    ax.axhline(y, linewidth=1, alpha=0.3, color=gray)\n",
    "\n",
    "ax.plot(np.arange(col_inf, col_sup), true_disp[row, col_inf:col_sup], color=blue, label=\"\\(d_{true}\\)\", linewidth=2.5)\n",
    "ax.plot(np.arange(col_inf, col_sup), disp_map[row, col_inf:col_sup], color=orange, label=r\"\\(\\tilde{d}\\)\", linewidth=2, alpha=0.7)\n",
    "ax.plot(np.arange(col_inf, col_sup), conf_inf[row, col_inf:col_sup], linestyle=\"--\", color=orange, label=r\"\\(I_\\alpha\\)\", linewidth=1.5)\n",
    "ax.plot(np.arange(col_inf, col_sup), conf_sup[row, col_inf:col_sup], linestyle=\"--\", color=orange, linewidth=1.5)\n",
    "\n",
    "ax.set_ylabel(\"\\(\\mathrm{Disparity}\\)\")\n",
    "ax.set_xlabel(\"\\(\\mathrm{Columns}\\)\")\n",
    "\n",
    "ax.set_xlim([col_inf, col_sup-1])\n",
    "\n",
    "ax.arrow(137, -21.25, 0, 0.5, head_width=0.4, head_length=0.2, linewidth=4, color='k', length_includes_head=True, zorder=2)\n",
    "ax.arrow(137, -21.25, 0, -0.5, head_width=0.4, head_length=0.2, linewidth=4, color='k', length_includes_head=True, zorder=2)\n",
    "ax.text(x=135, y=-20.3, s=r\"\\(\\min(|d_{true}-\\overline{I}_\\alpha|, |d_{true}-\\underline{I}_\\alpha|)\\)\", size=20, color=\"k\")\n",
    "\n",
    "ax.arrow(192, -27, 0, 2.7, head_width=1, head_length=0.4, linewidth=4, color='k', length_includes_head=True, zorder=2)\n",
    "ax.arrow(192, -27, 0, -3.7, head_width=1, head_length=0.4, linewidth=4, color='k', length_includes_head=True, zorder=2)\n",
    "ax.text(x=163, y=-27, s=r\"\\(\\min(|d_{true}-\\overline{I}_\\alpha|, |d_{true}-\\underline{I}_\\alpha|)\\)\", size=20, color=\"k\")\n",
    "\n",
    "ax.legend(loc=(0.06, 0.05), frameon=True, framealpha=1, facecolor=\"white\");\n",
    "plt.savefig(os.path.join(out_path, f\"residual_error_row_{row}.png\"), dpi=250, bbox_inches='tight')\n",
    "crop_img(os.path.join(out_path, f\"residual_error_row_{row}.png\"))"
   ]
  },
  {
   "cell_type": "code",
   "execution_count": null,
   "id": "2eedd6b3-cb4b-47ba-9b95-44c829c3da05",
   "metadata": {},
   "outputs": [],
   "source": []
  },
  {
   "cell_type": "code",
   "execution_count": null,
   "id": "8e1642b8-82fb-4acd-b9aa-976c9451c157",
   "metadata": {},
   "outputs": [],
   "source": []
  }
 ],
 "metadata": {
  "kernelspec": {
   "display_name": "venv_pandora_trex",
   "language": "python",
   "name": "venv_pandora_trex"
  },
  "language_info": {
   "codemirror_mode": {
    "name": "ipython",
    "version": 3
   },
   "file_extension": ".py",
   "mimetype": "text/x-python",
   "name": "python",
   "nbconvert_exporter": "python",
   "pygments_lexer": "ipython3",
   "version": "3.8.4"
  }
 },
 "nbformat": 4,
 "nbformat_minor": 5
}
