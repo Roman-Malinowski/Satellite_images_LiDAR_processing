{
 "cells": [
  {
   "cell_type": "code",
   "execution_count": null,
   "id": "0733a88c-05d7-4c70-93b4-671ea79309df",
   "metadata": {},
   "outputs": [],
   "source": [
    "%load_ext autoreload\n",
    "%autoreload 2"
   ]
  },
  {
   "cell_type": "code",
   "execution_count": null,
   "id": "9545a72c-f3f1-4d89-8741-e58e8f38cc22",
   "metadata": {
    "tags": []
   },
   "outputs": [],
   "source": [
    "import json\n",
    "import os\n",
    "import re\n",
    "import warnings\n",
    "import logging"
   ]
  },
  {
   "cell_type": "code",
   "execution_count": null,
   "id": "59b72a5c-e4ea-47f3-92c9-71f419661b6d",
   "metadata": {
    "tags": []
   },
   "outputs": [],
   "source": [
    "logging.basicConfig(level=logging.INFO)"
   ]
  },
  {
   "cell_type": "code",
   "execution_count": null,
   "id": "a5c76ebb-195b-4fa3-9b1e-e41fa0f217ec",
   "metadata": {
    "tags": []
   },
   "outputs": [],
   "source": [
    "import cv2\n",
    "\n",
    "import matplotlib.pyplot as plt\n",
    "from matplotlib.lines import Line2D\n",
    "from matplotlib.collections import PatchCollection\n",
    "from matplotlib.patches import Rectangle, Ellipse, Patch\n",
    "#plt.rcParams[\"font.family\"] = \"DejaVu Serif\"\n",
    "plt.rcParams.update({'text.usetex': True, \"font.family\": \"sans-serif\", 'font.size': 18})\n",
    "plt.style.use(\"tableau-colorblind10\")  # [#006BA4, #FF800E, #ABABAB, #595959, #5F9ED1, #C85200, #898989, #A2C8EC, #FFBC79, #CFCFCF]\n",
    "plt.rcParams['axes.axisbelow'] = True\n",
    "\n",
    "import numpy as np\n",
    "from numba import njit, prange\n",
    "import pandas as pd\n",
    "from PIL import Image\n",
    "import rasterio\n",
    "import xarray as xr"
   ]
  },
  {
   "cell_type": "code",
   "execution_count": null,
   "id": "d33789b2-c22f-438b-89e5-bbd7c1a7d040",
   "metadata": {
    "tags": []
   },
   "outputs": [],
   "source": [
    "warnings.filterwarnings(action='ignore', category=rasterio.errors.NotGeoreferencedWarning, module='rasterio')\n",
    "warnings.filterwarnings(action='ignore', category=RuntimeWarning)"
   ]
  },
  {
   "cell_type": "code",
   "execution_count": null,
   "id": "8e745fb4-e4f4-4ccf-b161-2e0b3ab8c319",
   "metadata": {
    "tags": []
   },
   "outputs": [],
   "source": [
    "# Load pandora imports\n",
    "import pandora\n",
    "pandora.setup_logging(True)"
   ]
  },
  {
   "cell_type": "code",
   "execution_count": null,
   "id": "2a144d25-7861-4251-b357-cbe9cdeee73b",
   "metadata": {
    "tags": []
   },
   "outputs": [],
   "source": [
    "# Load plugins\n",
    "pandora.import_plugin()"
   ]
  },
  {
   "cell_type": "markdown",
   "id": "e28d94f9-202d-4c2b-9cb6-4177d9877c63",
   "metadata": {},
   "source": [
    "### Defining functions for loading Middlebury GT and for correctly plotting greyscale images."
   ]
  },
  {
   "cell_type": "code",
   "execution_count": null,
   "id": "133ed8ab-492e-49f5-b440-fef4e1e86f48",
   "metadata": {
    "tags": []
   },
   "outputs": [],
   "source": [
    "def process_pfm(disp_path):\n",
    "    \"\"\"Read Middlebury disparity map and calculate depth map.\n",
    "    http://davis.lbl.gov/Manuals/NETPBM/doc/pfm.html\n",
    "    \"\"\"\n",
    "    disp = cv2.imread(disp_path, cv2.IMREAD_UNCHANGED)\n",
    "    with open(disp_path, \"rb\") as pfm_file:\n",
    "        header = pfm_file.readline().decode().rstrip()\n",
    "        channels = 3 if header == \"PF\" else 1\n",
    "\n",
    "        dim_match = re.match(r\"^(\\d+)\\s(\\d+)\\s$\", pfm_file.readline().decode(\"utf-8\"))\n",
    "        if dim_match:\n",
    "            width, height = map(int, dim_match.groups())\n",
    "        else:\n",
    "            raise Exception(\"Malformed PFM header.\")\n",
    "\n",
    "        scale = float(\n",
    "            pfm_file.readline().decode().rstrip()\n",
    "        )  # read disparity scale factor\n",
    "        if scale < 0:\n",
    "            endian = \"<\"  # littel endian\n",
    "            scale = -scale\n",
    "        else:\n",
    "            endian = \">\"  # big endian\n",
    "\n",
    "    disp = disp * scale\n",
    "    return disp\n",
    "\n",
    "def normalize_for_imshow(img: np.ndarray):\n",
    "    img_normalized = np.zeros(img.shape, dtype=img.dtype)\n",
    "    for band in range(img.shape[-1]):\n",
    "        min_band, max_band = np.nanquantile(img[:,:,band], [0.01, 0.99])\n",
    "        img_normalized[:,:,band] = np.clip(img[:,:,band], min_band, max_band)\n",
    "        img_normalized[:,:,band] = (img_normalized[:,:,band] - np.nanmin(img_normalized[:,:,band])) / (np.nanmax(img_normalized[:,:,band]) - np.nanmin(img_normalized[:,:,band]))\n",
    "    return img_normalized\n",
    "\n",
    "def crop_img(path):\n",
    "    img = np.array(Image.open(path))\n",
    "    img_sum = img.sum(axis=2)\n",
    "    for k in range(img.shape[0]):\n",
    "        if (img_sum[k, :] != (255*4)).any():\n",
    "            top = k\n",
    "            break\n",
    "    for k in range(img.shape[0]):\n",
    "        if (img_sum[img.shape[0] - 1 - k, :] != (255*4)).any():\n",
    "            bottom = img.shape[0] - 1 - k\n",
    "            break\n",
    "    for k in range(img.shape[1]):\n",
    "        if (img_sum[:, k] != (255*4)).any():\n",
    "            left = k\n",
    "            break\n",
    "    for k in range(img.shape[1]):\n",
    "        if (img_sum[:, img.shape[1] - 1 - k] != (255*4)).any():\n",
    "            right = img.shape[1] - 1 - k\n",
    "            break\n",
    "    img = img[top:bottom+1, left:right+1]\n",
    "    Image.fromarray(img).save(path)"
   ]
  },
  {
   "cell_type": "code",
   "execution_count": null,
   "id": "bd379a31-8557-433c-98d1-6bb733fd5ec4",
   "metadata": {
    "tags": []
   },
   "outputs": [],
   "source": [
    "from numba import njit, prange\n",
    "\n",
    "def compute_overstimation(true_disp, disp_map, lefts, rights, int_inf, int_sup):\n",
    "    n = lefts.shape[0]\n",
    "    output = np.zeros(n, dtype=np.float64)\n",
    "    for k in prange(n):\n",
    "        if (np.nanmax(true_disp[lefts[k, 0], lefts[k, 1]:rights[k,1]+1]) > np.nanmax(int_sup[lefts[k, 0], lefts[k, 1]:rights[k,1]+1])) |\\\n",
    "           (np.nanmin(true_disp[lefts[k, 0], lefts[k, 1]:rights[k,1]+1]) < np.nanmax(int_inf[lefts[k, 0], lefts[k, 1]:rights[k,1]+1])):\n",
    "            output[k] = np.nan\n",
    "        else:\n",
    "            output[k] = np.nanmax(np.abs(true_disp[lefts[k, 0], lefts[k, 1]:rights[k,1]+1] - disp_map[lefts[k, 0], lefts[k, 1]:rights[k,1]+1])) \\\n",
    "            / (int_sup[lefts[k, 0], lefts[k, 1]]-int_inf[lefts[k, 0], lefts[k, 1]])\n",
    "    return output"
   ]
  },
  {
   "cell_type": "code",
   "execution_count": null,
   "id": "c3872792-2886-45fd-8c60-2af4e967d0f5",
   "metadata": {
    "tags": []
   },
   "outputs": [],
   "source": [
    "out_path = \"/work/CAMPUS/users/malinoro/outputs/These/IMG/\"\n",
    "\n",
    "blue=\"#006BA4\"\n",
    "orange=\"#FF800E\"\n",
    "gray=\"#ABABAB\"\n",
    "dark_gray=\"#595959\"\n",
    "gray_blue=\"#5F9ED1\"\n",
    "brown=\"#C85200\"\n",
    "third_gray=\"#898989\"\n",
    "light_blue=\"#A2C8EC\"\n",
    "light_orange=\"#FFBC79\"\n",
    "light_gray=\"#CFCFCF\""
   ]
  },
  {
   "cell_type": "code",
   "execution_count": null,
   "id": "a8c4eb0c-f3aa-4cbe-8644-adec2171d8bc",
   "metadata": {
    "tags": []
   },
   "outputs": [],
   "source": [
    "def load_data_mtp(output_path):\n",
    "    cfg_file_path = os.path.join(output_path, \"cfg/config.json\")\n",
    "    with open(cfg_file_path, \"r\") as f:\n",
    "        cfg_lines = f.readlines()\n",
    "    for l in cfg_lines:\n",
    "        if '\"disp_min\"' in l:\n",
    "            d_min = float(l.split(': ')[1].split(\",\")[0].split(\"\\n\")[0])\n",
    "        elif '\"disp_max\"' in l:\n",
    "            d_max = float(l.split(': ')[1].split(\",\")[0].split(\"\\n\")[0])\n",
    "    \n",
    "    true_disp = rasterio.open(os.path.join(output_path, \"left_epipolar_disp.tif\")).read(1)\n",
    "    disp_map = rasterio.open(os.path.join(output_path, \"left_disparity.tif\")).read(1)\n",
    "    \n",
    "    disp_conf = rasterio.open(os.path.join(output_path, \"left_confidence_measure.tif\"))\n",
    "    int_90_inf = disp_conf.read(4)\n",
    "    int_90_sup = disp_conf.read(5)\n",
    "    disp_map[disp_map<int_90_inf] = int_90_inf[disp_map<int_90_inf]\n",
    "    disp_map[disp_map>int_90_sup] = int_90_sup[disp_map>int_90_sup]\n",
    "    \n",
    "    validity_map = rasterio.open(os.path.join(output_path, \"left_validity_mask.tif\")).read(1)\n",
    "    validity_bitmap = (validity_map & (1<<11))>0\n",
    "    invalid_mask = (validity_map & 0b01111000011)>0\n",
    "    \n",
    "    valid_data = ~((true_disp==0) | (np.isnan(disp_map)) | (np.isnan(int_90_inf)) | (np.isnan(int_90_sup)) | invalid_mask)\n",
    "    #true_disp[~valid_data] = np.nan\n",
    "    #disp_map[~valid_data] = np.nan\n",
    "    #int_90_inf[~valid_data] = np.nan\n",
    "    #int_90_sup[~valid_data] = np.nan\n",
    "    return d_min, d_max, true_disp, disp_map, int_90_inf, int_90_sup, validity_bitmap, valid_data\n",
    "\n",
    "def load_data_middlebury(output_path):\n",
    "    cfg_file_path = os.path.join(output_path, \"cfg/config.json\")\n",
    "    with open(cfg_file_path, \"r\") as f:\n",
    "        cfg_lines = f.readlines()\n",
    "    for l in cfg_lines:\n",
    "        if '\"disp_min\"' in l:\n",
    "            d_min = float(l.split(': ')[1].split(\",\")[0].split(\"\\n\")[0])\n",
    "        elif '\"disp_max\"' in l:\n",
    "            d_max = float(l.split(': ')[1].split(\",\")[0].split(\"\\n\")[0])\n",
    "    \n",
    "    gt_path = os.path.dirname(str([l.split('\"') for l in cfg_lines if '\"img_left\": ' in l][0][-2]))\n",
    "    year = gt_path.split(\"/\")[-2]\n",
    "\n",
    "    if year in [\"2003\", \"2005\", \"2006\"]:\n",
    "        scale_gt = 4 if year==\"2003\" else 3\n",
    "        true_disp = - np.asarray(Image.open(os.path.join(gt_path, \"disp2.png\"))).astype(float) / scale_gt\n",
    "    elif year in [\"2014\", \"2021\"]:\n",
    "        true_disp = -process_pfm(os.path.join(gt_path, \"disp0.pfm\"))\n",
    "        true_disp[true_disp == -np.inf] = 0\n",
    "    disp_map = rasterio.open(os.path.join(output_path, \"left_disparity.tif\")).read(1)\n",
    "    \n",
    "    disp_conf = rasterio.open(os.path.join(output_path, \"left_confidence_measure.tif\"))\n",
    "    int_90_inf = disp_conf.read(4)\n",
    "    int_90_sup = disp_conf.read(5)\n",
    "    disp_map[disp_map<int_90_inf] = int_90_inf[disp_map<int_90_inf]\n",
    "    disp_map[disp_map>int_90_sup] = int_90_sup[disp_map>int_90_sup]\n",
    "    \n",
    "    validity_map = rasterio.open(os.path.join(output_path, \"left_validity_mask.tif\")).read(1)\n",
    "    validity_bitmap = (validity_map & (1<<11))>0\n",
    "    invalid_mask = (validity_map & 0b01111000011)>0\n",
    "    \n",
    "    valid_data = ~((true_disp==0) | (np.isnan(disp_map)) | (np.isnan(int_90_inf)) | (np.isnan(int_90_sup)) | invalid_mask)\n",
    "    #true_disp[~valid_data] = np.nan\n",
    "    #disp_map[~valid_data] = np.nan\n",
    "    #int_90_inf[~valid_data] = np.nan\n",
    "    #int_90_sup[~valid_data] = np.nan\n",
    "    \n",
    "    return d_min, d_max, true_disp, disp_map, int_90_inf, int_90_sup, validity_bitmap, valid_data"
   ]
  },
  {
   "cell_type": "markdown",
   "id": "3894f8a1-1302-402c-aa3b-ecf04d8491fb",
   "metadata": {
    "tags": []
   },
   "source": [
    "# Investigation"
   ]
  },
  {
   "cell_type": "markdown",
   "id": "e4ccaa0a-0085-4296-9c57-6925de2b2912",
   "metadata": {},
   "source": [
    "### Defining the scene, Cost function used, input and output paths.\n",
    "* For Middlebury data, `year` should be in [2003, 2005, 2006, 2014, 2021]\n",
    "* For Jacksonville or Montepellier data, `year` is \"\".\n",
    "\n",
    "`scene` is the name of the scene. For Middlebury it is \"cones\" for example. For Montpellier or Jacksonville it is something like \"MTP_144\".\n",
    "Check `/work/CAMPUS/users/malinoro/Data/Satellite` and `/work/CAMPUS/users/malinoro/Data/MiddleBury` to see which scenes are available"
   ]
  },
  {
   "cell_type": "code",
   "execution_count": null,
   "id": "712eef19-349a-4b17-979d-396fba6318b6",
   "metadata": {
    "tags": []
   },
   "outputs": [],
   "source": [
    "#root_gt = f\"/work/CAMPUS/users/malinoro/outputs/CVPR_tests/\"\n",
    "#load_data = load_data_middlebury\n",
    "#list_scenes = [k for k in os.listdir(f\"/work/CAMPUS/users/malinoro/outputs/CVPR_tests/CENSUS\") if os.path.isdir(f\"/work/CAMPUS/users/malinoro/outputs/CVPR_tests/CENSUS/{k}\")]\n",
    "\n",
    "\n",
    "list_scenes = [k for k in os.listdir(f\"/work/CAMPUS/users/malinoro/outputs/CVPR_tests/MTP/CENSUS\") if \"MTP_\"==k[:4]]\n",
    "root_gt = f\"/work/CAMPUS/users/malinoro/outputs/CVPR_tests/MTP/\"\n",
    "load_data = load_data_mtp"
   ]
  },
  {
   "cell_type": "code",
   "execution_count": null,
   "id": "bddeea2d-2e5d-4975-9aea-03851dbbdb42",
   "metadata": {
    "tags": []
   },
   "outputs": [],
   "source": [
    "iterables = [[\"CENSUS\", \"MCCNN\"], [\"acc\", \"s_rel\", \"o_rel\", \"eps\", \"amb_area\", \"d_1\"]]\n",
    "columns = pd.MultiIndex.from_product(iterables, names=[\"cost_function\", \"metric\"])\n",
    "df = pd.DataFrame(columns=columns, index=list_scenes)"
   ]
  },
  {
   "cell_type": "code",
   "execution_count": null,
   "id": "0a7ae753-e3f6-4d74-9d2d-5f53ea8c93aa",
   "metadata": {
    "tags": []
   },
   "outputs": [],
   "source": [
    "for cost_function in ['CENSUS', 'MCCNN']:\n",
    "    print()\n",
    "    print(cost_function)\n",
    "    for i, scene in enumerate(list_scenes):\n",
    "        print(f\"\\r{i+1}/{len(list_scenes)}    \", end=\"\")\n",
    "        output_path = os.path.join(root_gt, cost_function, scene)\n",
    "        d_min, d_max, true_disp, disp_map, int_90_inf, int_90_sup, validity_bitmap, valid_data = load_data(output_path)\n",
    "        \n",
    "        amb_area = validity_bitmap[valid_data].sum() / valid_data.sum()\n",
    "        correct_int = (true_disp<=int_90_sup) & (true_disp>=int_90_inf)\n",
    "\n",
    "        d_1 = (np.abs(true_disp - disp_map)[valid_data] <1).sum() / valid_data.sum()\n",
    "        \n",
    "        acc = correct_int[valid_data].sum() / valid_data.sum()\n",
    "        s_rel = np.nanmedian((int_90_sup- int_90_inf)[valid_data&(~validity_bitmap)]/(d_max-d_min))\n",
    "        eps = np.nanmedian(np.minimum(np.abs(true_disp-int_90_inf)[((~correct_int)&valid_data)], np.abs(true_disp-int_90_sup)[((~correct_int)&valid_data)])) / (d_max-d_min)\n",
    "\n",
    "        diffs = np.diff(np.hstack([np.zeros((validity_bitmap.shape[0], 1), dtype=np.bool_), validity_bitmap, np.zeros((validity_bitmap.shape[0], 1), dtype=np.bool_)]).astype(int))\n",
    "        lefts, rights = np.argwhere(diffs==1), np.argwhere(diffs==-1) - np.array([0, 1])\n",
    "        true_disp[~valid_data] = np.nan\n",
    "        disp_map[~valid_data] = np.nan\n",
    "        int_90_inf[~valid_data] = np.nan\n",
    "        int_90_sup[~valid_data] = np.nan\n",
    "        o_rel = 1-compute_overstimation(true_disp, disp_map, lefts, rights, int_90_inf, int_90_sup)\n",
    "\n",
    "        mask_orel = ~np.isnan(o_rel)\n",
    "        \n",
    "        arg_sort = np.argsort(o_rel[mask_orel])\n",
    "        o_rel = o_rel[mask_orel][arg_sort]\n",
    "\n",
    "        counts = rights[mask_orel, 1] - lefts[mask_orel, 1] + 1\n",
    "        counts = np.cumsum(counts[arg_sort])/np.sum(counts)\n",
    "\n",
    "\n",
    "        median_index = np.max(np.argwhere(counts<=0.5))\n",
    "        if median_index == 0.5:\n",
    "            o_rel_med = o_rel[median_index]\n",
    "        else:  # Simple interpolation of the median value.\n",
    "            o_rel_med = (o_rel[median_index+1] - o_rel[median_index]) / (counts[median_index+1] - counts[median_index]) * (0.5 - counts[median_index]) + o_rel[median_index]\n",
    "\n",
    "        \n",
    "        df.loc[scene, (cost_function, [\"acc\", \"s_rel\", \"o_rel\", \"eps\", \"amb_area\", \"d_1\"])] = [acc, s_rel, o_rel_med, eps, amb_area, d_1]\n"
   ]
  },
  {
   "cell_type": "code",
   "execution_count": null,
   "id": "4efa65bb-7a10-4ca5-9110-6bd979f20280",
   "metadata": {
    "tags": []
   },
   "outputs": [],
   "source": [
    "#df.to_csv(\"/work/CAMPUS/users/malinoro/outputs/These/MTP_metrics.csv\")"
   ]
  },
  {
   "cell_type": "markdown",
   "id": "fa159736-33da-4008-a3ee-3bdcffee3c2b",
   "metadata": {},
   "source": [
    "# Statistics"
   ]
  },
  {
   "cell_type": "code",
   "execution_count": null,
   "id": "415c3b46-4000-4438-a49f-bcaf27479c6e",
   "metadata": {
    "tags": []
   },
   "outputs": [],
   "source": [
    "df_middlebury = pd.read_csv(\"/work/CAMPUS/users/malinoro/outputs/These/Middlebury_metrics.csv\", header=[0,1], index_col=[0])\n",
    "df_mtp = pd.read_csv(\"/work/CAMPUS/users/malinoro/outputs/These/MTP_metrics.csv\", header=[0,1], index_col=[0])"
   ]
  },
  {
   "cell_type": "code",
   "execution_count": null,
   "id": "4451f6e4-0518-40f9-8ba0-05d8ac1cd267",
   "metadata": {
    "tags": []
   },
   "outputs": [],
   "source": [
    "mtp_scenes =['MTP_1', 'MTP_100', 'MTP_120', 'MTP_127', 'MTP_132', 'MTP_151',\n",
    "       'MTP_152', 'MTP_153', 'MTP_154', 'MTP_16', 'MTP_173', 'MTP_174',\n",
    "       'MTP_176', 'MTP_198', 'MTP_2', 'MTP_201', 'MTP_21', 'MTP_223',\n",
    "       'MTP_236', 'MTP_237', 'MTP_242', 'MTP_245', 'MTP_246', 'MTP_249',\n",
    "       'MTP_252', 'MTP_254', 'MTP_259', 'MTP_261', 'MTP_262', 'MTP_263',\n",
    "       'MTP_264', 'MTP_265', 'MTP_267', 'MTP_270', 'MTP_271', 'MTP_272',\n",
    "       'MTP_274', 'MTP_275', 'MTP_276', 'MTP_284', 'MTP_285', 'MTP_286',\n",
    "       'MTP_287', 'MTP_291', 'MTP_292', 'MTP_293', 'MTP_294', 'MTP_295',\n",
    "       'MTP_296', 'MTP_297', 'MTP_298', 'MTP_3', 'MTP_301', 'MTP_302',\n",
    "       'MTP_303', 'MTP_304', 'MTP_305', 'MTP_306', 'MTP_307', 'MTP_308',\n",
    "       'MTP_313', 'MTP_314', 'MTP_315', 'MTP_316', 'MTP_317', 'MTP_318',\n",
    "       'MTP_319', 'MTP_322', 'MTP_323', 'MTP_324', 'MTP_325', 'MTP_327',\n",
    "       'MTP_328', 'MTP_329', 'MTP_43', 'MTP_44', 'MTP_6', 'MTP_88',\n",
    "       'MTP_90', 'MTP_95']  #Those scene do not have too much differences between gt and left iamges"
   ]
  },
  {
   "cell_type": "code",
   "execution_count": null,
   "id": "2bad584d-beb0-41f3-b110-3eb0cb25fe27",
   "metadata": {
    "tags": []
   },
   "outputs": [],
   "source": [
    "df_mtp = df_mtp.iloc[[k in mtp_scenes for k in df_mtp.index]]\n",
    "df_mtp.sort_values(by=(\"CENSUS\", \"acc\"), ascending=False, inplace=True)\n",
    "df_mtp"
   ]
  },
  {
   "cell_type": "code",
   "execution_count": null,
   "id": "04702425-38c5-4041-bdf6-7c2fe8d2693b",
   "metadata": {
    "tags": []
   },
   "outputs": [],
   "source": [
    "year_dict = {}\n",
    "years = [\"2003\", \"2005\", \"2006\", \"2014\", \"2021\"]\n",
    "for year in years:\n",
    "    scenes = os.listdir(f\"/work/CAMPUS/users/malinoro/Data/MiddleBury/{year}\")\n",
    "    for scene in scenes:\n",
    "        year_dict[scene] = year"
   ]
  },
  {
   "cell_type": "code",
   "execution_count": null,
   "id": "eacf2c7f-0c23-45c6-9b57-f33e63abd682",
   "metadata": {
    "tags": []
   },
   "outputs": [],
   "source": [
    "year= \"2005\"\n",
    "mask_year = [year_dict[k] == year for k in df_middlebury.index]\n",
    "df_middlebury[mask_year]"
   ]
  },
  {
   "cell_type": "code",
   "execution_count": null,
   "id": "d04c4afd-995e-409f-bae5-4d0b6a7ed0fc",
   "metadata": {
    "tags": []
   },
   "outputs": [],
   "source": [
    "def print_table(metric_key, cost_function):\n",
    "    line = \"\"\n",
    "    for year in [\"2003\", \"2005\", \"2006\", \"2014\", \"2021\"]:\n",
    "        mask_year = [year_dict[k] == year for k in df_middlebury.index]\n",
    "\n",
    "        line += r\"$\"\n",
    "        line += str(np.round(np.nanmean(df_middlebury[mask_year][(cost_function, metric_key)])*100, 1))\n",
    "        line += r\"\\%$ & \"\n",
    "\n",
    "    line = line[:-3]\n",
    "    line += r\"\\\\\"\n",
    "    return line"
   ]
  },
  {
   "cell_type": "code",
   "execution_count": null,
   "id": "3132aab3-577a-4cdf-94c2-c6ddf66ef8a5",
   "metadata": {},
   "outputs": [],
   "source": [
    "print(r\"\"\"\\begin{table}[h!]\n",
    "\\centering\n",
    "\\renewcommand{\\arraystretch}{1.5}\n",
    "\\begin{tabular}{|c|c||c|c|c|c|c|}\n",
    "\\cline{2-7}\n",
    "\\rowcolor{lightgray}\n",
    "\\multicolumn{1}{c|}{\\cellcolor{white}}& Year & 2003 & 2005 & 2006 & 2014 & 2021 \\\\ \\hline\n",
    "\n",
    "\\rowcolor{color_census}\n",
    "\\cellcolor{white} & CENSUS & \"\"\" +\\\n",
    "print_table(\"acc\", \"CENSUS\") +\\\n",
    "r\"\"\"\\cline{2-7}\n",
    "\n",
    "\\rowcolor{color_mccnn}\n",
    "\\multirow{-2}{*}{\\cellcolor{white} $acc$ $\\uparrow$} & MC-CNN & \"\"\" +\\\n",
    "print_table(\"acc\", \"MCCNN\") +\\\n",
    "r\"\"\"\n",
    "\n",
    "\\rowcolor{color_census}\\hline\n",
    "\\cellcolor{white} & CENSUS & \"\"\" +\\\n",
    "print_table(\"eps\", \"CENSUS\") +\\\n",
    "r\"\"\"\\cline{3-7} \n",
    "\n",
    "\\rowcolor{color_mccnn}\n",
    "\\multirow{-2}{*}{\\cellcolor{white} $\\epsilon_{~~~}$ $\\downarrow$} & MC-CNN & \"\"\" +\\\n",
    "print_table(\"eps\", \"MCCNN\") +\\\n",
    "r\"\"\"\n",
    "\n",
    "\\rowcolor{color_census}\\hline\n",
    "\\cellcolor{white} & CENSUS & \"\"\" +\\\n",
    "print_table(\"s_rel\", \"CENSUS\") +\\\n",
    "r\"\"\"\\cline{3-7} \n",
    "\n",
    "\\rowcolor{color_mccnn}\n",
    "\\multirow{-2}{*}{\\cellcolor{white} $s_{rel}$ $\\downarrow$} & MC-CNN & \"\"\" +\\\n",
    "print_table(\"s_rel\", \"MCCNN\") +\\\n",
    "r\"\"\"\n",
    "\n",
    "\\rowcolor{color_census}\\hline\n",
    "\\cellcolor{white} & CENSUS & \"\"\" +\\\n",
    "print_table(\"o_rel\", \"CENSUS\") +\\\n",
    "r\"\"\"\\cline{3-7} \n",
    "\n",
    "\\rowcolor{color_mccnn}\n",
    "\\multirow{-2}{*}{\\cellcolor{white} $o_{rel}$ $\\downarrow$} & MC-CNN & \"\"\" +\\\n",
    "print_table(\"o_rel\", \"MCCNN\") +\\\n",
    "r\"\"\"\n",
    "\n",
    "\\rowcolor{color_census}\\hline\n",
    "\\cellcolor{white} & CENSUS & \"\"\" +\\\n",
    "print_table(\"amb_area\", \"CENSUS\") +\\\n",
    "r\"\"\"\\cline{3-7} \n",
    "\n",
    "\\rowcolor{color_mccnn}\n",
    "\\multirow{-2}{*}{\\cellcolor{white} $p_{amb}$ $\\downarrow$} & MC-CNN & \"\"\" +\\\n",
    "print_table(\"amb_area\", \"MCCNN\") +\\\n",
    "r\"\"\"\\hline\n",
    "\n",
    "\n",
    "\\end{tabular}\n",
    "\\renewcommand{\\arraystretch}{1}\n",
    "\\caption{Average metrics over the different Middlebury datasets, depending on the cost function. Up arrows indicate that the optimal score is $100\\%$, and $0\\%$ for down arrows.}\\label{tab:metric_average}\n",
    "\\end{table}\"\"\")"
   ]
  },
  {
   "cell_type": "markdown",
   "id": "eeb455e1-ab4b-45cb-a531-50a2eee1f056",
   "metadata": {
    "tags": []
   },
   "source": [
    "## Accuracy"
   ]
  },
  {
   "cell_type": "code",
   "execution_count": null,
   "id": "79a9b5ba-3296-4350-88f9-3aacc5b86863",
   "metadata": {
    "tags": []
   },
   "outputs": [],
   "source": [
    "fig = plt.figure(figsize=(6, 6))\n",
    "ax = fig.add_subplot(111)\n",
    "\n",
    "census_bin, census_edges = np.histogram(df_middlebury[(\"CENSUS\", \"acc\")], bins=50, range=(0.5,1))\n",
    "mccnn_bin, mccnn_edges = np.histogram(df_middlebury[(\"MCCNN\", \"acc\")], bins=50, range=(0.5,1))\n",
    "\n",
    "ax.stairs(census_bin, census_edges, color=blue, linewidth=2, label=\"\\(\\mathrm{CENSUS}\\)\")\n",
    "ax.stairs(mccnn_bin, mccnn_edges, color=orange, linewidth=2, label=\"\\(\\mathrm{MC-CNN}\\)\")\n",
    "\n",
    "ax.axvline(0.9, color=\"k\", linestyle=\":\")\n",
    "ax.set_ylabel(\"\\(\\mathrm{Middlebury~Count}\\)\")\n",
    "ax.set_xlabel(\"\\(acc\\)\")\n",
    "\n",
    "ax.set_xlim([0.5, 1])\n",
    "ax.grid(True)\n",
    "\n",
    "ax.text\n",
    "\n",
    "ax.legend(loc=(0.06, 0.7), frameon=True, framealpha=1, facecolor=\"white\");\n",
    "\n",
    "plt.savefig(os.path.join(out_path, \"histogram_acc_middlebury.png\"), dpi=250, bbox_inches='tight')\n",
    "crop_img(os.path.join(out_path, \"histogram_acc_middlebury.png\"))"
   ]
  },
  {
   "cell_type": "code",
   "execution_count": null,
   "id": "948de6c5-33ae-4e63-9a0a-f006866671af",
   "metadata": {
    "tags": []
   },
   "outputs": [],
   "source": [
    "print(df_mtp[df_mtp[(\"CENSUS\", \"acc\")]<0.7])"
   ]
  },
  {
   "cell_type": "code",
   "execution_count": null,
   "id": "9d3a0227-ff61-48e1-b067-d20f8008039b",
   "metadata": {},
   "outputs": [],
   "source": [
    "fig = plt.figure(figsize=(6, 6))\n",
    "ax = fig.add_subplot(111)\n",
    "\n",
    "census_bin, census_edges = np.histogram(df_mtp[(\"CENSUS\", \"acc\")], bins=50, range=(0.5,1))\n",
    "mccnn_bin, mccnn_edges = np.histogram(df_mtp[(\"MCCNN\", \"acc\")], bins=50, range=(0.5,1))\n",
    "\n",
    "ax.stairs(census_bin, census_edges, color=blue, linewidth=2, label=\"\\(\\mathrm{CENSUS}\\)\")\n",
    "ax.stairs(mccnn_bin, mccnn_edges, color=orange, linewidth=2, label=\"\\(\\mathrm{MC-CNN}\\)\")\n",
    "\n",
    "ax.axvline(0.9, color=\"k\", linestyle=\":\")\n",
    "ax.set_ylabel(\"\\(\\mathrm{MTP~Count}\\)\")\n",
    "ax.set_xlabel(\"\\(acc\\)\")\n",
    "\n",
    "ax.set_xlim([0.5, 1])\n",
    "ax.grid(True)\n",
    "\n",
    "ax.legend(loc=(0.06, 0.7), frameon=True, framealpha=1, facecolor=\"white\");\n",
    "\n",
    "plt.savefig(os.path.join(out_path, \"histogram_acc_mtp.png\"), dpi=250, bbox_inches='tight')\n",
    "crop_img(os.path.join(out_path, \"histogram_acc_mtp.png\"))"
   ]
  },
  {
   "cell_type": "markdown",
   "id": "35c8c1c6-cdcb-4fad-b397-a5a7215b3a96",
   "metadata": {
    "tags": []
   },
   "source": [
    "## Relative size"
   ]
  },
  {
   "cell_type": "code",
   "execution_count": null,
   "id": "eaef1353-d51c-4f2d-9055-2856efc98a1a",
   "metadata": {
    "tags": []
   },
   "outputs": [],
   "source": [
    "fig = plt.figure(figsize=(6, 6))\n",
    "ax = fig.add_subplot(111)\n",
    "\n",
    "census_bin, census_edges = np.histogram(df_middlebury[(\"CENSUS\", \"s_rel\")], bins=50, range=(0,0.5))\n",
    "mccnn_bin, mccnn_edges = np.histogram(df_middlebury[(\"MCCNN\", \"s_rel\")], bins=50, range=(0,0.5))\n",
    "\n",
    "ax.stairs(census_bin, census_edges, color=blue, linewidth=2, label=\"\\(\\mathrm{CENSUS}\\)\")\n",
    "ax.stairs(mccnn_bin, mccnn_edges, color=orange, linewidth=2, label=\"\\(\\mathrm{MC-CNN}\\)\")\n",
    "\n",
    "ax.set_ylabel(\"\\(\\mathrm{Middlebury~Count}\\)\")\n",
    "ax.set_xlabel(\"\\(s_{rel}\\)\")\n",
    "\n",
    "ax.set_xlim([0., 0.5])\n",
    "ax.grid(True)\n",
    "\n",
    "ax.legend(loc=(0.4, 0.7), frameon=True, framealpha=1, facecolor=\"white\");\n",
    "\n",
    "plt.savefig(os.path.join(out_path, \"histogram_s_rel_middlebury.png\"), dpi=250, bbox_inches='tight')\n",
    "crop_img(os.path.join(out_path, \"histogram_s_rel_middlebury.png\"))"
   ]
  },
  {
   "cell_type": "code",
   "execution_count": null,
   "id": "f78ba6e7-fbf8-4615-a0f6-38c3fdbd52c7",
   "metadata": {},
   "outputs": [],
   "source": [
    "fig = plt.figure(figsize=(6, 6))\n",
    "ax = fig.add_subplot(111)\n",
    "\n",
    "census_bin, census_edges = np.histogram(df_mtp[(\"CENSUS\", \"s_rel\")], bins=50, range=(0.,0.5))\n",
    "mccnn_bin, mccnn_edges = np.histogram(df_mtp[(\"MCCNN\", \"s_rel\")], bins=50, range=(0.,0.5))\n",
    "\n",
    "ax.stairs(census_bin, census_edges, color=blue, linewidth=2, label=\"\\(\\mathrm{CENSUS}\\)\")\n",
    "ax.stairs(mccnn_bin, mccnn_edges, color=orange, linewidth=2, label=\"\\(\\mathrm{MC-CNN}\\)\")\n",
    "\n",
    "ax.set_ylabel(\"\\(\\mathrm{MTP~Count}\\)\")\n",
    "ax.set_xlabel(\"\\(s_{rel}\\)\")\n",
    "\n",
    "ax.set_xlim([0., 0.5])\n",
    "ax.grid(True)\n",
    "\n",
    "ax.legend(loc=(0.4, 0.7), frameon=True, framealpha=1, facecolor=\"white\");\n",
    "\n",
    "plt.savefig(os.path.join(out_path, \"histogram_s_rel_mtp.png\"), dpi=250, bbox_inches='tight')\n",
    "crop_img(os.path.join(out_path, \"histogram_s_rel_mtp.png\"))"
   ]
  },
  {
   "cell_type": "markdown",
   "id": "c5b0f0a7-fc12-4779-a0e9-327c7a13db5f",
   "metadata": {
    "tags": []
   },
   "source": [
    "## Residual error"
   ]
  },
  {
   "cell_type": "code",
   "execution_count": null,
   "id": "fcd733a4-7c77-49ae-aabc-9509f63bf9e7",
   "metadata": {
    "tags": []
   },
   "outputs": [],
   "source": [
    "fig = plt.figure(figsize=(6, 6))\n",
    "ax = fig.add_subplot(111)\n",
    "\n",
    "census_bin, census_edges = np.histogram(df_middlebury[(\"CENSUS\", \"eps\")], bins=50, range=(0.,0.6))\n",
    "mccnn_bin, mccnn_edges = np.histogram(df_middlebury[(\"MCCNN\", \"eps\")], bins=50, range=(0.,0.6))\n",
    "\n",
    "ax.stairs(census_bin, census_edges, color=blue, linewidth=2, label=\"\\(\\mathrm{CENSUS}\\)\")\n",
    "ax.stairs(mccnn_bin, mccnn_edges, color=orange, linewidth=2, label=\"\\(\\mathrm{MC-CNN}\\)\")\n",
    "\n",
    "ax.set_ylabel(\"\\(\\mathrm{Middlebury~Count}\\)\")\n",
    "ax.set_xlabel(\"\\(\\epsilon\\)\")\n",
    "\n",
    "ax.set_xlim([0, 0.6])\n",
    "ax.grid(True)\n",
    "\n",
    "ax.legend(loc=(0.4, 0.7), frameon=True, framealpha=1, facecolor=\"white\");\n",
    "\n",
    "plt.savefig(os.path.join(out_path, \"histogram_eps_middlebury.png\"), dpi=250, bbox_inches='tight')\n",
    "crop_img(os.path.join(out_path, \"histogram_eps_middlebury.png\"))"
   ]
  },
  {
   "cell_type": "code",
   "execution_count": null,
   "id": "bd564785-2ae5-460b-91d5-c6fab2c1a176",
   "metadata": {},
   "outputs": [],
   "source": [
    "fig = plt.figure(figsize=(6, 6))\n",
    "ax = fig.add_subplot(111)\n",
    "\n",
    "census_bin, census_edges = np.histogram(df_mtp[(\"CENSUS\", \"eps\")], bins=50, range=(0,0.6))\n",
    "mccnn_bin, mccnn_edges = np.histogram(df_mtp[(\"MCCNN\", \"eps\")], bins=50, range=(0,0.6))\n",
    "\n",
    "ax.stairs(census_bin, census_edges, color=blue, linewidth=2, label=\"\\(\\mathrm{CENSUS}\\)\")\n",
    "ax.stairs(mccnn_bin, mccnn_edges, color=orange, linewidth=2, label=\"\\(\\mathrm{MC-CNN}\\)\")\n",
    "\n",
    "ax.set_ylabel(\"\\(\\mathrm{MTP~Count}\\)\")\n",
    "ax.set_xlabel(\"\\(\\epsilon\\)\")\n",
    "\n",
    "ax.set_xlim([0., 0.6])\n",
    "ax.grid(True)\n",
    "\n",
    "ax.legend(loc=(0.4, 0.7), frameon=True, framealpha=1, facecolor=\"white\");\n",
    "\n",
    "plt.savefig(os.path.join(out_path, \"histogram_eps_mtp.png\"), dpi=250, bbox_inches='tight')\n",
    "crop_img(os.path.join(out_path, \"histogram_eps_mtp.png\"))"
   ]
  },
  {
   "cell_type": "markdown",
   "id": "9a057323-0e3c-4f5e-917e-7bc85f7688ca",
   "metadata": {
    "tags": []
   },
   "source": [
    "## Relative overestimation"
   ]
  },
  {
   "cell_type": "code",
   "execution_count": null,
   "id": "8e821780-5ed2-4ea0-aa95-41be61834552",
   "metadata": {
    "tags": []
   },
   "outputs": [],
   "source": [
    "fig = plt.figure(figsize=(6, 6))\n",
    "ax = fig.add_subplot(111)\n",
    "\n",
    "census_bin, census_edges = np.histogram(df_middlebury[(\"CENSUS\", \"o_rel\")], bins=50, range=(0.,1))\n",
    "mccnn_bin, mccnn_edges = np.histogram(df_middlebury[(\"MCCNN\", \"o_rel\")], bins=50, range=(0.,1))\n",
    "\n",
    "ax.stairs(census_bin, census_edges, color=blue, linewidth=2, label=\"\\(\\mathrm{CENSUS}\\)\")\n",
    "ax.stairs(mccnn_bin, mccnn_edges, color=orange, linewidth=2, label=\"\\(\\mathrm{MC-CNN}\\)\")\n",
    "\n",
    "ax.set_ylabel(\"\\(\\mathrm{Middlebury~Count}\\)\")\n",
    "ax.set_xlabel(\"\\(o_{rel}\\)\")\n",
    "\n",
    "ax.set_xlim([0., 1])\n",
    "ax.grid(True)\n",
    "\n",
    "ax.legend(loc=(0.03, 0.8), frameon=True, framealpha=1, facecolor=\"white\");\n",
    "\n",
    "plt.savefig(os.path.join(out_path, \"histogram_o_rel_middlebury.png\"), dpi=250, bbox_inches='tight')\n",
    "crop_img(os.path.join(out_path, \"histogram_o_rel_middlebury.png\"))"
   ]
  },
  {
   "cell_type": "code",
   "execution_count": null,
   "id": "bed23128-6f44-467f-ad05-a9a3bd7f0ed2",
   "metadata": {},
   "outputs": [],
   "source": [
    "fig = plt.figure(figsize=(6, 6))\n",
    "ax = fig.add_subplot(111)\n",
    "\n",
    "census_bin, census_edges = np.histogram(df_mtp[(\"CENSUS\", \"o_rel\")], bins=50, range=(0.,1))\n",
    "mccnn_bin, mccnn_edges = np.histogram(df_mtp[(\"MCCNN\", \"o_rel\")], bins=50, range=(0.,1))\n",
    "\n",
    "ax.stairs(census_bin, census_edges, color=blue, linewidth=2, label=\"\\(\\mathrm{CENSUS}\\)\")\n",
    "ax.stairs(mccnn_bin, mccnn_edges, color=orange, linewidth=2, label=\"\\(\\mathrm{MC-CNN}\\)\")\n",
    "\n",
    "ax.set_ylabel(\"\\(\\mathrm{MTP~Count}\\)\")\n",
    "ax.set_xlabel(\"\\(o_{rel}\\)\")\n",
    "\n",
    "ax.set_xlim([0., 1])\n",
    "ax.grid(True)\n",
    "\n",
    "ax.legend(loc=(0.06, 0.7), frameon=True, framealpha=1, facecolor=\"white\");\n",
    "\n",
    "plt.savefig(os.path.join(out_path, \"histogram_o_rel_mtp.png\"), dpi=250, bbox_inches='tight')\n",
    "crop_img(os.path.join(out_path, \"histogram_o_rel_mtp.png\"))"
   ]
  },
  {
   "cell_type": "markdown",
   "id": "421584ca-96cc-4edd-a11f-31516b9f482f",
   "metadata": {},
   "source": [
    "# MTP 278"
   ]
  },
  {
   "cell_type": "code",
   "execution_count": null,
   "id": "4c9b1cda-b134-489a-8810-ff7c625272a2",
   "metadata": {
    "tags": []
   },
   "outputs": [],
   "source": [
    "scene = \"MTP_278\"\n",
    "\n",
    "root_gt = f\"/work/CAMPUS/users/malinoro/outputs/CVPR_tests/MTP/\"\n",
    "output_path = os.path.join(root_gt, cost_function, scene)\n",
    "d_min, d_max, true_disp, disp_map, int_90_inf, int_90_sup, validity_bitmap, valid_data = load_data_mtp(output_path)\n",
    "img_left = rasterio.open(os.path.join(root_gt, cost_function, scene, \"left_epipolar_image_gray.tif\")).read(1)"
   ]
  },
  {
   "cell_type": "code",
   "execution_count": null,
   "id": "cef0516f-b892-404a-839c-56efa2fdbd0f",
   "metadata": {
    "tags": []
   },
   "outputs": [],
   "source": [
    "correct_intervals = (int_90_inf <= true_disp) & (true_disp <= int_90_sup)\n",
    "img_mask = np.zeros(correct_intervals.shape + (4,))\n",
    "img_mask[(~correct_intervals) & valid_data] = (1, 0, 0, 1)\n",
    "vmin, vmax = min(np.nanmin(disp_map), np.nanmin(true_disp)), max(np.nanmax(disp_map), np.nanmax(true_disp))"
   ]
  },
  {
   "cell_type": "code",
   "execution_count": null,
   "id": "91245482-690c-4d02-b607-1e680954bb67",
   "metadata": {
    "tags": []
   },
   "outputs": [],
   "source": [
    "fig, axes = plt.subplots(1, 1, figsize=(5, 5))\n",
    "axes.imshow(img_left, cmap=\"gray\", vmin=0, vmax=np.nanquantile(img_left, 0.99))\n",
    "axes.axis(\"off\")\n",
    "plt.savefig(os.path.join(out_path, f\"img_error_{scene}.png\"), dpi=250, bbox_inches='tight')\n",
    "crop_img(os.path.join(out_path, f\"img_error_{scene}.png\"))\n",
    "\n",
    "\n",
    "fig, axes = plt.subplots(1, 1, figsize=(5, 5))\n",
    "axes.imshow(img_left, cmap=\"gray\", vmin=0, vmax=np.nanquantile(img_left, 0.99))\n",
    "axes.imshow(img_mask)\n",
    "axes.axis(\"off\")\n",
    "plt.savefig(os.path.join(out_path, f\"img_error_{scene}_err.png\"), dpi=250, bbox_inches='tight')\n",
    "crop_img(os.path.join(out_path, f\"img_error_{scene}_err.png\"))\n",
    "\n",
    "\n",
    "fig, axes = plt.subplots(1, 1, figsize=(5, 5))\n",
    "axes.imshow(true_disp, vmin=vmin, vmax=vmax)\n",
    "axes.axis(\"off\")\n",
    "plt.savefig(os.path.join(out_path, f\"img_error_{scene}_gt.png\"), dpi=250, bbox_inches='tight')\n",
    "crop_img(os.path.join(out_path, f\"img_error_{scene}_gt.png\"))\n",
    "\n",
    "\n",
    "fig, axes = plt.subplots(1, 1, figsize=(5, 5))\n",
    "axes.imshow(disp_map, vmin=vmin, vmax=vmax)\n",
    "axes.axis(\"off\")\n",
    "plt.savefig(os.path.join(out_path, f\"img_error_{scene}_disp.png\"), dpi=250, bbox_inches='tight')\n",
    "crop_img(os.path.join(out_path, f\"img_error_{scene}_disp.png\"))"
   ]
  },
  {
   "cell_type": "code",
   "execution_count": null,
   "id": "d24abf70-5e72-4aef-ac05-8f7f2db7bb3c",
   "metadata": {
    "tags": []
   },
   "outputs": [],
   "source": [
    "df_mtp.index[60:80]"
   ]
  },
  {
   "cell_type": "markdown",
   "id": "339c97ca-502f-46a4-8087-1d4c11d88f46",
   "metadata": {},
   "source": [
    "# MTP 153, MTP_6"
   ]
  },
  {
   "cell_type": "code",
   "execution_count": null,
   "id": "40e0eff8-4c63-40ef-8ca7-d08168f2f151",
   "metadata": {
    "tags": []
   },
   "outputs": [],
   "source": [
    "for scene in [\"MTP_120\", \"MTP_153\"]:\n",
    "\n",
    "    root_gt = f\"/work/CAMPUS/users/malinoro/outputs/CVPR_tests/MTP/\"\n",
    "    output_path = os.path.join(root_gt, cost_function, scene)\n",
    "    true_disp = rasterio.open(os.path.join(output_path, \"left_epipolar_disp.tif\")).read(1)\n",
    "    true_disp[true_disp==0] = np.nan\n",
    "    img_left = rasterio.open(os.path.join(root_gt, cost_function, scene, \"left_epipolar_image_gray.tif\")).read(1)\n",
    "\n",
    "    fig, axes = plt.subplots(1, 1, figsize=(5, 5))\n",
    "    axes.imshow(img_left, cmap=\"gray\", vmin=0, vmax=np.nanquantile(img_left, 0.99))\n",
    "    axes.axis(\"off\")\n",
    "    plt.savefig(os.path.join(out_path, f\"img_{scene}.png\"), dpi=250, bbox_inches='tight')\n",
    "    crop_img(os.path.join(out_path, f\"img_{scene}.png\"))\n",
    "\n",
    "    fig, axes = plt.subplots(1, 1, figsize=(5, 5))\n",
    "    axes.imshow(true_disp, vmin=vmin, vmax=vmax)\n",
    "    axes.axis(\"off\")\n",
    "    plt.savefig(os.path.join(out_path, f\"img_{scene}_gt.png\"), dpi=250, bbox_inches='tight')\n",
    "    crop_img(os.path.join(out_path, f\"img_{scene}_gt.png\"))"
   ]
  },
  {
   "cell_type": "markdown",
   "id": "7002ce9f-3d13-40f6-b3fd-7e8b353760c0",
   "metadata": {
    "tags": []
   },
   "source": [
    "# Good Middlebury"
   ]
  },
  {
   "cell_type": "code",
   "execution_count": null,
   "id": "56771d6a-cccd-4679-919a-df570bd028af",
   "metadata": {
    "tags": []
   },
   "outputs": [],
   "source": [
    "year_dict[\"Piano-perfect\"]"
   ]
  },
  {
   "cell_type": "code",
   "execution_count": null,
   "id": "736f9f01-90f8-40a3-a48e-ba8f7544d562",
   "metadata": {},
   "outputs": [],
   "source": [
    "root_gt = f\"/work/CAMPUS/users/malinoro/outputs/CVPR_tests/\"\n",
    "list_scenes = [k for k in os.listdir(f\"/work/CAMPUS/users/malinoro/outputs/CVPR_tests/CENSUS\") if os.path.isdir(f\"/work/CAMPUS/users/malinoro/outputs/CVPR_tests/CENSUS/{k}\")]\n",
    "load_data = load_data_middlebury\n",
    "\n",
    "\n",
    "#list_scenes = [k for k in os.listdir(f\"/work/CAMPUS/users/malinoro/outputs/CVPR_tests/MTP/CENSUS\") if \"MTP_\"==k[:4]]\n",
    "#root_gt = f\"/work/CAMPUS/users/malinoro/outputs/CVPR_tests/MTP/\"\n",
    "#load_data = load_data_mtp"
   ]
  },
  {
   "cell_type": "code",
   "execution_count": null,
   "id": "56471fe2-b4ca-4bdf-b96c-61b3d1db27c5",
   "metadata": {
    "tags": []
   },
   "outputs": [],
   "source": [
    "cost_function = \"CENSUS\"\n",
    "scene = \"Piano-perfect\"\n",
    "\n",
    "row = 900\n",
    "col_inf, col_sup = 575, 1000\n",
    "\n",
    "output_path = os.path.join(root_gt, cost_function, scene)\n",
    "d_min, d_max, true_disp, disp_map, int_90_inf, int_90_sup, validity_bitmap, valid_data = load_data(output_path)\n",
    "img_left = rasterio.open(os.path.join(\"/work/CAMPUS/users/malinoro/Data/MiddleBury\", year_dict[\"Piano-perfect\"], scene, \"im0_gray.png\")).read(1)\n",
    "true_disp[true_disp==0] = np.nan\n",
    "correct_int = (true_disp<=int_90_sup) & (true_disp>=int_90_inf)\n",
    "img_false_int = np.zeros(img_left.shape + (4,))\n",
    "img_false_int[(~correct_int) & valid_data] = (1, 0, 0, 1)\n",
    "\n",
    "img_false_int[row-15:row+15, col_inf:col_sup+1]=(0, 1, 1, 1)"
   ]
  },
  {
   "cell_type": "code",
   "execution_count": null,
   "id": "2aa581f3-bdb3-47f7-a39b-cd91f2397792",
   "metadata": {
    "tags": []
   },
   "outputs": [],
   "source": [
    "fig, ax = plt.subplots(1,1,figsize=(7,6))\n",
    "ax.imshow(img_left, cmap=\"gray\")\n",
    "ax.axis(\"off\")\n",
    "plt.savefig(os.path.join(out_path, f\"{scene}_{year_dict[scene]}.png\"), dpi=250, bbox_inches='tight')\n",
    "crop_img(os.path.join(out_path, f\"{scene}_{year_dict[scene]}.png\"))\n",
    "\n",
    "fig, ax = plt.subplots(1,1,figsize=(7,6))\n",
    "ax.imshow(img_left, cmap=\"gray\")\n",
    "ax.imshow(img_false_int)\n",
    "ax.axis(\"off\")\n",
    "plt.savefig(os.path.join(out_path, f\"{scene}_{year_dict[scene]}_error.png\"), dpi=250, bbox_inches='tight')\n",
    "crop_img(os.path.join(out_path, f\"{scene}_{year_dict[scene]}_error.png\"))"
   ]
  },
  {
   "cell_type": "code",
   "execution_count": null,
   "id": "c2c735d3-c077-40bd-b9a3-79f7055cac87",
   "metadata": {
    "tags": []
   },
   "outputs": [],
   "source": [
    "\n",
    "fig = plt.figure(figsize=(12, 5))\n",
    "ax = fig.add_subplot(111)\n",
    "\n",
    "ax.plot(np.arange(col_inf, col_sup), true_disp[row, col_inf:col_sup], color=blue, label=\"\\(d_{true}\\)\", linewidth=2.5)\n",
    "ax.plot(np.arange(col_inf, col_sup), disp_map[row, col_inf:col_sup], color=orange, label=r\"\\(\\tilde{d}\\)\", linewidth=2, alpha=0.7)\n",
    "ax.plot(np.arange(col_inf, col_sup), int_90_inf[row, col_inf:col_sup], linestyle=\"--\", color=orange, label=r\"\\(I_\\alpha\\)\", linewidth=1.5)\n",
    "ax.plot(np.arange(col_inf, col_sup), int_90_sup[row, col_inf:col_sup], linestyle=\"--\", color=orange, linewidth=1.5)\n",
    "\n",
    "ax.set_ylabel(\"\\(\\mathrm{Disparity}\\)\")\n",
    "ax.set_xlabel(\"\\(\\mathrm{Columns}\\)\")\n",
    "\n",
    "ax.set_xlim([col_inf, col_sup-1])\n",
    "ax.grid(True)\n",
    "\n",
    "# Grey area for invalid pixels\n",
    "bottom_, top_ = ax.get_ylim()\n",
    "diffs = np.diff(np.hstack([[False], validity_bitmap[row, :], [False]]).astype(int))\n",
    "lefts_, rights_ = np.argwhere(diffs==1).flatten(), np.argwhere(diffs==-1).flatten() - 1\n",
    "invalid_zones = [Rectangle((l_, bottom_), r_ - l_, top_ - bottom_) for l_, r_ in zip(lefts_, rights_)]\n",
    "pc = PatchCollection(invalid_zones, facecolor=\"gray\", alpha=0.3)\n",
    "ax.add_collection(pc)\n",
    "\n",
    "\n",
    "ax.legend(loc=(0.75, 0.15), frameon=True, framealpha=1, facecolor=\"white\");\n",
    "plt.savefig(os.path.join(out_path, f\"{scene}_{year_dict[scene]}_row_{row}.png\"), dpi=250, bbox_inches='tight')\n",
    "crop_img(os.path.join(out_path, f\"{scene}_{year_dict[scene]}_row_{row}.png\"))"
   ]
  },
  {
   "cell_type": "markdown",
   "id": "777432cf-1ccc-4e81-84f0-d5d7390a993c",
   "metadata": {
    "tags": []
   },
   "source": [
    "# Bad Middlebury"
   ]
  },
  {
   "cell_type": "code",
   "execution_count": null,
   "id": "05592863-7b3b-4491-afca-80d77206978c",
   "metadata": {},
   "outputs": [],
   "source": [
    "root_gt = f\"/work/CAMPUS/users/malinoro/outputs/CVPR_tests/\"\n",
    "list_scenes = [k for k in os.listdir(f\"/work/CAMPUS/users/malinoro/outputs/CVPR_tests/CENSUS\") if os.path.isdir(f\"/work/CAMPUS/users/malinoro/outputs/CVPR_tests/CENSUS/{k}\")]\n",
    "load_data = load_data_middlebury\n",
    "\n",
    "\n",
    "#list_scenes = [k for k in os.listdir(f\"/work/CAMPUS/users/malinoro/outputs/CVPR_tests/MTP/CENSUS\") if \"MTP_\"==k[:4]]\n",
    "#root_gt = f\"/work/CAMPUS/users/malinoro/outputs/CVPR_tests/MTP/\"\n",
    "#load_data = load_data_mtp"
   ]
  },
  {
   "cell_type": "code",
   "execution_count": null,
   "id": "31f93af7-8bbd-4d13-932f-0194699c0a9f",
   "metadata": {
    "tags": []
   },
   "outputs": [],
   "source": [
    "cost_function = \"CENSUS\"\n",
    "scene = \"Sword2-perfect\"\n",
    "\n",
    "#row = 900\n",
    "#col_inf, col_sup = 575, 1000\n",
    "\n",
    "row = 1500\n",
    "col_inf, col_sup = 1500, 2000\n",
    "\n",
    "output_path = os.path.join(root_gt, cost_function, scene)\n",
    "d_min, d_max, true_disp, disp_map, int_90_inf, int_90_sup, validity_bitmap, valid_data = load_data(output_path)\n",
    "img_left = rasterio.open(os.path.join(\"/work/CAMPUS/users/malinoro/Data/MiddleBury\", year_dict[\"Piano-perfect\"], scene, \"im0_gray.png\")).read(1)\n",
    "true_disp[true_disp==0] = np.nan\n",
    "correct_int = (true_disp<=int_90_sup) & (true_disp>=int_90_inf)\n",
    "img_false_int = np.zeros(img_left.shape + (4,))\n",
    "img_false_int[(~correct_int) & valid_data] = (1, 0, 0, 1)\n",
    "\n",
    "img_false_int[row-15:row+15, col_inf:col_sup+1]=(0, 1, 1, 1)"
   ]
  },
  {
   "cell_type": "code",
   "execution_count": null,
   "id": "dab3d7a3-29bb-4dc9-95f7-25b3f0c388a1",
   "metadata": {
    "tags": []
   },
   "outputs": [],
   "source": [
    "fig, ax = plt.subplots(1,1,figsize=(7,6))\n",
    "ax.imshow(img_left, cmap=\"gray\")\n",
    "ax.axis(\"off\")\n",
    "plt.savefig(os.path.join(out_path, f\"{scene}_{year_dict[scene]}.png\"), dpi=250, bbox_inches='tight')\n",
    "crop_img(os.path.join(out_path, f\"{scene}_{year_dict[scene]}.png\"))\n",
    "\n",
    "fig, ax = plt.subplots(1,1,figsize=(7,6))\n",
    "ax.imshow(img_left, cmap=\"gray\")\n",
    "ax.imshow(img_false_int)\n",
    "ax.axis(\"off\")\n",
    "plt.savefig(os.path.join(out_path, f\"{scene}_{year_dict[scene]}_error.png\"), dpi=250, bbox_inches='tight')\n",
    "crop_img(os.path.join(out_path, f\"{scene}_{year_dict[scene]}_error.png\"))"
   ]
  },
  {
   "cell_type": "code",
   "execution_count": null,
   "id": "48bd4808-f518-4c06-91c0-c71ad393d67d",
   "metadata": {
    "tags": []
   },
   "outputs": [],
   "source": [
    "fig = plt.figure(figsize=(12, 5))\n",
    "ax = fig.add_subplot(111)\n",
    "\n",
    "ax.plot(np.arange(col_inf, col_sup), true_disp[row, col_inf:col_sup], color=blue, label=\"\\(d_{true}\\)\", linewidth=2.5)\n",
    "ax.plot(np.arange(col_inf, col_sup), disp_map[row, col_inf:col_sup], color=orange, label=r\"\\(\\tilde{d}\\)\", linewidth=2, alpha=0.7)\n",
    "ax.plot(np.arange(col_inf, col_sup), int_90_inf[row, col_inf:col_sup], linestyle=\"--\", color=orange, label=r\"\\(I_\\alpha\\)\", linewidth=1.5)\n",
    "ax.plot(np.arange(col_inf, col_sup), int_90_sup[row, col_inf:col_sup], linestyle=\"--\", color=orange, linewidth=1.5)\n",
    "\n",
    "ax.set_ylabel(\"\\(\\mathrm{Disparity}\\)\")\n",
    "ax.set_xlabel(\"\\(\\mathrm{Columns}\\)\")\n",
    "\n",
    "ax.set_xlim([col_inf, col_sup-1])\n",
    "ax.grid(True)\n",
    "\n",
    "# Grey area for invalid pixels\n",
    "bottom_, top_ = ax.get_ylim()\n",
    "diffs = np.diff(np.hstack([[False], validity_bitmap[row, :], [False]]).astype(int))\n",
    "lefts_, rights_ = np.argwhere(diffs==1).flatten(), np.argwhere(diffs==-1).flatten() - 1\n",
    "invalid_zones = [Rectangle((l_, bottom_), r_ - l_, top_ - bottom_) for l_, r_ in zip(lefts_, rights_)]\n",
    "pc = PatchCollection(invalid_zones, facecolor=\"gray\", alpha=0.3)\n",
    "ax.add_collection(pc)\n",
    "\n",
    "\n",
    "ax.legend(loc=(0.65, 0.01), frameon=True, framealpha=1, facecolor=\"white\");\n",
    "plt.savefig(os.path.join(out_path, f\"{scene}_{year_dict[scene]}_row_{row}.png\"), dpi=250, bbox_inches='tight')\n",
    "crop_img(os.path.join(out_path, f\"{scene}_{year_dict[scene]}_row_{row}.png\"))"
   ]
  },
  {
   "cell_type": "markdown",
   "id": "271e7e1c-a050-41fb-9e7e-b9ac27eec587",
   "metadata": {
    "tags": []
   },
   "source": [
    "# Good MTP"
   ]
  },
  {
   "cell_type": "code",
   "execution_count": null,
   "id": "6df45d55-f196-4774-9284-25ffd927d456",
   "metadata": {},
   "outputs": [],
   "source": [
    "list_scenes = [k for k in os.listdir(f\"/work/CAMPUS/users/malinoro/outputs/CVPR_tests/MTP/CENSUS\") if \"MTP_\"==k[:4]]\n",
    "root_gt = f\"/work/CAMPUS/users/malinoro/outputs/CVPR_tests/MTP/\"\n",
    "load_data = load_data_mtp"
   ]
  },
  {
   "cell_type": "code",
   "execution_count": null,
   "id": "191257ac-0697-48e0-81bc-4bbc58884eaf",
   "metadata": {
    "tags": []
   },
   "outputs": [],
   "source": [
    "cost_function = \"CENSUS\"\n",
    "scene = \"MTP_291\"\n",
    "\n",
    "row = 750\n",
    "col_inf, col_sup = 530, 950\n",
    "\n",
    "output_path = os.path.join(root_gt, cost_function, scene)\n",
    "d_min, d_max, true_disp, disp_map, int_90_inf, int_90_sup, validity_bitmap, valid_data = load_data(output_path)\n",
    "img_left = rasterio.open(os.path.join(root_gt, cost_function, scene, \"left_epipolar_image_gray.tif\")).read(1)\n",
    "\n",
    "true_disp[true_disp==0] = np.nan\n",
    "correct_int = (true_disp<=int_90_sup) & (true_disp>=int_90_inf)"
   ]
  },
  {
   "cell_type": "code",
   "execution_count": null,
   "id": "28a9c07e-0529-436f-9fde-623c7199842b",
   "metadata": {
    "tags": []
   },
   "outputs": [],
   "source": [
    "d_min, d_max"
   ]
  },
  {
   "cell_type": "code",
   "execution_count": null,
   "id": "174358f9-e172-4d8f-b3b2-12eb730474a2",
   "metadata": {
    "tags": []
   },
   "outputs": [],
   "source": [
    "custom_mask = np.ones(valid_data.shape, dtype=np.bool_)\n",
    "custom_mask[250:375, 450:550] = False\n",
    "custom_mask[1250:1375, 800:1175] = False\n",
    "custom_mask[1250:1750, 1250:1500] = False\n",
    "img_false_int = np.zeros(img_left.shape + (4,))\n",
    "img_false_int[(~correct_int) & valid_data & custom_mask] = (1, 0, 0, 1)\n",
    "img_false_int[row-5:row+5, col_inf:col_sup+1]=(0, 1, 1, 1)"
   ]
  },
  {
   "cell_type": "code",
   "execution_count": null,
   "id": "94b4d1c0-48a1-49ff-982b-1a3d301d70f9",
   "metadata": {
    "tags": []
   },
   "outputs": [],
   "source": [
    "fig, ax = plt.subplots(1,1,figsize=(7,6))\n",
    "ax.imshow(img_left, cmap=\"gray\", vmin=np.nanquantile(img_left, 0.01), vmax=np.nanquantile(img_left, 0.99))\n",
    "ax.axis(\"off\")\n",
    "plt.savefig(os.path.join(out_path, f\"{scene}.png\"), dpi=250, bbox_inches='tight')\n",
    "crop_img(os.path.join(out_path, f\"{scene}.png\"))\n",
    "\n",
    "fig, ax = plt.subplots(1,1,figsize=(7,6))\n",
    "ax.imshow(img_left, cmap=\"gray\", vmin=np.nanquantile(img_left, 0.01), vmax=np.nanquantile(img_left, 0.99))\n",
    "ax.imshow(img_false_int)\n",
    "ax.axis(\"off\")\n",
    "plt.savefig(os.path.join(out_path, f\"{scene}_error.png\"), dpi=250, bbox_inches='tight')\n",
    "crop_img(os.path.join(out_path, f\"{scene}_error.png\"))"
   ]
  },
  {
   "cell_type": "code",
   "execution_count": null,
   "id": "49f91388-1b3d-4207-bf92-a44a543a971e",
   "metadata": {
    "tags": []
   },
   "outputs": [],
   "source": [
    "fig = plt.figure(figsize=(12, 5))\n",
    "ax = fig.add_subplot(111)\n",
    "\n",
    "ax.plot(np.arange(col_inf, col_sup), true_disp[row, col_inf:col_sup], color=blue, label=\"\\(d_{true}\\)\", linewidth=2.5)\n",
    "ax.plot(np.arange(col_inf, col_sup), disp_map[row, col_inf:col_sup], color=orange, label=r\"\\(\\tilde{d}\\)\", linewidth=2, alpha=0.7)\n",
    "ax.plot(np.arange(col_inf, col_sup), int_90_inf[row, col_inf:col_sup], linestyle=\"--\", color=orange, label=r\"\\(I_\\alpha\\)\", linewidth=1.5)\n",
    "ax.plot(np.arange(col_inf, col_sup), int_90_sup[row, col_inf:col_sup], linestyle=\"--\", color=orange, linewidth=1.5)\n",
    "\n",
    "ax.set_ylabel(\"\\(\\mathrm{Disparity}\\)\")\n",
    "ax.set_xlabel(\"\\(\\mathrm{Columns}\\)\")\n",
    "\n",
    "ax.set_xlim([col_inf, col_sup-1])\n",
    "ax.grid(True)\n",
    "\n",
    "# Grey area for invalid pixels\n",
    "bottom_, top_ = ax.get_ylim()\n",
    "diffs = np.diff(np.hstack([[False], validity_bitmap[row, :], [False]]).astype(int))\n",
    "lefts_, rights_ = np.argwhere(diffs==1).flatten(), np.argwhere(diffs==-1).flatten() - 1\n",
    "invalid_zones = [Rectangle((l_, bottom_), r_ - l_, top_ - bottom_) for l_, r_ in zip(lefts_, rights_)]\n",
    "pc = PatchCollection(invalid_zones, facecolor=\"gray\", alpha=0.3)\n",
    "ax.add_collection(pc)\n",
    "\n",
    "\n",
    "ax.legend(loc=(0.5, 0.15), frameon=True, framealpha=1, facecolor=\"white\");\n",
    "plt.savefig(os.path.join(out_path, f\"{scene}_error_row_{row}.png\"), dpi=250, bbox_inches='tight')\n",
    "crop_img(os.path.join(out_path, f\"{scene}_error_row_{row}.png\"))"
   ]
  },
  {
   "cell_type": "markdown",
   "id": "acaab439-3ce1-4f23-ae7e-f2b2e1d15276",
   "metadata": {},
   "source": [
    "# TMP"
   ]
  },
  {
   "cell_type": "code",
   "execution_count": null,
   "id": "15dee612-e75d-4118-813b-f6e9e4dbc698",
   "metadata": {
    "tags": []
   },
   "outputs": [],
   "source": [
    "for k in os.listdir(\"/work/CAMPUS/etudes/3D/Development/malinoro/LiDAR_HD\"):\n",
    "    print(k)\n",
    "    lidar_hd = rasterio.open(f\"/work/CAMPUS/etudes/3D/Development/malinoro/LiDAR_HD/{k}/{k}.tif\")\n",
    "    print(lidar_hd.meta)\n",
    "    print(np.unique(rasterio.open(\"/work/CAMPUS/etudes/3D/Development/malinoro/LiDAR_HD/Bordeaux/Bordeaux.tif\").read(1)))\n",
    "    print()"
   ]
  },
  {
   "cell_type": "code",
   "execution_count": null,
   "id": "21d7122f-6488-4ab9-b91f-9c74e5c8a16f",
   "metadata": {
    "tags": []
   },
   "outputs": [],
   "source": [
    "lidar_hd = rasterio.open(\"/work/CAMPUS/etudes/3D/Development/malinoro/LiDAR_HD/Bordeaux/Bordeaux.tif\")\n",
    "lidar_hd.meta"
   ]
  },
  {
   "cell_type": "code",
   "execution_count": null,
   "id": "bef38eb4-8f8a-4eb0-bd98-69b57e0175b2",
   "metadata": {
    "tags": []
   },
   "outputs": [],
   "source": [
    "np.unique(rasterio.open(\"/work/CAMPUS/etudes/3D/Development/malinoro/LiDAR_HD/Bordeaux/Bordeaux.tif\").read(1))"
   ]
  },
  {
   "cell_type": "code",
   "execution_count": null,
   "id": "0ab810e3-3aa3-464a-8453-19d6012457c3",
   "metadata": {},
   "outputs": [],
   "source": []
  }
 ],
 "metadata": {
  "kernelspec": {
   "display_name": "venv_pandora_trex",
   "language": "python",
   "name": "venv_pandora_trex"
  },
  "language_info": {
   "codemirror_mode": {
    "name": "ipython",
    "version": 3
   },
   "file_extension": ".py",
   "mimetype": "text/x-python",
   "name": "python",
   "nbconvert_exporter": "python",
   "pygments_lexer": "ipython3",
   "version": "3.8.4"
  }
 },
 "nbformat": 4,
 "nbformat_minor": 5
}
