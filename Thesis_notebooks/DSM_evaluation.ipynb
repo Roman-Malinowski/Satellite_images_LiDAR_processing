{
 "cells": [
  {
   "cell_type": "code",
   "execution_count": null,
   "id": "e53aeb05-09a1-4c97-a7a7-ceb47892b9be",
   "metadata": {
    "tags": []
   },
   "outputs": [],
   "source": [
    "import json\n",
    "import os\n",
    "import re\n",
    "import warnings\n",
    "import logging\n",
    "\n",
    "import otbApplication"
   ]
  },
  {
   "cell_type": "code",
   "execution_count": null,
   "id": "ac7d3b82-7f2d-4ff2-a14a-96846bceea66",
   "metadata": {
    "tags": []
   },
   "outputs": [],
   "source": [
    "logging.basicConfig(level=logging.INFO)"
   ]
  },
  {
   "cell_type": "code",
   "execution_count": null,
   "id": "3858d86e-f12b-4a97-9d23-102b99d71907",
   "metadata": {
    "tags": []
   },
   "outputs": [],
   "source": [
    "import matplotlib.pyplot as plt\n",
    "from matplotlib.lines import Line2D\n",
    "from matplotlib.collections import PatchCollection\n",
    "from matplotlib.patches import Rectangle, Ellipse, Patch\n",
    "#plt.rcParams[\"font.family\"] = \"DejaVu Serif\"\n",
    "plt.rcParams.update({'text.usetex': True, \"font.family\": \"sans-serif\", 'font.size': 18})\n",
    "plt.style.use(\"tableau-colorblind10\")  # [#006BA4, #FF800E, #BABAB, #595959, #5F9ED1, #C85200, #898989, #A2C8EC, #FFBC79, #CFCFCF]\n",
    "plt.rcParams['axes.axisbelow'] = True\n",
    "\n",
    "import numpy as np\n",
    "from numba import njit, prange\n",
    "import pandas as pd\n",
    "from PIL import Image\n",
    "import rasterio\n",
    "import xarray as xr\n",
    "from scipy.ndimage import convolve\n",
    "\n",
    "from rasterio import warp\n",
    "from matplotlib_scalebar.scalebar import ScaleBar"
   ]
  },
  {
   "cell_type": "code",
   "execution_count": null,
   "id": "26284c7a-2bbc-402b-8299-6c0a920e36b9",
   "metadata": {
    "tags": []
   },
   "outputs": [],
   "source": [
    "def crop_img(path):\n",
    "    img = np.array(Image.open(path))\n",
    "    img_sum = img.sum(axis=2)\n",
    "    top = 0\n",
    "    bottom = img.shape[0] - 1\n",
    "    left = 0\n",
    "    right = img.shape[1] - 1\n",
    "    for k in range(img.shape[0]):\n",
    "        if (img_sum[k, :] != (255*4)).any():\n",
    "            top = k\n",
    "            break\n",
    "    for k in range(img.shape[0]):\n",
    "        if (img_sum[img.shape[0] - 1 - k, :] != (255*4)).any():\n",
    "            bottom = img.shape[0] - 1 - k\n",
    "            break\n",
    "    for k in range(img.shape[1]):\n",
    "        if (img_sum[:, k] != (255*4)).any():\n",
    "            left = k\n",
    "            break\n",
    "    for k in range(img.shape[1]):\n",
    "        if (img_sum[:, img.shape[1] - 1 - k] != (255*4)).any():\n",
    "            right = img.shape[1] - 1 - k\n",
    "            break\n",
    "    img = img[top:bottom+1, left:right+1]\n",
    "    Image.fromarray(img).save(path)\n",
    "    \n",
    "def custom_grid(ax, left, right, top, bottom):\n",
    "    for x in range(left, right+1):\n",
    "        ax.axvline(x, linewidth=1, alpha=0.3, color=gray)\n",
    "    for y in range(top, bottom+1):\n",
    "        ax.axhline(y, linewidth=1, alpha=0.3, color=gray)\n",
    "        \n",
    "def normalize_for_imshow(img: np.ndarray, q_min=0.01, q_max=0.99):\n",
    "    img = np.moveaxis(img, (0,1,2), (2,0,1))\n",
    "    img_normalized = np.zeros(img.shape, dtype=img.dtype)\n",
    "    min_band, max_band = np.nanquantile(img, [q_min, q_max])\n",
    "    for band in range(img.shape[-1]):\n",
    "        img_normalized[:,:,band] = np.clip(img[:,:,band], min_band, max_band)\n",
    "        img_normalized[:,:,band] = (img_normalized[:,:,band] - np.nanmin(img_normalized[:,:,band])) /\\\n",
    "        (np.nanmax(img_normalized[:,:,band]) - np.nanmin(img_normalized[:,:,band]))\n",
    "    return np.round(img_normalized*255).astype(np.uint8)"
   ]
  },
  {
   "cell_type": "code",
   "execution_count": null,
   "id": "7df406ab-21bb-47e5-8518-d4073d011bf3",
   "metadata": {
    "tags": []
   },
   "outputs": [],
   "source": [
    "def compute_slope(data, xres=0.5, yres=0.5):\n",
    "    conv_x = np.array([[-1, 0, 1], [-2, 0, 2], [-1, 0, 1]])\n",
    "    conv_y = conv_x.transpose()\n",
    "\n",
    "    # Now we do the convolutions :\n",
    "    gx = convolve(data, conv_x, mode=\"reflect\")\n",
    "    gy = convolve(data, conv_y, mode=\"reflect\")\n",
    "\n",
    "    # And eventually we do compute tan(slope) and aspect\n",
    "    tan_slope = np.sqrt((gx / xres) ** 2 + (gy / yres) ** 2) / 8\n",
    "    slope = np.arctan(tan_slope)\n",
    "\n",
    "    slope = (slope * 180) / np.pi\n",
    "    return slope"
   ]
  },
  {
   "cell_type": "code",
   "execution_count": null,
   "id": "6c042226-dd6c-4b26-9331-fd9a05493ec2",
   "metadata": {
    "tags": []
   },
   "outputs": [],
   "source": [
    "out_path = \"/work/CAMPUS/users/malinoro/outputs/These/IMG_DSM/\"\n",
    "\n",
    "blue=\"#006BA4\"\n",
    "orange=\"#FF800E\"\n",
    "gray=\"#ABABAB\"\n",
    "dark_gray=\"#595959\"\n",
    "gray_blue=\"#5F9ED1\"\n",
    "brown=\"#C85200\"\n",
    "third_gray=\"#898989\"\n",
    "light_blue=\"#A2C8EC\"\n",
    "light_orange=\"#FFBC79\"\n",
    "light_gray=\"#CFCFCF\""
   ]
  },
  {
   "cell_type": "markdown",
   "id": "8f4d2ee4-29cc-4799-9370-70ad5771c98a",
   "metadata": {},
   "source": [
    "# List scenes"
   ]
  },
  {
   "cell_type": "code",
   "execution_count": null,
   "id": "2aa0dc9d-3630-407a-81a8-0cb390dcd2d8",
   "metadata": {
    "tags": []
   },
   "outputs": [],
   "source": [
    "cars_path = \"/work/CAMPUS/etudes/3D/Development/malinoro/CARS_output/CO3D_performance_map\"\n",
    "dem_gt_path = \"/work/CAMPUS/etudes/3D/Development/malinoro/Demcompare_outputs\""
   ]
  },
  {
   "cell_type": "code",
   "execution_count": null,
   "id": "177e2590-f5b0-447a-83a4-5e3aeb530d4e",
   "metadata": {
    "tags": []
   },
   "outputs": [],
   "source": [
    "scenes = ['Bordeaux',\n",
    "          'Toulouse',\n",
    "          'Pic_du_midi',\n",
    "          'Peyto',\n",
    "          'Monaco',\n",
    "          'Montpellier',\n",
    "          'Grenoble',\n",
    "          'Graasubreen',\n",
    "          'Hellmem',\n",
    "          'Langfjordjokelen',\n",
    "          'Paris']\n",
    "\n",
    "\n",
    "dict_transfo = {\"Bordeaux\": {\"drow\": 0, \"dcol\": 1},\n",
    "                \"Pic_du_midi\": {\"drow\": 3, \"dcol\": 4},\n",
    "                \"Monaco\": {\"drow\": 11, \"dcol\": 12},\n",
    "                \"Grenoble\": {\"drow\": 11, \"dcol\": 6},\n",
    "                \"Graasubreen\": {\"drow\": 3, \"dcol\": 0},\n",
    "                \"Hellmem\": {\"drow\": 7, \"dcol\": 0},\n",
    "                \"Langfjordjokelen\": {\"drow\": 1, \"dcol\": 0},\n",
    "                \"Montpellier\": {\"drow\": 7, \"dcol\": 4},\n",
    "                \"Paris\": {\"drow\": 0, \"dcol\": 11},\n",
    "                \"Toulouse\": {\"drow\": 7, \"dcol\": 7},\n",
    "                \"Peyto\": {\"drow\": 2, \"dcol\": 0},\n",
    "               }\n",
    "\n",
    "dict_manual = {\"Bordeaux\": {\"drow\": 0-8, \"dcol\": 1+2},\n",
    "               \"Pic_du_midi\": {\"drow\": 3, \"dcol\": 4},\n",
    "               \"Monaco\": {\"drow\": 11, \"dcol\": 12},\n",
    "               \"Grenoble\": {\"drow\": 11, \"dcol\": 6},\n",
    "               \"Graasubreen\": {\"drow\": 10+3, \"dcol\": 0},\n",
    "               \"Hellmem\": {\"drow\": 7+6, \"dcol\": 0},\n",
    "               \"Langfjordjokelen\": {\"drow\": 1, \"dcol\": 0},\n",
    "               \"Montpellier\": {\"drow\": 7+5, \"dcol\": 4+2},\n",
    "               \"Paris\": {\"drow\": 0-1, \"dcol\": 11+4},\n",
    "               \"Toulouse\": {\"drow\": 7+1, \"dcol\": 7+1},\n",
    "               \"Peyto\": {\"drow\": 2, \"dcol\": 0},\n",
    "              }\n",
    "\n",
    "subfolder = {\"Bordeaux\": \"\",\n",
    "             \"Pic_du_midi\": \"\",\n",
    "             \"Monaco\": \"\",\n",
    "             \"Grenoble\": \"\",\n",
    "             \"Graasubreen\": \"\",\n",
    "             \"Hellmem\": \"\",\n",
    "             \"Langfjordjokelen\": \"\",\n",
    "             \"Montpellier\": \"Single_pair/2021-10-17_10h53m425_2021-10-17_10h53m298\",\n",
    "             \"Paris\": \"Single_pair/2023-05-31_10h55m516_2023-05-31_10h55m436\",\n",
    "             \"Toulouse\": \"Single_pair/10h49m208_10h49m399\",\n",
    "             \"Peyto\": \"\",\n",
    "               }\n",
    "\n",
    "watermask_dict = {\"Bordeaux\": True,\n",
    "                  \"Pic_du_midi\": True,\n",
    "                  \"Monaco\": True,\n",
    "                  \"Grenoble\": False,\n",
    "                  \"Graasubreen\": False,\n",
    "                  \"Hellmem\": False,\n",
    "                  \"Langfjordjokelen\": False,\n",
    "                  \"Montpellier\": True,\n",
    "                  \"Paris\": True,\n",
    "                  \"Toulouse\": True,\n",
    "                  \"Peyto\": False,\n",
    "                 }"
   ]
  },
  {
   "cell_type": "markdown",
   "id": "1ba26be3-05e1-4d95-bc25-e867be81220e",
   "metadata": {
    "jp-MarkdownHeadingCollapsed": true,
    "tags": []
   },
   "source": [
    "# Extract ROI"
   ]
  },
  {
   "cell_type": "code",
   "execution_count": null,
   "id": "d5de5d97-e5b1-4775-81a8-b709dfb6fa71",
   "metadata": {
    "tags": []
   },
   "outputs": [],
   "source": [
    "\"\"\"for scene, pair in zip([\"Peyto\"], [\"ROI_memory\"]):\n",
    "    for tif in [\"dsm.tif\", \"clr.tif\", \"confidence_from_ambiguity_amb.tif\", \"dsm_inf.tif\", \"dsm_sup.tif\"]:\n",
    "        app = otbApplication.Registry.CreateApplication(\"ExtractROI\")\n",
    "\n",
    "        app.SetParameterString(\"in\", os.path.join(cars_path, scene, pair, tif))\n",
    "        app.SetParameterString(\"mode\",\"fit\")\n",
    "        app.SetParameterString(\"mode.fit.im\", os.path.join(dem_gt_path, scene, \"coregistration/reproj_coreg_SEC.tif\"))\n",
    "        app.SetParameterString(\"out\", os.path.join(dem_gt_path, scene, \"coregistration\", tif))\n",
    "\n",
    "        app.ExecuteAndWriteOutput()\n",
    "\"\"\"\n",
    "#  otbcli_ExtractROI -in clr.tif -out ROI_memory/clr.tif -mode extent -mode.extent.uly 23000 -mode.extent.ulx 13000 -mode.extent.lry 33000 -mode.extent.lrx 23000"
   ]
  },
  {
   "cell_type": "markdown",
   "id": "377dd0e4-3755-45a5-865b-8431ab191aa0",
   "metadata": {
    "jp-MarkdownHeadingCollapsed": true,
    "tags": []
   },
   "source": [
    "# Miniatures"
   ]
  },
  {
   "cell_type": "code",
   "execution_count": null,
   "id": "9e2e5b5b-8cdb-4af7-b139-b55c6577a23e",
   "metadata": {
    "tags": []
   },
   "outputs": [],
   "source": [
    "for scene in ['Bordeaux', 'Toulouse', 'Pic_du_midi', 'Peyto', 'Paris', 'Monaco', 'Montpellier', 'Grenoble', 'Graasubreen', 'Hellmem', 'Langfjordjokelen']:\n",
    "    print(scene)\n",
    "    DSM = rasterio.open(os.path.join(dem_gt_path, scene, \"coregistration/dsm.tif\"))\n",
    "    dsm = DSM.read(1)\n",
    "    bounds = DSM.bounds\n",
    "    \n",
    "    if scene in ['Graasubreen', 'Hellmem']:\n",
    "        name_scene = \"Jotunheinem\"\n",
    "    elif scene == \"Langfjordjokelen\":\n",
    "        name_scene = \"Langfjordjøkelen\"\n",
    "    else:\n",
    "        name_scene = scene\n",
    "    color_name = [k for k in os.listdir(os.path.join(\"/work/CAMPUS/etudes/3D/Development/malinoro/Pleiades\", name_scene, \"ortho_image\")) if \".TIF\"==k[-4:]][0]\n",
    "    COLOR = rasterio.open(os.path.join(\"/work/CAMPUS/etudes/3D/Development/malinoro/Pleiades\", name_scene, \"ortho_image\", color_name))\n",
    "\n",
    "    bounds_warp = warp.transform_bounds(DSM.crs, COLOR.crs, bounds.left, bounds.bottom, bounds.right, bounds.top) \n",
    "\n",
    "    color = COLOR.read([1,2,3], window=rasterio.windows.from_bounds(*bounds_warp, COLOR.transform))\n",
    "\n",
    "    clr_normalized = normalize_for_imshow(color)\n",
    "\n",
    "    subsampling = min(np.ceil(clr_normalized.shape[0]/5000).astype(int),np.ceil(clr_normalized.shape[1]/5000).astype(int))\n",
    "    \n",
    "    GT = rasterio.open(os.path.join(dem_gt_path, scene, \"coregistration/reproj_coreg_REF.tif\"))\n",
    "    gt = GT.read(1)\n",
    "    \n",
    "    fig, ax = plt.subplots(1, 1, figsize=(7,7))\n",
    "\n",
    "    ax.imshow(clr_normalized[::subsampling,::subsampling, :], interpolation=\"nearest\", aspect=clr_normalized.shape[1]/clr_normalized.shape[0]*gt.shape[0]/gt.shape[1])\n",
    "\n",
    "    scalebar = ScaleBar(subsampling*0.5, location=\"lower left\", pad=0.1, font_properties={\"math_fontfamily\": \"dejavuserif\"})\n",
    "    ax.add_artist(scalebar)\n",
    "    ax.axis(\"off\")\n",
    "    plt.savefig(os.path.join(out_path, f\"miniature_{scene}.png\"), dpi=100, bbox_inches='tight')\n",
    "    crop_img(os.path.join(out_path, f\"miniature_{scene}.png\"))\n",
    "    \n",
    "    \n",
    "\n",
    "    subsampling = min(np.ceil(gt.shape[0]/5000).astype(int),np.ceil(gt.shape[1]/5000).astype(int))\n",
    "    fig, ax = plt.subplots(1, 1, figsize=(7,7))\n",
    "    ax.imshow(gt[::subsampling,::subsampling], cmap=\"gray\")\n",
    "    ax.axis(\"off\")\n",
    "    plt.savefig(os.path.join(out_path, f\"miniature_{scene}_gt.png\"), dpi=100, bbox_inches='tight')\n",
    "    crop_img(os.path.join(out_path, f\"miniature_{scene}_gt.png\"))"
   ]
  },
  {
   "cell_type": "code",
   "execution_count": null,
   "id": "03494192-c2dd-4857-aa42-7d6b92a78463",
   "metadata": {
    "tags": []
   },
   "outputs": [],
   "source": [
    "scene = \"Hellmem\"\n",
    "DSM = rasterio.open(os.path.join(dem_gt_path, scene, \"coregistration/dsm.tif\"))\n",
    "dsm = DSM.read(1)\n",
    "bounds = DSM.bounds\n",
    "\n",
    "if scene in ['Graasubreen', 'Hellmem']:\n",
    "    name_scene = \"Jotunheinem\"\n",
    "elif scene == \"Langfjordjokelen\":\n",
    "    name_scene = \"Langfjordjøkelen\"\n",
    "else:\n",
    "    name_scene = scene\n",
    "color_name = [k for k in os.listdir(os.path.join(\"/work/CAMPUS/etudes/3D/Development/malinoro/Pleiades\", name_scene, \"ortho_image\")) if \".TIF\"==k[-4:]][0]\n",
    "COLOR = rasterio.open(os.path.join(\"/work/CAMPUS/etudes/3D/Development/malinoro/Pleiades\", name_scene, \"ortho_image\", color_name))\n",
    "\n",
    "bounds_warp = warp.transform_bounds(DSM.crs, COLOR.crs, bounds.left, bounds.bottom, bounds.right, bounds.top) \n",
    "\n",
    "color = COLOR.read([1,2,3], window=rasterio.windows.from_bounds(*bounds_warp, COLOR.transform))"
   ]
  },
  {
   "cell_type": "code",
   "execution_count": null,
   "id": "d9caf659-fbf0-4f64-ac14-33062b38253e",
   "metadata": {
    "tags": []
   },
   "outputs": [],
   "source": [
    "color = color[:, ::3, ::6]"
   ]
  },
  {
   "cell_type": "code",
   "execution_count": null,
   "id": "dee8e7aa-1d68-4f80-af89-fa57b8e28670",
   "metadata": {
    "tags": []
   },
   "outputs": [],
   "source": [
    "clr_normalized = normalize_for_imshow(color)"
   ]
  },
  {
   "cell_type": "code",
   "execution_count": null,
   "id": "4b7c67ca-8986-4352-afdd-0dbeb1e88d1d",
   "metadata": {
    "tags": []
   },
   "outputs": [],
   "source": [
    "GT = rasterio.open(os.path.join(dem_gt_path, scene, \"coregistration/reproj_coreg_REF.tif\"))\n",
    "gt = GT.read(1)"
   ]
  },
  {
   "cell_type": "code",
   "execution_count": null,
   "id": "1ad4f59a-2b7c-4352-b9b2-3c7f6f7764a2",
   "metadata": {
    "tags": []
   },
   "outputs": [],
   "source": [
    "fig, ax = plt.subplots(1, 1, figsize=(7,7))\n",
    "\n",
    "ax.imshow(clr_normalized, interpolation=\"nearest\", aspect=clr_normalized.shape[1]/clr_normalized.shape[0]*gt.shape[0]/gt.shape[1])\n",
    "\n",
    "scalebar = ScaleBar(subsampling*0.5, location=\"lower left\", pad=0.1, font_properties={\"math_fontfamily\": \"dejavuserif\"})\n",
    "ax.add_artist(scalebar)\n",
    "ax.axis(\"off\")\n",
    "plt.savefig(os.path.join(out_path, f\"miniature_{scene}.png\"), dpi=100, bbox_inches='tight')\n",
    "crop_img(os.path.join(out_path, f\"miniature_{scene}.png\"))\n",
    "\n",
    "\n",
    "\n",
    "subsampling = min(np.ceil(gt.shape[0]/5000).astype(int),np.ceil(gt.shape[1]/5000).astype(int))\n",
    "fig, ax = plt.subplots(1, 1, figsize=(7,7))\n",
    "ax.imshow(gt[::subsampling,::subsampling], cmap=\"gray\")\n",
    "ax.axis(\"off\")\n",
    "plt.savefig(os.path.join(out_path, f\"miniature_gt_{scene}.png\"), dpi=100, bbox_inches='tight')\n",
    "crop_img(os.path.join(out_path, f\"miniature_gt_{scene}.png\"))"
   ]
  },
  {
   "cell_type": "markdown",
   "id": "a76b8323-21b1-49e4-abbd-e09fee4302b9",
   "metadata": {
    "jp-MarkdownHeadingCollapsed": true,
    "tags": []
   },
   "source": [
    "### Watermask"
   ]
  },
  {
   "cell_type": "code",
   "execution_count": null,
   "id": "77e5136e-ddf1-4fae-9dae-686e7d60e0f3",
   "metadata": {
    "tags": []
   },
   "outputs": [],
   "source": [
    "scene = \"Paris\"\n",
    "\n",
    "from numpy.lib.stride_tricks import sliding_window_view\n",
    "\n",
    "WATERMASK = rasterio.open(os.path.join(dem_gt_path, scene, \"coregistration/watermask.tif\"))\n",
    "watermask = WATERMASK.read(1)\n",
    "watermask[watermask==255] = 0\n",
    "\n",
    "watermask_view = sliding_window_view(watermask, [10, 10])\n",
    "img_watermask = - np.nanmax(watermask_view, axis=(2,3))\n",
    "\n",
    "fig, ax = plt.subplots(1, 1, figsize=(7,7))\n",
    "\n",
    "ax.imshow(img_watermask, vmin=-1, vmax=0, cmap=\"bwr\")\n",
    "ax.axis(\"off\")\n",
    "plt.savefig(os.path.join(out_path, f\"watermask_{scene}.png\"), dpi=100, bbox_inches='tight')\n",
    "crop_img(os.path.join(out_path, f\"watermask_{scene}.png\"))"
   ]
  },
  {
   "cell_type": "markdown",
   "id": "4b5b19b9-7a18-406c-bdc5-77a54ba1c2b6",
   "metadata": {
    "tags": []
   },
   "source": [
    "# Statistics"
   ]
  },
  {
   "cell_type": "markdown",
   "id": "7317187c-0fdc-4bc1-b806-a854b1b0e57e",
   "metadata": {
    "jp-MarkdownHeadingCollapsed": true,
    "tags": []
   },
   "source": [
    "## Metrics"
   ]
  },
  {
   "cell_type": "code",
   "execution_count": null,
   "id": "aae5088e-a6e8-46cb-bd38-b2389ac18a5b",
   "metadata": {
    "tags": []
   },
   "outputs": [],
   "source": [
    "df = pd.DataFrame(index=scenes, columns=[\"acc\", \"eps\", \"o_rel\", \"s_rel\", \"altimetric_bias\", \"r_alt\", \"invalid_data\"])"
   ]
  },
  {
   "cell_type": "code",
   "execution_count": null,
   "id": "59db0be5-21b8-4d2b-b9e4-5d308e131e3b",
   "metadata": {
    "tags": []
   },
   "outputs": [],
   "source": [
    "for scene in scenes:\n",
    "    print(scene)\n",
    "    dcol, drow = dict_manual[scene][\"dcol\"], dict_manual[scene][\"drow\"]\n",
    "\n",
    "    DSM = rasterio.open(os.path.join(dem_gt_path, scene, \"coregistration/dsm.tif\"))\n",
    "    dsm = DSM.read(1)\n",
    "\n",
    "    GT = rasterio.open(os.path.join(dem_gt_path, scene, \"coregistration/reproj_coreg_REF.tif\"))\n",
    "    gt = GT.read(1)\n",
    "\n",
    "    DSM_INF = rasterio.open(os.path.join(dem_gt_path, scene, \"coregistration/dsm_inf.tif\"))\n",
    "    dsm_inf = DSM_INF.read(1)\n",
    "\n",
    "    DSM_SUP = rasterio.open(os.path.join(dem_gt_path, scene, \"coregistration/dsm_sup.tif\"))\n",
    "    dsm_sup = DSM_SUP.read(1)\n",
    "\n",
    "    gt = GT.read(1)\n",
    "    gt = np.pad(gt, ((max(0, drow), max(-drow, 0)),\n",
    "                      (max(0, dcol), max(-dcol, 0))),\n",
    "                constant_values=np.nan)\n",
    "\n",
    "    gt = gt[max(0, -drow):min(gt.shape[0]-drow, gt.shape[0]),\n",
    "            max(0, -dcol):min(gt.shape[1]-dcol, gt.shape[1])]\n",
    "\n",
    "    no_data = np.isnan(dsm)     | (dsm==DSM.nodata) | \\\n",
    "              np.isnan(gt)      | (gt==GT.nodata)  | \\\n",
    "              np.isnan(dsm_inf) | (dsm_inf==DSM_INF.nodata) |\\\n",
    "              np.isnan(dsm_sup) | (dsm_sup==DSM_SUP.nodata)\n",
    "\n",
    "    with open(os.path.join(cars_path, scene, subfolder[scene], \"content.json\")) as f:\n",
    "        content = json.load(f)[\"applications\"]\n",
    "        r_alt = float(content[list(content.keys())[0]][\"grid_generation_run\"][\"disp_to_alt_ratio\"])\n",
    "\n",
    "    if watermask_dict[scene]:\n",
    "        print(\"Using a watermask\")\n",
    "        WATERMASK = rasterio.open(os.path.join(dem_gt_path, scene, \"coregistration/watermask.tif\"))\n",
    "        watermask = WATERMASK.read(1)\n",
    "        no_data |= (watermask>0)\n",
    "\n",
    "    dsm[no_data] = np.nan\n",
    "    dsm_inf[no_data] = np.nan\n",
    "    dsm_sup[no_data] = np.nan\n",
    "    gt[no_data] = np.nan\n",
    "    valid_data = ~no_data\n",
    "\n",
    "    altimetric_bias = np.nanmedian(dsm -gt)\n",
    "\n",
    "    print(f\"Altimetric bias: {altimetric_bias:.2f}m\")\n",
    "    gt += altimetric_bias\n",
    "\n",
    "    print(f\"Percentage of invalid data: {100*no_data.sum() / no_data.size:.0f}%\")\n",
    "\n",
    "    df.loc[scene, [\"altimetric_bias\", \"r_alt\", \"invalid_data\"]] = altimetric_bias, r_alt, no_data.sum() / no_data.size    \n",
    "    \n",
    "    correct_intervals = (gt <= dsm_sup) & (gt>=dsm_inf)\n",
    "\n",
    "    print(f\"Disp to alt ratio: {r_alt:.3f} m/disp\")\n",
    "    print(f\"Minimum interval size: {np.nanmin(((dsm_sup-dsm_inf)[valid_data & correct_intervals]))}\")\n",
    "    acc = (correct_intervals)[valid_data].sum() / valid_data.sum()\n",
    "    eps = np.nanmedian(np.minimum(np.abs(dsm_sup-gt)[valid_data & (~correct_intervals)], np.abs(gt-dsm_inf)[valid_data & (~correct_intervals)])) / r_alt\n",
    "    s_rel = 1/r_alt*np.nanmedian((dsm_sup-dsm_inf)[valid_data])\n",
    "    o_rel = 1 - np.nanmedian(np.maximum(np.abs(gt-dsm)[valid_data & correct_intervals], r_alt)/((dsm_sup-dsm_inf)[valid_data & correct_intervals]))\n",
    "    \n",
    "    \n",
    "    df.loc[scene, [\"acc\", \"eps\", \"o_rel\", \"s_rel\"]] = acc, eps, o_rel, s_rel\n",
    "    print()"
   ]
  },
  {
   "cell_type": "code",
   "execution_count": null,
   "id": "55f24592-3605-401a-bf69-076c71b2726e",
   "metadata": {
    "tags": []
   },
   "outputs": [],
   "source": [
    "df.sort_index(inplace=True)\n",
    "df.to_csv(\"DSM_metrics.csv\")"
   ]
  },
  {
   "cell_type": "code",
   "execution_count": null,
   "id": "db2657d4-6b9a-46f5-8b79-ecc45031f742",
   "metadata": {
    "tags": []
   },
   "outputs": [],
   "source": [
    "table = r\"\"\"\\begin{table}[ht]\n",
    "    \\centering\n",
    "    \\begin{tabular}{|c||c|c|c|c|c|c|}\n",
    "        \\hline\n",
    "        Scene & $Z_{acc}$ & $Z_\\epsilon$ (pix) & $Z_{size}$ (pix) & $Z_{o}$ & $r_{alt}$ (m/pix) & invalid\n",
    "        \\\\\\hline\\hline\"\"\"\n",
    "for scene in df.index:\n",
    "    table += f\"\\n        {scene.replace('_', ' ')} & \" + f\"{df.loc[scene, 'acc']*100:.1f}\"+r\"$\\%$ & \" + f\"{df.loc[scene, 'eps']:.2f} & \" f\"{df.loc[scene, 's_rel']:.2f} & \" + f\"{df.loc[scene, 'o_rel']*100:.1f}\" + r\"$\\%$ & \" + f\"{df.loc[scene, 'r_alt']:.2f}  & {df.loc[scene, 'invalid_data']*100:.1f}\"+r\"$\\%$\"\n",
    "    table += r\"\\\\\\hline\"\n",
    "table += \"\\n\"+r\"\"\"    \\end{tabular}\n",
    "    \\caption{Elevation metrics for the different stereo pairs.}\n",
    "    \\label{tab:elevation_metrics_global}\n",
    "\\end{table}\"\"\"\n",
    "print(table)"
   ]
  },
  {
   "cell_type": "markdown",
   "id": "9f06294f-27b3-48b5-8c2f-f7d9379eaeca",
   "metadata": {
    "jp-MarkdownHeadingCollapsed": true,
    "tags": []
   },
   "source": [
    "## Metrics per slope"
   ]
  },
  {
   "cell_type": "code",
   "execution_count": null,
   "id": "fe943536-5b02-45ea-8b71-d19965439c20",
   "metadata": {
    "tags": []
   },
   "outputs": [],
   "source": [
    "slope_masks_list = [[0, 2.5],\n",
    "               [2.5, 5],\n",
    "               [5, 10],\n",
    "               [10, 15],\n",
    "               [15, 20],\n",
    "               [20, 30],\n",
    "               [30, 40],\n",
    "               [40, 50],\n",
    "               [50, 70],\n",
    "               [70, 90],\n",
    "              ]\n",
    "columns_slope = [f\"{k[0]}-{k[1]}\" for k in slope_masks_list]"
   ]
  },
  {
   "cell_type": "code",
   "execution_count": null,
   "id": "e3aedbb1-de2e-47df-86a5-4ef45796d34f",
   "metadata": {
    "tags": []
   },
   "outputs": [],
   "source": [
    "metrics = [\"acc\", \"eps\", \"s_rel\", \"invalid_data\"]\n",
    "iterables = [columns_slope, metrics]\n",
    "\n",
    "columns = pd.MultiIndex.from_product(iterables, names=[\"slope\", \"metrics\"])\n",
    "df = pd.DataFrame(index=scenes, columns=columns)"
   ]
  },
  {
   "cell_type": "code",
   "execution_count": null,
   "id": "6c62ddd2-6b90-444c-b13c-5b37b4e97d07",
   "metadata": {
    "tags": []
   },
   "outputs": [],
   "source": [
    "for scene in scenes:\n",
    "    print(scene)\n",
    "    dcol, drow = dict_manual[scene][\"dcol\"], dict_manual[scene][\"drow\"]\n",
    "\n",
    "    DSM = rasterio.open(os.path.join(dem_gt_path, scene, \"coregistration/dsm.tif\"))\n",
    "    dsm = DSM.read(1)\n",
    "\n",
    "    GT = rasterio.open(os.path.join(dem_gt_path, scene, \"coregistration/reproj_coreg_REF.tif\"))\n",
    "    gt = GT.read(1)\n",
    "\n",
    "    DSM_INF = rasterio.open(os.path.join(dem_gt_path, scene, \"coregistration/dsm_inf.tif\"))\n",
    "    dsm_inf = DSM_INF.read(1)\n",
    "\n",
    "    DSM_SUP = rasterio.open(os.path.join(dem_gt_path, scene, \"coregistration/dsm_sup.tif\"))\n",
    "    dsm_sup = DSM_SUP.read(1)\n",
    "\n",
    "    gt = GT.read(1)\n",
    "    gt = np.pad(gt, ((max(0, drow), max(-drow, 0)),\n",
    "                      (max(0, dcol), max(-dcol, 0))),\n",
    "                constant_values=np.nan)\n",
    "\n",
    "    gt = gt[max(0, -drow):min(gt.shape[0]-drow, gt.shape[0]),\n",
    "            max(0, -dcol):min(gt.shape[1]-dcol, gt.shape[1])]\n",
    "\n",
    "    no_data = np.isnan(dsm)     | (dsm==DSM.nodata) | \\\n",
    "              np.isnan(gt)      | (gt==GT.nodata)  | \\\n",
    "              np.isnan(dsm_inf) | (dsm_inf==DSM_INF.nodata) |\\\n",
    "              np.isnan(dsm_sup) | (dsm_sup==DSM_SUP.nodata)\n",
    "\n",
    "    with open(os.path.join(cars_path, scene, subfolder[scene], \"content.json\")) as f:\n",
    "        content = json.load(f)[\"applications\"]\n",
    "        r_alt = float(content[list(content.keys())[0]][\"grid_generation_run\"][\"disp_to_alt_ratio\"])\n",
    "\n",
    "    if watermask_dict[scene]:\n",
    "        WATERMASK = rasterio.open(os.path.join(dem_gt_path, scene, \"coregistration/watermask.tif\"))\n",
    "        watermask = WATERMASK.read(1)\n",
    "        no_data |= (watermask>0)\n",
    "\n",
    "    dsm[no_data] = np.nan\n",
    "    dsm_inf[no_data] = np.nan\n",
    "    dsm_sup[no_data] = np.nan\n",
    "    gt[no_data] = np.nan\n",
    "    valid_data = ~no_data\n",
    "\n",
    "    altimetric_bias = np.nanmedian(dsm -gt)\n",
    "\n",
    "    gt += altimetric_bias\n",
    "    \n",
    "    slope = compute_slope(gt)\n",
    "    for s_mask, slope_name in zip(slope_masks_list, columns_slope):\n",
    "        \n",
    "        slope_mask = (s_mask[0] <= slope) & (slope < s_mask[1])\n",
    "        \n",
    "        correct_intervals = (gt <= dsm_sup) & (gt>=dsm_inf)\n",
    "        valid_data = ~no_data\n",
    "        invalid_data = (no_data[slope_mask]).sum() / (no_data[slope_mask].size)\n",
    "        \n",
    "        acc = (correct_intervals)[valid_data & slope_mask].sum() / (valid_data & slope_mask).sum()\n",
    "        eps = np.nanmedian(np.minimum(np.abs(dsm_sup-gt)[valid_data & slope_mask & (~correct_intervals)], np.abs(gt-dsm_inf)[valid_data & slope_mask & (~correct_intervals)])) / r_alt\n",
    "        s_rel = 1/r_alt*np.nanmedian((dsm_sup-dsm_inf)[valid_data & slope_mask])\n",
    "    \n",
    "        df.loc[scene, (slope_name, [\"acc\", \"eps\", \"s_rel\", \"invalid_data\"])] = acc, eps, s_rel, invalid_data"
   ]
  },
  {
   "cell_type": "code",
   "execution_count": null,
   "id": "3a017178-0a7f-4745-91b6-166b480a1e05",
   "metadata": {
    "tags": []
   },
   "outputs": [],
   "source": [
    "df.sort_index(inplace=True)\n",
    "df.to_csv(\"DSM_metrics_slope.csv\")"
   ]
  },
  {
   "cell_type": "code",
   "execution_count": null,
   "id": "dd8da84f-9297-4c7f-9a06-6ba94d7f989b",
   "metadata": {
    "tags": []
   },
   "outputs": [],
   "source": [
    "slope_edges = np.hstack((np.array(slope_masks_list)[:,0].ravel(), np.array(slope_masks_list)[-1,1]))\n",
    "mlabels = [r\"\\(Z_{acc}\\)\", r\"\\(Z_{\\varepsilon}\\)\", r\"\\(Z_{size}\\)\", r\"\\(\\mathrm{Invalid~data}\\)\"]\n",
    "\n",
    "for i, (metric, mlabel) in enumerate(zip(metrics, mlabels)):\n",
    "    fig, ax = plt.subplots(1, 1,figsize=(4, 2))\n",
    "\n",
    "    for scene in scenes:\n",
    "        ax.stairs(df.loc[scene, (columns_slope, metric)].values.astype(float), slope_edges, baseline=None, label=scene)\n",
    "    ax.set_ylabel(mlabels[i])\n",
    "    ax.set_xticks([0, 10, 20, 30, 40, 50, 70, 90])\n",
    "    ax.set_xlabel(r\"\\(\\mathrm{Slope}\\)\")\n",
    "    if metric == \"acc\":\n",
    "        ax.set_ylim([0.5, 1.05])\n",
    "    \n",
    "    plt.savefig(os.path.join(out_path, f\"slope_{metric}.png\"), dpi=250, bbox_inches='tight')\n",
    "    crop_img(os.path.join(out_path, f\"slope_{metric}.png\"))"
   ]
  },
  {
   "cell_type": "code",
   "execution_count": null,
   "id": "80ab82eb-2a74-49be-ac95-77af570d2420",
   "metadata": {
    "tags": []
   },
   "outputs": [],
   "source": [
    "slope_edges = np.hstack((np.array(slope_masks_list)[:,0].ravel(), np.array(slope_masks_list)[-1,1]))\n",
    "\n",
    "metric = \"eps\"\n",
    "mlabel = r\"\\(Z_{\\varepsilon}\\)\"\n",
    "\n",
    "fig, ax = plt.subplots(1, 1,figsize=(4, 2))\n",
    "\n",
    "for scene in scenes:\n",
    "    if scene != \"Hellmem\":\n",
    "        alpha=1\n",
    "    else:\n",
    "        alpha = 0\n",
    "    ax.stairs(df.loc[scene, (columns_slope, metric)].values.astype(float), slope_edges, baseline=None, label=scene, alpha=alpha)\n",
    "ax.set_ylabel(mlabel)\n",
    "ax.set_ylim([0,3])\n",
    "ax.set_xticks([0, 10, 20, 30, 40, 50, 70, 90])\n",
    "ax.set_xlabel(r\"\\(\\mathrm{Slope}\\)\")\n",
    "\n",
    "plt.savefig(os.path.join(out_path, f\"slope_{metric}_no_Hellmem.png\"), dpi=250, bbox_inches='tight')\n",
    "crop_img(os.path.join(out_path, f\"slope_{metric}_no_Hellmem.png\"))"
   ]
  },
  {
   "cell_type": "code",
   "execution_count": null,
   "id": "0034621e-fb3d-4e53-aec7-c578ec65dc4c",
   "metadata": {
    "tags": []
   },
   "outputs": [],
   "source": [
    "slope_edges = np.hstack((np.array(slope_masks_list)[:,0].ravel(), np.array(slope_masks_list)[-1,1]))\n",
    "\n",
    "metric = \"eps\"\n",
    "mlabel = r\"\\(Z_{\\varepsilon}\\)\"\n",
    "\n",
    "fig, ax = plt.subplots(1, 1,figsize=(4, 2))\n",
    "scene = \"Hellmem\"\n",
    "ax.stairs(df.loc[scene, (columns_slope, metric)].values.astype(float), slope_edges, baseline=None, label=scene)\n",
    "ax.set_ylabel(mlabel)\n",
    "ax.set_xticks([0, 10, 20, 30, 40, 50, 70, 90])\n",
    "ax.set_xlabel(r\"\\(\\mathrm{Slope}\\)\")"
   ]
  },
  {
   "cell_type": "markdown",
   "id": "6eb215c9-90d6-4abe-8aca-1891e37df257",
   "metadata": {
    "jp-MarkdownHeadingCollapsed": true,
    "tags": []
   },
   "source": [
    "## Histograms"
   ]
  },
  {
   "cell_type": "code",
   "execution_count": null,
   "id": "ecd362ac-4ed9-41ea-98a2-585ae2ec6333",
   "metadata": {
    "tags": []
   },
   "outputs": [],
   "source": [
    "bins_eps, edges_eps = {}, {}\n",
    "bins_s_rel, edges_s_rel = {}, {}\n",
    "\n",
    "for scene in scenes:\n",
    "    dcol, drow = dict_manual[scene][\"dcol\"], dict_manual[scene][\"drow\"]\n",
    "\n",
    "    DSM = rasterio.open(os.path.join(dem_gt_path, scene, \"coregistration/dsm.tif\"))\n",
    "    dsm = DSM.read(1)\n",
    "\n",
    "    GT = rasterio.open(os.path.join(dem_gt_path, scene, \"coregistration/reproj_coreg_REF.tif\"))\n",
    "    gt = GT.read(1)\n",
    "\n",
    "    DSM_INF = rasterio.open(os.path.join(dem_gt_path, scene, \"coregistration/dsm_inf.tif\"))\n",
    "    dsm_inf = DSM_INF.read(1)\n",
    "\n",
    "    DSM_SUP = rasterio.open(os.path.join(dem_gt_path, scene, \"coregistration/dsm_sup.tif\"))\n",
    "    dsm_sup = DSM_SUP.read(1)\n",
    "\n",
    "    gt = GT.read(1)\n",
    "    gt = np.pad(gt, ((max(0, drow), max(-drow, 0)),\n",
    "                      (max(0, dcol), max(-dcol, 0))),\n",
    "                constant_values=np.nan)\n",
    "\n",
    "    gt = gt[max(0, -drow):min(gt.shape[0]-drow, gt.shape[0]),\n",
    "            max(0, -dcol):min(gt.shape[1]-dcol, gt.shape[1])]\n",
    "\n",
    "    no_data = np.isnan(dsm)     | (dsm==DSM.nodata) | \\\n",
    "              np.isnan(gt)      | (gt==GT.nodata)  | \\\n",
    "              np.isnan(dsm_inf) | (dsm_inf==DSM_INF.nodata) |\\\n",
    "              np.isnan(dsm_sup) | (dsm_sup==DSM_SUP.nodata)\n",
    "\n",
    "    with open(os.path.join(cars_path, scene, subfolder[scene], \"content.json\")) as f:\n",
    "        content = json.load(f)[\"applications\"]\n",
    "        r_alt = float(content[list(content.keys())[0]][\"grid_generation_run\"][\"disp_to_alt_ratio\"])\n",
    "\n",
    "    if watermask_dict[scene]:\n",
    "        WATERMASK = rasterio.open(os.path.join(dem_gt_path, scene, \"coregistration/watermask.tif\"))\n",
    "        watermask = WATERMASK.read(1)\n",
    "        no_data |= (watermask>0)\n",
    "\n",
    "    dsm[no_data] = np.nan\n",
    "    dsm_inf[no_data] = np.nan\n",
    "    dsm_sup[no_data] = np.nan\n",
    "    gt[no_data] = np.nan\n",
    "    valid_data = ~no_data\n",
    "\n",
    "    altimetric_bias = np.nanmedian(dsm -gt)\n",
    "\n",
    "    gt += altimetric_bias\n",
    "    \n",
    "    correct_intervals = (gt <= dsm_sup) & (gt>=dsm_inf)\n",
    "\n",
    "    acc = (correct_intervals)[valid_data].sum() / valid_data.sum()\n",
    "    eps = np.minimum(np.abs(dsm_sup-gt)[valid_data & (~correct_intervals)], np.abs(gt-dsm_inf)[valid_data & (~correct_intervals)]) / r_alt\n",
    "    s_rel = 1/r_alt*(dsm_sup-dsm_inf)[valid_data]\n",
    "    o_rel = 1 - np.maximum(np.abs(gt-dsm)[valid_data & correct_intervals], r_alt)/((dsm_sup-dsm_inf)[valid_data & correct_intervals])\n",
    "        \n",
    "    bins_eps[scene], edges_eps[scene] = np.histogram(eps, range=(0, 25), bins=50, density=True)\n",
    "    bins_s_rel[scene], edges_s_rel[scene] = np.histogram(s_rel, range=(0, 25), bins=50, density=True)\n",
    "    \n",
    "    print(scene)\n",
    "    fig, ax = plt.subplots(1, 1, figsize=(5,3))\n",
    "\n",
    "    ax.stairs(bins_eps[scene], edges_eps[scene])\n",
    "    ax.set_xlabel(r\"\\(Z_{\\varepsilon}\\)\")\n",
    "    ax.set_ylabel(\"\\(\\mathrm{Density}\\)\")\n",
    "    \n",
    "    plt.show()\n",
    "    \n",
    "    fig, ax = plt.subplots(1, 1, figsize=(5,3))\n",
    "\n",
    "    ax.stairs(bins_s_rel[scene], edges_s_rel[scene])\n",
    "    ax.set_xlabel(r\"\\(Z_{size}\\)\")\n",
    "    ax.set_ylabel(\"\\(\\mathrm{Density}\\)\")\n",
    "    plt.show()"
   ]
  },
  {
   "cell_type": "code",
   "execution_count": null,
   "id": "afbeeeef-2fc1-4a29-9c00-2dffdfcb6739",
   "metadata": {
    "tags": []
   },
   "outputs": [],
   "source": [
    "scene = \"Toulouse\"\n",
    "\n",
    "fig, ax = plt.subplots(1, 1, figsize=(5,3))\n",
    "\n",
    "ax.stairs(bins_eps[scene], edges_eps[scene])\n",
    "ax.set_xlabel(r\"\\(Z_{\\varepsilon}\\)\")\n",
    "ax.set_ylabel(\"\\(\\mathrm{Density}\\)\")\n",
    "\n",
    "plt.savefig(os.path.join(out_path, f\"histogram_elevation_eps_{scene}.png\"), dpi=250, bbox_inches='tight')\n",
    "crop_img(os.path.join(out_path, f\"histogram_elevation_eps_{scene}.png\"))\n",
    "\n",
    "fig, ax = plt.subplots(1, 1, figsize=(5,3))\n",
    "\n",
    "ax.stairs(bins_s_rel[scene], edges_s_rel[scene])\n",
    "ax.set_xlabel(r\"\\(Z_{size}\\)\")\n",
    "ax.set_ylabel(\"\\(\\mathrm{Density}\\)\")\n",
    "\n",
    "plt.savefig(os.path.join(out_path, f\"histogram_elevation_s_rel_{scene}.png\"), dpi=250, bbox_inches='tight')\n",
    "crop_img(os.path.join(out_path, f\"histogram_elevation_s_rel_{scene}.png\"))"
   ]
  },
  {
   "cell_type": "code",
   "execution_count": null,
   "id": "edd2767e-5a63-488f-9b6e-807f4ef1508b",
   "metadata": {
    "tags": []
   },
   "outputs": [],
   "source": [
    "scene = \"Hellmem\"\n",
    "fig, ax = plt.subplots(1, 1, figsize=(5,3))\n",
    "\n",
    "ax.stairs(bins_eps[scene], edges_eps[scene])\n",
    "ax.set_xlabel(r\"\\(Z_{\\varepsilon}\\)\")\n",
    "ax.set_ylabel(\"\\(\\mathrm{Density}\\)\")\n",
    "\n",
    "plt.savefig(os.path.join(out_path, f\"histogram_elevation_eps_{scene}.png\"), dpi=250, bbox_inches='tight')\n",
    "crop_img(os.path.join(out_path, f\"histogram_elevation_eps_{scene}.png\"))\n",
    "\n",
    "fig, ax = plt.subplots(1, 1, figsize=(5,3))\n",
    "\n",
    "ax.stairs(bins_s_rel[scene], edges_s_rel[scene])\n",
    "ax.set_xlabel(r\"\\(Z_{size}\\)\")\n",
    "ax.set_ylabel(\"\\(\\mathrm{Density}\\)\")\n",
    "\n",
    "plt.savefig(os.path.join(out_path, f\"histogram_elevation_s_rel_{scene}.png\"), dpi=250, bbox_inches='tight')\n",
    "crop_img(os.path.join(out_path, f\"histogram_elevation_s_rel_{scene}.png\"))"
   ]
  },
  {
   "cell_type": "markdown",
   "id": "7c3890e2-9cd5-4631-bcba-cf56cb73ae8a",
   "metadata": {
    "jp-MarkdownHeadingCollapsed": true,
    "tags": []
   },
   "source": [
    "## Reference simple intervals"
   ]
  },
  {
   "cell_type": "code",
   "execution_count": null,
   "id": "c74937cf-fb7b-482c-a1dc-a92d52c0bda0",
   "metadata": {
    "tags": []
   },
   "outputs": [],
   "source": [
    "df = pd.DataFrame(index=scenes, columns=[\"acc\", \"median\", \"mean\"])"
   ]
  },
  {
   "cell_type": "code",
   "execution_count": null,
   "id": "cdea568d-6322-4c79-852e-583c1c4a9e6b",
   "metadata": {
    "tags": []
   },
   "outputs": [],
   "source": [
    "for scene in scenes:\n",
    "    print(scene)\n",
    "    dcol, drow = dict_manual[scene][\"dcol\"], dict_manual[scene][\"drow\"]\n",
    "\n",
    "    DSM = rasterio.open(os.path.join(dem_gt_path, scene, \"coregistration/dsm.tif\"))\n",
    "    dsm = DSM.read(1)\n",
    "\n",
    "    GT = rasterio.open(os.path.join(dem_gt_path, scene, \"coregistration/reproj_coreg_REF.tif\"))\n",
    "    gt = GT.read(1)\n",
    "\n",
    "    gt = GT.read(1)\n",
    "    gt = np.pad(gt, ((max(0, drow), max(-drow, 0)),\n",
    "                      (max(0, dcol), max(-dcol, 0))),\n",
    "                constant_values=np.nan)\n",
    "\n",
    "    gt = gt[max(0, -drow):min(gt.shape[0]-drow, gt.shape[0]),\n",
    "            max(0, -dcol):min(gt.shape[1]-dcol, gt.shape[1])]\n",
    "\n",
    "    no_data = np.isnan(dsm)     | (dsm==DSM.nodata) | \\\n",
    "              np.isnan(gt)      | (gt==GT.nodata)\n",
    "\n",
    "    if watermask_dict[scene]:\n",
    "        WATERMASK = rasterio.open(os.path.join(dem_gt_path, scene, \"coregistration/watermask.tif\"))\n",
    "        watermask = WATERMASK.read(1)\n",
    "        no_data |= (watermask>0)\n",
    "\n",
    "    dsm[no_data] = np.nan\n",
    "    gt[no_data] = np.nan\n",
    "    valid_data = ~no_data\n",
    "\n",
    "    altimetric_bias = np.nanmedian(dsm -gt)\n",
    "\n",
    "    gt += altimetric_bias\n",
    "    \n",
    "    with open(os.path.join(cars_path, scene, subfolder[scene], \"content.json\")) as f:\n",
    "        content = json.load(f)[\"applications\"]\n",
    "        r_alt = float(content[list(content.keys())[0]][\"grid_generation_run\"][\"disp_to_alt_ratio\"])\n",
    "\n",
    "    correct_intervals = (gt <= dsm+r_alt) & (gt>=dsm-r_alt)\n",
    "\n",
    "    acc = (correct_intervals)[valid_data].sum() / valid_data.sum()\n",
    "    mean_error = np.nanmean(np.abs(gt-dsm)[valid_data])\n",
    "    median_error = np.nanmedian(np.abs(gt-dsm)[valid_data])\n",
    "    \n",
    "    df.loc[scene, [\"acc\", \"median\", \"mean\"]] = [acc, median_error, mean_error]"
   ]
  },
  {
   "cell_type": "code",
   "execution_count": null,
   "id": "058ad1e4-5b3e-4672-ac7a-a5a64972e39e",
   "metadata": {
    "tags": []
   },
   "outputs": [],
   "source": [
    "df"
   ]
  },
  {
   "cell_type": "code",
   "execution_count": null,
   "id": "02eb72d0-41a7-4098-97a5-8cb520beecb9",
   "metadata": {
    "tags": []
   },
   "outputs": [],
   "source": [
    "df.sort_index(inplace=True)\n",
    "\n",
    "table = \"\"\n",
    "for scene in df.index:\n",
    "    table += f\"\\n{scene.replace('_', ' ')} & \" + f\"{df.loc[scene, 'acc']*100:.1f}\"+r\"$\\%$ & \" + f\"{df.loc[scene, 'median']:.2f} & \" f\"{df.loc[scene, 'mean']:.2f}\"\n",
    "    table += r\"\\\\\\hline\"\n",
    "\n",
    "print(table)"
   ]
  },
  {
   "cell_type": "markdown",
   "id": "5d9bbf0a-5971-417f-89cb-ff1ff983f2a6",
   "metadata": {
    "jp-MarkdownHeadingCollapsed": true,
    "tags": []
   },
   "source": [
    "## Nuth and Kaab"
   ]
  },
  {
   "cell_type": "code",
   "execution_count": null,
   "id": "2bc258b5-9090-4b87-8ce6-728f70c7dd30",
   "metadata": {
    "tags": []
   },
   "outputs": [],
   "source": [
    "scene = \"Paris\""
   ]
  },
  {
   "cell_type": "code",
   "execution_count": null,
   "id": "a390cf77-a6c9-4208-8c8e-bc2ae9daa2d4",
   "metadata": {},
   "outputs": [],
   "source": [
    "acc_opt = 0\n",
    "k_opt, j_opt = 0, 0\n",
    "\n",
    "k_min, k_max = -1, -1\n",
    "j_min, j_max = 4, 4\n",
    "for k in range(k_min,k_max+1):\n",
    "    for j in range(j_min,j_max+1):\n",
    "        dcol, drow = dict_transfo[scene][\"dcol\"]+j, dict_transfo[scene][\"drow\"] + k\n",
    "\n",
    "        DSM = rasterio.open(os.path.join(dem_gt_path, scene, \"coregistration/dsm.tif\"))\n",
    "        dsm = DSM.read(1)\n",
    "\n",
    "        DSM_INF = rasterio.open(os.path.join(dem_gt_path, scene, \"coregistration/dsm_inf.tif\"))\n",
    "        dsm_inf = DSM_INF.read(1)\n",
    "\n",
    "        DSM_SUP = rasterio.open(os.path.join(dem_gt_path, scene, \"coregistration/dsm_sup.tif\"))\n",
    "        dsm_sup = DSM_SUP.read(1)\n",
    "\n",
    "\n",
    "        GT = rasterio.open(os.path.join(dem_gt_path, scene, \"coregistration/reproj_coreg_REF.tif\"))\n",
    "        gt = GT.read(1)\n",
    "\n",
    "        gt = np.pad(gt, ((max(0, drow), max(-drow, 0)),\n",
    "                          (max(0, dcol), max(-dcol, 0))),\n",
    "                    constant_values=np.nan)\n",
    "\n",
    "        gt = gt[max(0, -drow):min(gt.shape[0]-drow, gt.shape[0]),\n",
    "                max(0, -dcol):min(gt.shape[1]-dcol, gt.shape[1])]\n",
    "\n",
    "\n",
    "        no_data = np.isnan(dsm)     | (dsm==DSM.nodata)         | \\\n",
    "                  np.isnan(gt)      | (gt==GT.nodata)           | \\\n",
    "                  np.isnan(dsm_inf) | (dsm_inf==DSM_INF.nodata) | \\\n",
    "                  np.isnan(dsm_sup) | (dsm_sup==DSM_SUP.nodata)\n",
    "\n",
    "        if watermask_dict[scene]:\n",
    "            #print(\"Using a watermask\")\n",
    "            WATERMASK = rasterio.open(os.path.join(dem_gt_path, scene, \"coregistration/watermask.tif\"))\n",
    "            watermask = WATERMASK.read(1)\n",
    "            no_data |= (watermask>0)\n",
    "\n",
    "        dsm[no_data] = np.nan\n",
    "        dsm_inf[no_data] = np.nan\n",
    "        dsm_sup[no_data] = np.nan\n",
    "\n",
    "        gt[no_data] = np.nan\n",
    "        valid_data = ~no_data\n",
    "\n",
    "\n",
    "        altimetric_bias = np.nanmedian(dsm -gt)\n",
    "        gt += altimetric_bias\n",
    "\n",
    "        correct_intervals = (gt <= dsm_sup) & (gt>=dsm_inf)\n",
    "        correct_intervals[no_data] = np.nan\n",
    "\n",
    "        acc = (correct_intervals)[valid_data].sum() / (valid_data).sum()\n",
    "        if acc > acc_opt:\n",
    "            acc_opt = acc\n",
    "            k_opt, j_opt = k, j\n",
    "        print(f\"{k} | {j}  ||  acc: {acc*100:.3f}\")\n",
    "\n",
    "print(f\"\\n {k_opt} | {j_opt}  ||  acc_opt: {acc_opt*100:.3f}\")\n"
   ]
  },
  {
   "cell_type": "code",
   "execution_count": null,
   "id": "b1eaf452-2b41-42f2-a806-e256954c12eb",
   "metadata": {
    "tags": []
   },
   "outputs": [],
   "source": [
    "fig, ax = plt.subplots(1,2, figsize=(10, 5))\n",
    "cb = ax[0].imshow(dsm-gt, vmin=-1, vmax=1, cmap=\"Spectral\")\n",
    "fig.colorbar(cb)\n",
    "\n",
    "ax[1].imshow(gt)\n"
   ]
  },
  {
   "cell_type": "code",
   "execution_count": null,
   "id": "56edb048-a043-4398-96fb-0c5848e6b29f",
   "metadata": {
    "tags": []
   },
   "outputs": [],
   "source": [
    "top, bottom = 2000, 2500\n",
    "left, right = 2000, 2500\n",
    "\n",
    "fig, ax = plt.subplots(1, 1, figsize=(10,10))\n",
    "\n",
    "cb = ax.imshow((dsm-gt)[top:bottom+1, left:right+1],\n",
    "               vmin=-3, vmax=3, cmap=\"Spectral\",\n",
    "               extent=(left, right, bottom, top))\n",
    "fig.colorbar(cb)"
   ]
  },
  {
   "cell_type": "code",
   "execution_count": null,
   "id": "7944bff6-83e5-4be6-82c9-3d32e50cd47a",
   "metadata": {
    "tags": []
   },
   "outputs": [],
   "source": [
    "slope = compute_slope(gt)\n",
    "with rasterio.Env():\n",
    "    profile = DSM.profile\n",
    "    tmp = slope\n",
    "    tmp[np.isnan(tmp)] = DSM.nodata\n",
    "    with rasterio.open('slope.tif', 'w', **profile) as dst:\n",
    "        dst.write(tmp.astype(np.float32), 1)"
   ]
  },
  {
   "cell_type": "code",
   "execution_count": null,
   "id": "737b2c90-0673-449b-b243-bf9fa6101be9",
   "metadata": {
    "tags": []
   },
   "outputs": [],
   "source": [
    "slope_dsm = compute_slope(dsm)\n",
    "with rasterio.Env():\n",
    "    profile = DSM.profile\n",
    "    tmp = slope_dsm\n",
    "    tmp[np.isnan(tmp)] = DSM.nodata\n",
    "    with rasterio.open('slope_dsm.tif', 'w', **profile) as dst:\n",
    "        dst.write(tmp.astype(np.float32), 1)"
   ]
  },
  {
   "cell_type": "markdown",
   "id": "76ae6b24-12b9-4256-be62-c9000ffc2a3f",
   "metadata": {},
   "source": [
    "# Plots"
   ]
  },
  {
   "cell_type": "markdown",
   "id": "68344b34-0707-4653-9604-ab58ce2a4f05",
   "metadata": {
    "jp-MarkdownHeadingCollapsed": true,
    "tags": []
   },
   "source": [
    "## Toulouse"
   ]
  },
  {
   "cell_type": "code",
   "execution_count": null,
   "id": "c5ef3aab-90bd-4208-80f2-83321b9c8bf1",
   "metadata": {
    "tags": []
   },
   "outputs": [],
   "source": [
    "scene = \"Toulouse\""
   ]
  },
  {
   "cell_type": "code",
   "execution_count": null,
   "id": "b17e78cb-e3b0-43fa-83dc-c304a5585bcd",
   "metadata": {
    "tags": []
   },
   "outputs": [],
   "source": [
    "dcol, drow = dict_transfo[scene][\"dcol\"], dict_transfo[scene][\"drow\"]\n",
    "\n",
    "DSM = rasterio.open(os.path.join(dem_gt_path, scene, \"coregistration/dsm.tif\"))\n",
    "dsm = DSM.read(1)\n",
    "\n",
    "GT = rasterio.open(os.path.join(dem_gt_path, scene, \"coregistration/reproj_coreg_REF.tif\"))\n",
    "gt = GT.read(1)\n",
    "\n",
    "DSM_INF = rasterio.open(os.path.join(dem_gt_path, scene, \"coregistration/dsm_inf.tif\"))\n",
    "dsm_inf = DSM_INF.read(1)\n",
    "\n",
    "DSM_SUP = rasterio.open(os.path.join(dem_gt_path, scene, \"coregistration/dsm_sup.tif\"))\n",
    "dsm_sup = DSM_SUP.read(1)\n",
    "\n",
    "\n",
    "CLR = rasterio.open(os.path.join(dem_gt_path, scene, \"coregistration/clr.tif\"))\n",
    "clr = CLR.read([1,2,3,4])\n",
    "\n",
    "gt = GT.read(1)\n",
    "gt = np.pad(gt, ((max(0, drow), max(-drow, 0)),\n",
    "                  (max(0, dcol), max(-dcol, 0))),\n",
    "            constant_values=np.nan)\n",
    "\n",
    "gt = gt[max(0, -drow):min(gt.shape[0]-drow, gt.shape[0]),\n",
    "        max(0, -dcol):min(gt.shape[1]-dcol, gt.shape[1])]\n",
    "\n",
    "no_data = np.isnan(dsm)     | (dsm==DSM.nodata) | \\\n",
    "          np.isnan(gt)      | (gt==GT.nodata)  | \\\n",
    "          np.isnan(dsm_inf) | (dsm_inf==DSM_INF.nodata) |\\\n",
    "          np.isnan(dsm_sup) | (dsm_sup==DSM_SUP.nodata)\n",
    "\n",
    "with open(os.path.join(cars_path, scene, subfolder[scene], \"content.json\")) as f:\n",
    "    content = json.load(f)[\"applications\"]\n",
    "    for key in content.keys():\n",
    "        try:\n",
    "            r_alt = content[key][\"grid_generation_run\"][\"disp_to_alt_ratio\"]\n",
    "            print(f\"Disp to alt ratio: {r_alt:.3f} m/disp\")\n",
    "        except KeyError:\n",
    "            pass\n",
    "\n",
    "if watermask_dict[scene]:\n",
    "    print(\"Using a watermask\")\n",
    "    WATERMASK = rasterio.open(os.path.join(dem_gt_path, scene, \"coregistration/watermask.tif\"))\n",
    "    watermask = WATERMASK.read(1)\n",
    "    no_data |= (watermask>0)\n",
    "\n",
    "    \n",
    "slope = compute_slope(gt)\n",
    "\n",
    "ndvi = (clr[3, :, :]-clr[0, :, :])/ (clr[3, :, :]+clr[0, :, :])\n",
    "clr_img = normalize_for_imshow(clr)\n",
    "clr_img[np.isnan(clr_img)] = 1\n",
    "clr_img = np.round(clr_img*255).astype(np.uint8)\n",
    "\n",
    "\n",
    "dsm[no_data] = np.nan\n",
    "dsm_inf[no_data] = np.nan\n",
    "dsm_sup[no_data] = np.nan\n",
    "gt[no_data] = np.nan\n",
    "valid_data = ~no_data\n",
    "clr[:, no_data] = np.nan\n",
    "\n",
    "\n",
    "altimetric_bias = np.nanmedian(dsm -gt)\n",
    "print(f\"Altimetric bias: {altimetric_bias:.2f}m\")\n",
    "gt += altimetric_bias\n",
    "\n",
    "print(f\"Percentage of invalid data: {100*no_data.sum() / no_data.size:.0f}%\")"
   ]
  },
  {
   "cell_type": "code",
   "execution_count": null,
   "id": "341b8691-5b9d-4e9a-bd2c-0a4a70e2e03a",
   "metadata": {
    "tags": []
   },
   "outputs": [],
   "source": [
    "correct_intervals = (gt <= dsm_sup) & (gt>=dsm_inf)\n",
    "correct_intervals[ndvi>=0.7] = True\n",
    "correct_intervals[no_data] = np.nan\n",
    "\n",
    "acc = (correct_intervals)[valid_data].sum() / (valid_data).sum()\n",
    "eps = np.nanmedian(np.minimum(np.abs(dsm_sup-gt)[valid_data & (~correct_intervals)], np.abs(gt-dsm_inf)[valid_data & (~correct_intervals)])) / r_alt\n",
    "s_rel = 1/r_alt*np.nanmedian((dsm_sup-dsm_inf)[valid_data])\n",
    "o_rel = 1 - np.nanmedian(np.maximum(np.abs(gt-dsm)[valid_data & correct_intervals], r_alt)/(dsm_sup-dsm_inf)[valid_data & correct_intervals])\n",
    "\n",
    "print(f\"acc: {acc*100:.1f}\")\n",
    "print(f\"eps: {eps:.1f}\")\n",
    "print(f\"s_rel: {s_rel:.1f}\")\n",
    "print(f\"o_rel: {o_rel*100:.1f}\")"
   ]
  },
  {
   "cell_type": "code",
   "execution_count": null,
   "id": "a9196399-7215-4eab-a9b5-b04a33618fde",
   "metadata": {
    "tags": []
   },
   "outputs": [],
   "source": [
    "with rasterio.Env():\n",
    "    profile = DSM.profile\n",
    "    tmp = correct_intervals\n",
    "    tmp[np.isnan(tmp)] = DSM.nodata\n",
    "    with rasterio.open('tmp.tif', 'w', **profile) as dst:\n",
    "        dst.write(tmp.astype(np.float32), 1)"
   ]
  },
  {
   "cell_type": "code",
   "execution_count": null,
   "id": "f37cca84-bd3f-4edd-9c90-f489d56d99f3",
   "metadata": {
    "tags": []
   },
   "outputs": [],
   "source": [
    "fig, axes = plt.subplots(1, 2, figsize=(12, 6))\n",
    "\n",
    "axes[0].imshow(dsm[::20, ::20], extent=(0, dsm.shape[1], dsm.shape[0], 0))\n",
    "axes[1].imshow(correct_intervals, extent=(0, dsm.shape[1], dsm.shape[0], 0))"
   ]
  },
  {
   "cell_type": "code",
   "execution_count": null,
   "id": "632f8056-ea38-4fe7-a803-267120596d8b",
   "metadata": {
    "tags": []
   },
   "outputs": [],
   "source": [
    "top, bottom = 3750, 3950\n",
    "left, right = 7610, 7810\n",
    "\n",
    "fig, axes = plt.subplots(1, 2, figsize=(10, 10))\n",
    "\n",
    "axes[0].imshow(correct_intervals[top:bottom+1, left:right+1],\n",
    "               vmin=0,\n",
    "               vmax=1,\n",
    "               extent=(left, right, bottom, top))\n",
    "\n",
    "axes[1].imshow(gt[top:bottom+1, left:right+1],\n",
    "               vmin=np.nanquantile(gt[top:bottom+1, left:right+1], 0.05),\n",
    "               vmax=np.nanquantile(gt[top:bottom+1, left:right+1], 0.95),\n",
    "               extent=(left, right, bottom, top))\n"
   ]
  },
  {
   "cell_type": "code",
   "execution_count": null,
   "id": "bb967968-0ee7-432e-b690-0a089ca524da",
   "metadata": {},
   "outputs": [],
   "source": [
    "GT_false = rasterio.open(os.path.join(dem_gt_path, scene, \"coregistration/reproj_REF.tif\"))\n",
    "gt_false = GT_false.read(1)\n",
    "gt_false[gt_false==GT_false.nodata] = np.nan"
   ]
  },
  {
   "cell_type": "code",
   "execution_count": null,
   "id": "5d0bb14a-c51f-4569-a632-25ae12241266",
   "metadata": {
    "tags": []
   },
   "outputs": [],
   "source": [
    "# Toulouse\n",
    "\n",
    "top, bottom = 3750, 3950\n",
    "left, right = 7610, 7810\n",
    "\n",
    "ref_points = [(7647, 3815), (7715, 3773), (7682, 3900), (7785, 3895)]\n",
    "\n",
    "\n",
    "fig, axes = plt.subplots(1, 1, figsize=(5, 5))\n",
    "axes.imshow(dsm[top:bottom+1, left:right+1],\n",
    "               vmin=np.nanquantile(dsm[top:bottom+1, left:right+1], 0.05),\n",
    "               vmax=np.nanquantile(dsm[top:bottom+1, left:right+1], 0.95),\n",
    "               extent=(left, right, bottom, top), cmap=\"gray\")\n",
    "\n",
    "\n",
    "for point in ref_points:\n",
    "    axes.plot([point[0], point[0]], [point[1]-5, point[1]+5], linewidth=3, color=orange)\n",
    "    axes.plot([point[0]-5, point[0]+5], [point[1], point[1]], linewidth=3, color=orange)\n",
    "    axes.arrow(point[0], point[1], drow, dcol, head_width=6, head_length=6, linewidth=3, color=\"w\", length_includes_head=True)\n",
    "    axes.arrow(point[0], point[1], drow, dcol, head_width=5, head_length=5, linewidth=1, color=blue, length_includes_head=True)\n",
    "\n",
    "axes.axis(\"off\")\n",
    "\n",
    "plt.savefig(os.path.join(out_path, f\"coregisration_planimetric_shift_cars_toulouse.png\"), dpi=250, bbox_inches='tight')\n",
    "crop_img(os.path.join(out_path, f\"coregisration_planimetric_shift_cars_toulouse.png\"))\n",
    "\n",
    "fig, axes = plt.subplots(1, 1, figsize=(5, 5))\n",
    "axes.imshow(gt_false[top:bottom+1, left:right+1],\n",
    "               vmin=np.nanquantile(gt_false[top:bottom+1, left:right+1], 0.05),\n",
    "               vmax=np.nanquantile(gt_false[top:bottom+1, left:right+1], 0.95),\n",
    "               extent=(left, right, bottom, top), cmap=\"gray\")\n",
    "\n",
    "for point in ref_points:\n",
    "    axes.plot([point[0], point[0]], [point[1]-5, point[1]+5], linewidth=3, color=orange)\n",
    "    axes.plot([point[0]-5, point[0]+5], [point[1], point[1]], linewidth=3, color=orange)\n",
    "\n",
    "axes.axis(\"off\")\n",
    "plt.savefig(os.path.join(out_path, f\"coregisration_planimetric_shift_gt_toulouse.png\"), dpi=250, bbox_inches='tight')\n",
    "crop_img(os.path.join(out_path, f\"coregisration_planimetric_shift_gt_toulouse.png\"))"
   ]
  },
  {
   "cell_type": "code",
   "execution_count": null,
   "id": "d4c0fa2c-daf9-4ab7-917a-ca3d28f3430b",
   "metadata": {
    "tags": []
   },
   "outputs": [],
   "source": [
    "# Toulouse\n",
    "row = 4500\n",
    "col_inf, col_sup = 3400, 3800\n",
    "\n",
    "fig = plt.figure(figsize=(12, 5))\n",
    "ax = fig.add_subplot(111)\n",
    "\n",
    "ax.plot(np.arange(col_inf, col_sup), gt[row, col_inf:col_sup]-altimetric_bias, color=blue, label=r\"\\(\\mathrm{DSM_{true}}\\)\", linewidth=2.5)\n",
    "ax.plot(np.arange(col_inf, col_sup), gt[row, col_inf:col_sup], color=blue, label=r\"\\(\\mathrm{DSM_{true}}+\\tilde{dh}\\)\", linestyle=\":\", linewidth=2.5)\n",
    "ax.plot(np.arange(col_inf, col_sup), dsm[row, col_inf:col_sup], color=orange, label=r\"\\(\\mathrm{DSM}\\)\", linewidth=2, alpha=0.7)\n",
    "\n",
    "ax.arrow(3490, 133, 0, altimetric_bias-5, head_width=5, head_length=4, linewidth=1, color=blue, length_includes_head=True)\n",
    "ax.text(3475, 150, r\"\\(\\tilde{dh}\\)\")\n",
    "\n",
    "ax.set_ylabel(\"\\(\\mathrm{Elevation~ (m)}\\)\")\n",
    "ax.set_xlabel(\"\\(\\mathrm{Columns}\\)\")\n",
    "\n",
    "ax.set_xlim([col_inf, col_sup-1])\n",
    "ax.grid(True)\n",
    "\n",
    "ax.legend(loc=(0.005, 0.68), framealpha=1)\n",
    "\n",
    "plt.savefig(os.path.join(out_path, f\"coregisration_altimetric_shift_toulouse.png\"), dpi=250, bbox_inches='tight')\n",
    "crop_img(os.path.join(out_path, f\"coregisration_altimetric_shift_toulouse.png\"))"
   ]
  },
  {
   "cell_type": "markdown",
   "id": "39b1a549-d7ee-4c0a-9d68-2df633a5f159",
   "metadata": {
    "jp-MarkdownHeadingCollapsed": true,
    "tags": []
   },
   "source": [
    "## Paris"
   ]
  },
  {
   "cell_type": "code",
   "execution_count": null,
   "id": "85d1b412-b1c6-49ea-b8a4-98e5074126ca",
   "metadata": {
    "tags": []
   },
   "outputs": [],
   "source": [
    "scene = \"Paris\""
   ]
  },
  {
   "cell_type": "code",
   "execution_count": null,
   "id": "11f4d7e9-da97-481b-a38f-41716983c95d",
   "metadata": {
    "tags": []
   },
   "outputs": [],
   "source": [
    "dcol, drow = dict_transfo[scene][\"dcol\"], dict_transfo[scene][\"drow\"]\n",
    "\n",
    "DSM = rasterio.open(os.path.join(dem_gt_path, scene, \"coregistration/dsm.tif\"))\n",
    "dsm = DSM.read(1)\n",
    "\n",
    "GT = rasterio.open(os.path.join(dem_gt_path, scene, \"coregistration/reproj_coreg_REF.tif\"))\n",
    "gt = GT.read(1)\n",
    "\n",
    "DSM_INF = rasterio.open(os.path.join(dem_gt_path, scene, \"coregistration/dsm_inf.tif\"))\n",
    "dsm_inf = DSM_INF.read(1)\n",
    "\n",
    "DSM_SUP = rasterio.open(os.path.join(dem_gt_path, scene, \"coregistration/dsm_sup.tif\"))\n",
    "dsm_sup = DSM_SUP.read(1)\n",
    "\n",
    "\n",
    "CLR = rasterio.open(os.path.join(dem_gt_path, scene, \"coregistration/clr.tif\"))\n",
    "clr = CLR.read([1,2,3,4])\n",
    "\n",
    "gt = GT.read(1)\n",
    "gt = np.pad(gt, ((max(0, drow), max(-drow, 0)),\n",
    "                  (max(0, dcol), max(-dcol, 0))),\n",
    "            constant_values=np.nan)\n",
    "\n",
    "gt = gt[max(0, -drow):min(gt.shape[0]-drow, gt.shape[0]),\n",
    "        max(0, -dcol):min(gt.shape[1]-dcol, gt.shape[1])]\n",
    "\n",
    "no_data = np.isnan(dsm)     | (dsm==DSM.nodata) | \\\n",
    "          np.isnan(gt)      | (gt==GT.nodata)  | \\\n",
    "          np.isnan(dsm_inf) | (dsm_inf==DSM_INF.nodata) |\\\n",
    "          np.isnan(dsm_sup) | (dsm_sup==DSM_SUP.nodata)\n",
    "\n",
    "with open(os.path.join(cars_path, scene, subfolder[scene], \"content.json\")) as f:\n",
    "    content = json.load(f)[\"applications\"]\n",
    "    for key in content.keys():\n",
    "        try:\n",
    "            r_alt = content[key][\"grid_generation_run\"][\"disp_to_alt_ratio\"]\n",
    "            print(f\"Disp to alt ratio: {r_alt:.3f} m/disp\")\n",
    "        except KeyError:\n",
    "            pass\n",
    "\n",
    "if watermask_dict[scene]:\n",
    "    print(\"Using a watermask\")\n",
    "    WATERMASK = rasterio.open(os.path.join(dem_gt_path, scene, \"coregistration/watermask.tif\"))\n",
    "    watermask = WATERMASK.read(1)\n",
    "    no_data |= (watermask>0)\n",
    "\n",
    "    \n",
    "slope = compute_slope(gt)\n",
    "\n",
    "ndvi = (clr[3, :, :]-clr[0, :, :])/ (clr[3, :, :]+clr[0, :, :])\n",
    "\n",
    "dsm[no_data] = np.nan\n",
    "dsm_inf[no_data] = np.nan\n",
    "dsm_sup[no_data] = np.nan\n",
    "gt[no_data] = np.nan\n",
    "valid_data = ~no_data\n",
    "clr[:, no_data] = np.nan\n",
    "\n",
    "\n",
    "altimetric_bias = np.nanmedian(dsm -gt)\n",
    "print(f\"Altimetric bias: {altimetric_bias:.2f}m\")\n",
    "gt += altimetric_bias\n",
    "\n",
    "print(f\"Percentage of invalid data: {100*no_data.sum() / no_data.size:.0f}%\")"
   ]
  },
  {
   "cell_type": "code",
   "execution_count": null,
   "id": "80a2b06a-d655-4a56-9c1a-d26ab3b1e1e5",
   "metadata": {
    "tags": []
   },
   "outputs": [],
   "source": [
    "correct_intervals = (gt <= dsm_sup) & (gt>=dsm_inf)\n",
    "correct_intervals[ndvi>=0.7] = True\n",
    "correct_intervals[no_data] = np.nan\n",
    "\n",
    "acc = (correct_intervals)[valid_data].sum() / (valid_data).sum()\n",
    "eps = np.nanmedian(np.minimum(np.abs(dsm_sup-gt)[valid_data & (~correct_intervals)], np.abs(gt-dsm_inf)[valid_data & (~correct_intervals)])) / r_alt\n",
    "s_rel = 1/r_alt*np.nanmedian((dsm_sup-dsm_inf)[valid_data])\n",
    "o_rel = 1 - np.nanmedian(np.maximum(np.abs(gt-dsm)[valid_data & correct_intervals], r_alt)/(dsm_sup-dsm_inf)[valid_data & correct_intervals])\n",
    "\n",
    "print(f\"acc: {acc*100:.1f}\")\n",
    "print(f\"eps: {eps:.1f}\")\n",
    "print(f\"s_rel: {s_rel:.1f}\")\n",
    "print(f\"o_rel: {o_rel*100:.1f}\")"
   ]
  },
  {
   "cell_type": "code",
   "execution_count": null,
   "id": "3244f5cd-26f4-49db-9bec-769c760dd040",
   "metadata": {
    "tags": []
   },
   "outputs": [],
   "source": [
    "with rasterio.Env():\n",
    "    profile = DSM.profile\n",
    "    tmp = correct_intervals\n",
    "    tmp[np.isnan(tmp)] = DSM.nodata\n",
    "    with rasterio.open('tmp.tif', 'w', **profile) as dst:\n",
    "        dst.write(tmp.astype(np.float32), 1)"
   ]
  },
  {
   "cell_type": "code",
   "execution_count": null,
   "id": "7bf3e04a-e0dc-4e1b-b4f1-7ab2277d1691",
   "metadata": {
    "tags": []
   },
   "outputs": [],
   "source": [
    "fig, axes = plt.subplots(1, 2, figsize=(12, 6))\n",
    "\n",
    "axes[0].imshow(dsm[::20, ::20], extent=(0, dsm.shape[1], dsm.shape[0], 0))\n",
    "axes[1].imshow(correct_intervals, extent=(0, dsm.shape[1], dsm.shape[0], 0))"
   ]
  },
  {
   "cell_type": "code",
   "execution_count": null,
   "id": "b41f8768-8a37-4c6f-a9c8-c58157f00184",
   "metadata": {
    "tags": []
   },
   "outputs": [],
   "source": [
    "dsm.shape"
   ]
  },
  {
   "cell_type": "code",
   "execution_count": null,
   "id": "9a8cf94f-359a-4ab9-ab1f-bf0b1c06283c",
   "metadata": {
    "tags": []
   },
   "outputs": [],
   "source": [
    "top, bottom = 1500, 2250\n",
    "left, right = 3750, 4500\n",
    "\n",
    "fig, axes = plt.subplots(1, 2, figsize=(10, 10))\n",
    "\n",
    "axes[0].imshow(correct_intervals[top:bottom+1, left:right+1],\n",
    "               vmin=0,\n",
    "               vmax=1,\n",
    "               extent=(left, right, bottom, top))\n",
    "\n",
    "axes[1].imshow(gt[top:bottom+1, left:right+1],\n",
    "               vmin=np.nanquantile(gt[top:bottom+1, left:right+1], 0.05),\n",
    "               vmax=np.nanquantile(gt[top:bottom+1, left:right+1], 0.95),\n",
    "               extent=(left, right, bottom, top))\n"
   ]
  },
  {
   "cell_type": "code",
   "execution_count": null,
   "id": "d9460171-ae26-4cb4-a125-5e39e865a75a",
   "metadata": {},
   "outputs": [],
   "source": [
    "# Paris\n",
    "row = 1875\n",
    "col_inf, col_sup = 4100, 4480\n",
    "\n",
    "fig = plt.figure(figsize=(12, 5))\n",
    "ax = fig.add_subplot(111)\n",
    "\n",
    "ax.plot(np.arange(col_inf, col_sup), dsm_inf[row, col_inf:col_sup], color=orange, linestyle=\"--\", label=r\"\\(\\underline{\\mathrm{DSM}},~\\overline{\\mathrm{DSM}}\\)\", linewidth=2, alpha=0.7)\n",
    "ax.plot(np.arange(col_inf, col_sup), dsm_sup[row, col_inf:col_sup], color=orange, linestyle=\"--\", linewidth=2, alpha=0.7)\n",
    "\n",
    "ax.plot(np.arange(col_inf, col_sup), dsm[row, col_inf:col_sup], color=orange, label=r\"\\(\\mathrm{DSM}\\)\", linewidth=2, alpha=0.7)\n",
    "ax.plot(np.arange(col_inf, col_sup), gt[row, col_inf:col_sup], color=blue, label=r\"\\(\\mathrm{DSM_{true}}\\)\", linewidth=2.5)\n",
    "\n",
    "ax.set_ylabel(\"\\(\\mathrm{Elevation~ (m)}\\)\")\n",
    "ax.set_xlabel(\"\\(\\mathrm{Columns}\\)\")\n",
    "\n",
    "ax.set_xlim([col_inf, col_sup-1])\n",
    "ax.grid(True)\n",
    "\n",
    "ax.legend(framealpha=1)\n",
    "\n",
    "plt.savefig(os.path.join(out_path, f\"paris_error_tree.png\"), dpi=250, bbox_inches='tight')\n",
    "crop_img(os.path.join(out_path, f\"paris_error_tree.png\"))\n",
    "\n",
    "top, bottom = row-50, row+50\n",
    "left, right = col_inf, col_sup\n",
    "\n",
    "fig, ax = plt.subplots(1, 1, figsize=(10, 3))\n",
    "\n",
    "ax.imshow(clr_img[top:bottom+1, left:right+1, 0:3],\n",
    "               vmin=0,\n",
    "               vmax=1,\n",
    "               extent=(left, right, bottom, top))\n",
    "ax.axes.get_yaxis().set_visible(False)\n",
    "ax.plot([col_inf, col_sup], [row, row], color=orange)\n",
    "\n",
    "plt.savefig(os.path.join(out_path, f\"paris_error_tree_clr.png\"), dpi=250, bbox_inches='tight')\n",
    "crop_img(os.path.join(out_path, f\"paris_error_tree_clr.png\"))\n",
    "\n",
    "fig, ax = plt.subplots(1, 1, figsize=(10, 3))\n",
    "ax.imshow(gt[top:bottom+1, left:right+1],\n",
    "               vmin=np.nanquantile(gt[top:bottom+1, left:right+1], 0.05),\n",
    "               vmax=np.nanquantile(gt[top:bottom+1, left:right+1], 0.95),\n",
    "               extent=(left, right, bottom, top), cmap=\"gray\")\n",
    "ax.plot([col_inf, col_sup], [row, row], color=orange)\n",
    "\n",
    "ax.axes.get_yaxis().set_visible(False)\n",
    "\n",
    "\n",
    "plt.savefig(os.path.join(out_path, f\"paris_error_tree_gt.png\"), dpi=250, bbox_inches='tight')\n",
    "crop_img(os.path.join(out_path, f\"paris_error_tree_gt.png\"))"
   ]
  },
  {
   "cell_type": "markdown",
   "id": "51cb3047-9ecd-41f5-a502-f01e6b97e2d7",
   "metadata": {
    "tags": []
   },
   "source": [
    "## Monaco"
   ]
  },
  {
   "cell_type": "code",
   "execution_count": null,
   "id": "5d8958ef-4464-4760-9c4e-4224064114a1",
   "metadata": {
    "tags": []
   },
   "outputs": [],
   "source": [
    "scene = \"Monaco\""
   ]
  },
  {
   "cell_type": "code",
   "execution_count": null,
   "id": "fcfb7815-421b-47a3-bd89-13469c4bfa71",
   "metadata": {
    "tags": []
   },
   "outputs": [],
   "source": [
    "dcol, drow = dict_manual[scene][\"dcol\"], dict_manual[scene][\"drow\"]\n",
    "\n",
    "DSM = rasterio.open(os.path.join(dem_gt_path, scene, \"coregistration/dsm.tif\"))\n",
    "dsm = DSM.read(1)\n",
    "\n",
    "GT = rasterio.open(os.path.join(dem_gt_path, scene, \"coregistration/reproj_coreg_REF.tif\"))\n",
    "gt = GT.read(1)\n",
    "\n",
    "DSM_INF = rasterio.open(os.path.join(dem_gt_path, scene, \"coregistration/dsm_inf.tif\"))\n",
    "dsm_inf = DSM_INF.read(1)\n",
    "\n",
    "DSM_SUP = rasterio.open(os.path.join(dem_gt_path, scene, \"coregistration/dsm_sup.tif\"))\n",
    "dsm_sup = DSM_SUP.read(1)\n",
    "\n",
    "\n",
    "CLR = rasterio.open(os.path.join(dem_gt_path, scene, \"coregistration/clr.tif\"))\n",
    "clr = CLR.read([1,2,3,4])\n",
    "\n",
    "gt = GT.read(1)\n",
    "gt = np.pad(gt, ((max(0, drow), max(-drow, 0)),\n",
    "                  (max(0, dcol), max(-dcol, 0))),\n",
    "            constant_values=np.nan)\n",
    "\n",
    "gt = gt[max(0, -drow):min(gt.shape[0]-drow, gt.shape[0]),\n",
    "        max(0, -dcol):min(gt.shape[1]-dcol, gt.shape[1])]\n",
    "\n",
    "custom_mask = np.zeros(dsm.shape, dtype=np.bool_)\n",
    "#custom_mask[250:1500, 1180:1700] = True\n",
    "\n",
    "no_data = np.isnan(dsm)     | (dsm==DSM.nodata) | \\\n",
    "          np.isnan(gt)      | (gt==GT.nodata)  | \\\n",
    "          np.isnan(dsm_inf) | (dsm_inf==DSM_INF.nodata) |\\\n",
    "          np.isnan(dsm_sup) | (dsm_sup==DSM_SUP.nodata) | custom_mask\n",
    "\n",
    "with open(os.path.join(cars_path, scene, subfolder[scene], \"content.json\")) as f:\n",
    "    content = json.load(f)[\"applications\"]\n",
    "    for key in content.keys():\n",
    "        try:\n",
    "            r_alt = content[key][\"grid_generation_run\"][\"disp_to_alt_ratio\"]\n",
    "            print(f\"Disp to alt ratio: {r_alt:.3f} m/disp\")\n",
    "        except KeyError:\n",
    "            pass\n",
    "\n",
    "if watermask_dict[scene]:\n",
    "    print(\"Using a watermask\")\n",
    "    WATERMASK = rasterio.open(os.path.join(dem_gt_path, scene, \"coregistration/watermask.tif\"))\n",
    "    watermask = WATERMASK.read(1)\n",
    "    no_data |= (watermask>0)\n",
    "\n",
    "    \n",
    "slope = compute_slope(gt)\n",
    "\n",
    "dsm[no_data] = np.nan\n",
    "dsm_inf[no_data] = np.nan\n",
    "dsm_sup[no_data] = np.nan\n",
    "#gt[no_data] = np.nan\n",
    "valid_data = ~no_data\n",
    "clr[:, no_data] = np.nan\n",
    "\n",
    "altimetric_bias = np.nanmedian(dsm -gt)\n",
    "print(f\"Altimetric bias: {altimetric_bias:.2f}m\")\n",
    "gt += altimetric_bias\n",
    "\n",
    "print(f\"Percentage of invalid data: {100*no_data.sum() / no_data.size:.1f}%\")"
   ]
  },
  {
   "cell_type": "code",
   "execution_count": null,
   "id": "f1f2dadf-5d81-42e8-b745-d7a50b2bb4a4",
   "metadata": {
    "tags": []
   },
   "outputs": [],
   "source": [
    "(1500-250)*(1700-1180)/valid_data.sum()"
   ]
  },
  {
   "cell_type": "code",
   "execution_count": null,
   "id": "bfd2bf2f-6b5e-4a9d-b250-1d2ba44be60d",
   "metadata": {
    "tags": []
   },
   "outputs": [],
   "source": [
    "correct_intervals = (gt <= dsm_sup) & (gt>=dsm_inf)\n",
    "correct_intervals[no_data] = np.nan\n",
    "\n",
    "error = (dsm-gt)"
   ]
  },
  {
   "cell_type": "code",
   "execution_count": null,
   "id": "11052eb0-5554-428f-b3ad-bd9f3ac2c632",
   "metadata": {
    "tags": []
   },
   "outputs": [],
   "source": [
    "fig, axes = plt.subplots(1, 1, figsize=(6, 6))\n",
    "cs = axes.imshow((dsm-gt)[0::5, 0::5], extent=(0, dsm.shape[1], dsm.shape[0], 0), cmap=\"bwr\", vmin=-3, vmax=3)\n",
    "axes.axis(\"off\")\n",
    "cbar = fig.colorbar(cs, shrink=0.5)\n",
    "\n",
    "plt.savefig(os.path.join(out_path, f\"{scene}_errors.png\"), dpi=250, bbox_inches='tight')\n",
    "crop_img(os.path.join(out_path, f\"{scene}_errors.png\"))\n",
    "\n",
    "fig, axes = plt.subplots(1, 1, figsize=(6, 6))\n",
    "axes.axis(\"off\")\n",
    "axes.imshow(1-correct_intervals.astype(float), extent=(0, dsm.shape[1], dsm.shape[0], 0), cmap=\"bwr\", vmin=-1, vmax=1)\n",
    "\n",
    "plt.savefig(os.path.join(out_path, f\"{scene}_wrong_intervals.png\"), dpi=250, bbox_inches='tight')\n",
    "crop_img(os.path.join(out_path, f\"{scene}_wrong_intervals.png\"))"
   ]
  },
  {
   "cell_type": "code",
   "execution_count": null,
   "id": "c334a7aa-be77-44fb-a83a-876f4c331aff",
   "metadata": {
    "tags": []
   },
   "outputs": [],
   "source": [
    "from rasterio import warp\n",
    "color_name = [k for k in os.listdir(os.path.join(\"/work/CAMPUS/etudes/3D/Development/malinoro/Pleiades\", scene, \"ortho_image\")) if \".TIF\"==k[-4:]][0]\n",
    "COLOR = rasterio.open(os.path.join(\"/work/CAMPUS/etudes/3D/Development/malinoro/Pleiades\", scene, \"ortho_image\", color_name))\n",
    "bounds = DSM.bounds\n",
    "\n",
    "bounds_warp = warp.transform_bounds(DSM.crs, COLOR.crs, bounds.left, bounds.bottom, bounds.right, bounds.top) \n",
    "\n",
    "color = COLOR.read([1,2,3], window=rasterio.windows.from_bounds(*bounds_warp, COLOR.transform))\n",
    "\n",
    "clr_normalized = normalize_for_imshow(color)"
   ]
  },
  {
   "cell_type": "code",
   "execution_count": null,
   "id": "7aa4f650-fd85-41ce-a720-b8146cb6c5bb",
   "metadata": {
    "tags": []
   },
   "outputs": [],
   "source": [
    "top, bottom = 0, 1750\n",
    "left, right = 1000, 2000\n",
    "\n",
    "fig, axes = plt.subplots(1, 1, figsize=(6, 6))\n",
    "\n",
    "axes.imshow(1-correct_intervals[top:bottom+1, left:right+1],\n",
    "               vmin=-1,\n",
    "               vmax=1,\n",
    "               extent=(left, right, bottom, top), cmap=\"bwr\")\n",
    "axes.axis(\"off\")\n",
    "plt.savefig(os.path.join(out_path,f\"Carriere_wrong_intervals_{scene}.png\"), dpi=250, bbox_inches='tight')\n",
    "crop_img(os.path.join(out_path, f\"Carriere_wrong_intervals_{scene}.png\"))\n",
    "\n",
    "fig, axes = plt.subplots(1, 1, figsize=(6, 6))\n",
    "axes.imshow(gt[top:bottom+1, left:right+1],\n",
    "               vmin=np.nanquantile(gt[top:bottom+1, left:right+1], 0.05),\n",
    "               vmax=np.nanquantile(gt[top:bottom+1, left:right+1], 0.95),\n",
    "               extent=(left, right, bottom, top),cmap=\"gray\")\n",
    "axes.plot([1000, 2000], [800, 800], c=orange)\n",
    "axes.axis(\"off\")\n",
    "plt.savefig(os.path.join(out_path, f\"Carriere_gt_{scene}.png\"), dpi=250, bbox_inches='tight')\n",
    "crop_img(os.path.join(out_path, f\"Carriere_gt_{scene}.png\"))\n",
    "\n",
    "fig, axes = plt.subplots(1, 1, figsize=(6, 6))\n",
    "crop_clr_normalized = clr_normalized[top+300:bottom+300+1, left+220:right+480+1]\n",
    "axes.axis(\"off\")\n",
    "axes.imshow(crop_clr_normalized, interpolation=\"nearest\", aspect=crop_clr_normalized.shape[1]/crop_clr_normalized.shape[0]*(bottom-top+1)/(right-left+1))\n",
    "scalebar = ScaleBar(0.5, location=\"lower left\", pad=0.1, font_properties={\"math_fontfamily\": \"dejavuserif\"})\n",
    "axes.add_artist(scalebar)\n",
    "plt.savefig(os.path.join(out_path, f\"Carriere_RGB_{scene}.png\"), dpi=250, bbox_inches='tight')\n",
    "crop_img(os.path.join(out_path, f\"Carriere_RGB_{scene}.png\"))"
   ]
  },
  {
   "cell_type": "code",
   "execution_count": null,
   "id": "d5ab2318-a700-4bba-9364-385d9cb4ca27",
   "metadata": {
    "tags": []
   },
   "outputs": [],
   "source": [
    "# Toulouse\n",
    "row = 800\n",
    "col_inf, col_sup = 1000, 2000\n",
    "\n",
    "fig = plt.figure(figsize=(12, 5))\n",
    "ax = fig.add_subplot(111)\n",
    "\n",
    "ax.plot(np.arange(col_inf, col_sup), dsm_inf[row, col_inf:col_sup], color=orange, linestyle=\"--\", label=r\"\\(\\underline{\\mathrm{DSM}},~\\overline{\\mathrm{DSM}}\\)\", linewidth=2, alpha=0.7)\n",
    "ax.plot(np.arange(col_inf, col_sup), dsm_sup[row, col_inf:col_sup], color=orange, linestyle=\"--\", linewidth=2, alpha=0.7)\n",
    "\n",
    "ax.plot(np.arange(col_inf, col_sup), dsm[row, col_inf:col_sup], color=orange, label=r\"\\(\\mathrm{DSM}\\)\", linewidth=2, alpha=0.7)\n",
    "ax.plot(np.arange(col_inf, col_sup), gt[row, col_inf:col_sup], color=blue, label=r\"\\(\\mathrm{DSM_{true}}\\)\", linewidth=2.5)\n",
    "\n",
    "ax.set_ylabel(\"\\(\\mathrm{Elevation~ (m)}\\)\")\n",
    "ax.set_xlabel(\"\\(\\mathrm{Columns}\\)\")\n",
    "\n",
    "ax.set_xlim([col_inf, col_sup-1])\n",
    "ax.set_ylim([400, 525])\n",
    "\n",
    "ax.grid(True)\n",
    "\n",
    "ax.legend(framealpha=1)\n",
    "\n",
    "plt.savefig(os.path.join(out_path, f\"Carriere_row_{row}.png\"), dpi=250, bbox_inches='tight')\n",
    "crop_img(os.path.join(out_path, f\"Carriere_row_{row}.png\"))"
   ]
  },
  {
   "cell_type": "markdown",
   "id": "0505efa2-adf0-457f-b167-879a24135d9b",
   "metadata": {
    "jp-MarkdownHeadingCollapsed": true,
    "tags": []
   },
   "source": [
    "## Hellmem"
   ]
  },
  {
   "cell_type": "code",
   "execution_count": null,
   "id": "92fca0b7-e072-49d2-b6b5-39bcf134e12f",
   "metadata": {
    "tags": []
   },
   "outputs": [],
   "source": [
    "scene = \"Hellmem\""
   ]
  },
  {
   "cell_type": "code",
   "execution_count": null,
   "id": "d440309b-1a27-4cb2-b327-7b0181690b71",
   "metadata": {
    "tags": []
   },
   "outputs": [],
   "source": [
    "dcol, drow = dict_manual[scene][\"dcol\"], dict_manual[scene][\"drow\"]\n",
    "\n",
    "DSM = rasterio.open(os.path.join(dem_gt_path, scene, \"coregistration/dsm.tif\"))\n",
    "dsm = DSM.read(1)\n",
    "\n",
    "GT = rasterio.open(os.path.join(dem_gt_path, scene, \"coregistration/reproj_coreg_REF.tif\"))\n",
    "gt = GT.read(1)\n",
    "\n",
    "DSM_INF = rasterio.open(os.path.join(dem_gt_path, scene, \"coregistration/dsm_inf.tif\"))\n",
    "dsm_inf = DSM_INF.read(1)\n",
    "\n",
    "DSM_SUP = rasterio.open(os.path.join(dem_gt_path, scene, \"coregistration/dsm_sup.tif\"))\n",
    "dsm_sup = DSM_SUP.read(1)\n",
    "\n",
    "gt = GT.read(1)\n",
    "gt = np.pad(gt, ((max(0, drow), max(-drow, 0)),\n",
    "                  (max(0, dcol), max(-dcol, 0))),\n",
    "            constant_values=np.nan)\n",
    "\n",
    "gt = gt[max(0, -drow):min(gt.shape[0]-drow, gt.shape[0]),\n",
    "        max(0, -dcol):min(gt.shape[1]-dcol, gt.shape[1])]\n",
    "\n",
    "no_data = np.isnan(dsm)     | (dsm==DSM.nodata) | \\\n",
    "          np.isnan(gt)      | (gt==GT.nodata)  | \\\n",
    "          np.isnan(dsm_inf) | (dsm_inf==DSM_INF.nodata) |\\\n",
    "          np.isnan(dsm_sup) | (dsm_sup==DSM_SUP.nodata)\n",
    "\n",
    "with open(os.path.join(cars_path, scene, subfolder[scene], \"content.json\")) as f:\n",
    "    content = json.load(f)[\"applications\"]\n",
    "    for key in content.keys():\n",
    "        try:\n",
    "            r_alt = content[key][\"grid_generation_run\"][\"disp_to_alt_ratio\"]\n",
    "            print(f\"Disp to alt ratio: {r_alt:.3f} m/disp\")\n",
    "        except KeyError:\n",
    "            pass\n",
    "\n",
    "if watermask_dict[scene]:\n",
    "    print(\"Using a watermask\")\n",
    "    WATERMASK = rasterio.open(os.path.join(dem_gt_path, scene, \"coregistration/watermask.tif\"))\n",
    "    watermask = WATERMASK.read(1)\n",
    "    no_data |= (watermask>0)\n",
    "\n",
    "    \n",
    "slope = compute_slope(gt)\n",
    "\n",
    "dsm[no_data] = np.nan\n",
    "dsm_inf[no_data] = np.nan\n",
    "dsm_sup[no_data] = np.nan\n",
    "gt[no_data] = np.nan\n",
    "valid_data = ~no_data\n",
    "\n",
    "\n",
    "altimetric_bias = np.nanmedian(dsm -gt)\n",
    "print(f\"Altimetric bias: {altimetric_bias:.2f}m\")\n",
    "gt += altimetric_bias\n",
    "\n",
    "print(f\"Percentage of invalid data: {100*no_data.sum() / no_data.size:.1f}%\")"
   ]
  },
  {
   "cell_type": "code",
   "execution_count": null,
   "id": "d5de5d17-8285-423f-b44b-641eec02ae17",
   "metadata": {
    "tags": []
   },
   "outputs": [],
   "source": [
    "correct_intervals = (gt <= dsm_sup) & (gt>=dsm_inf)\n",
    "correct_intervals[no_data] = np.nan\n",
    "\n",
    "acc = (correct_intervals)[valid_data].sum() / (valid_data).sum()\n",
    "eps = np.nanmedian(np.minimum(np.abs(dsm_sup-gt)[valid_data & (~correct_intervals)], np.abs(gt-dsm_inf)[valid_data & (~correct_intervals)])) / r_alt\n",
    "s_rel = 1/r_alt*np.nanmedian((dsm_sup-dsm_inf)[valid_data])\n",
    "o_rel = 1 - np.nanmedian(np.maximum(np.abs(gt-dsm)[valid_data & correct_intervals], r_alt)/(dsm_sup-dsm_inf)[valid_data & correct_intervals])\n",
    "\n",
    "print(f\"acc: {acc*100:.1f}\")\n",
    "print(f\"eps: {eps:.2f}\")\n",
    "print(f\"s_rel: {s_rel:.2f}\")\n",
    "print(f\"o_rel: {o_rel*100:.1f}\")\n",
    "\n",
    "eps = np.minimum(np.abs(dsm_sup-gt), np.abs(gt-dsm_inf)) / r_alt\n",
    "eps[valid_data & (correct_intervals)] = np.nan "
   ]
  },
  {
   "cell_type": "code",
   "execution_count": null,
   "id": "9effeffd-ecf0-44f4-959d-1f8ba35acfc6",
   "metadata": {
    "tags": []
   },
   "outputs": [],
   "source": [
    "fig, axes = plt.subplots(1, 1, figsize=(12, 12))\n",
    "axes.imshow(eps, extent=(0, dsm.shape[1], dsm.shape[0], 0))"
   ]
  },
  {
   "cell_type": "code",
   "execution_count": null,
   "id": "5d131b04-aa21-43ec-9302-3d00d2696abc",
   "metadata": {
    "tags": []
   },
   "outputs": [],
   "source": [
    "fig, axes = plt.subplots(1, 3, figsize=(12, 6))\n",
    "\n",
    "axes[0].imshow(dsm[::20, ::20], extent=(0, dsm.shape[1], dsm.shape[0], 0))\n",
    "axes[1].imshow(correct_intervals, extent=(0, dsm.shape[1], dsm.shape[0], 0))\n",
    "axes[2].imshow(eps, extent=(0, dsm.shape[1], dsm.shape[0], 0))"
   ]
  },
  {
   "cell_type": "code",
   "execution_count": null,
   "id": "7baacf0c-799d-4b9b-8129-55558e4dc6d9",
   "metadata": {
    "tags": []
   },
   "outputs": [],
   "source": [
    "top, bottom = 0, 5000\n",
    "left, right = 0, 5000\n",
    "\n",
    "fig, axes = plt.subplots(1, 2, figsize=(10, 10))\n",
    "\n",
    "axes[0].imshow(correct_intervals[top:bottom+1, left:right+1],\n",
    "               vmin=0,\n",
    "               vmax=1,\n",
    "               extent=(left, right, bottom, top))\n",
    "\n",
    "axes[1].imshow(eps[top:bottom+1, left:right+1],\n",
    "               vmin=0,\n",
    "               vmax=25,\n",
    "               extent=(left, right, bottom, top))\n"
   ]
  },
  {
   "cell_type": "code",
   "execution_count": null,
   "id": "0c979aed-5e63-44d5-b49a-18f45f05b746",
   "metadata": {
    "tags": []
   },
   "outputs": [],
   "source": [
    "# Toulouse\n",
    "row = 900\n",
    "col_inf, col_sup = 1000, 1750\n",
    "\n",
    "fig = plt.figure(figsize=(12, 5))\n",
    "ax = fig.add_subplot(111)\n",
    "\n",
    "ax.plot(np.arange(col_inf, col_sup), dsm_inf[row, col_inf:col_sup], color=orange, linestyle=\"--\", label=r\"\\(\\underline{\\mathrm{DSM}},~\\overline{\\mathrm{DSM}}\\)\", linewidth=2, alpha=0.7)\n",
    "ax.plot(np.arange(col_inf, col_sup), dsm_sup[row, col_inf:col_sup], color=orange, linestyle=\"--\", linewidth=2, alpha=0.7)\n",
    "\n",
    "ax.plot(np.arange(col_inf, col_sup), dsm[row, col_inf:col_sup], color=orange, label=r\"\\(\\mathrm{DSM}\\)\", linewidth=2, alpha=0.7)\n",
    "ax.plot(np.arange(col_inf, col_sup), gt[row, col_inf:col_sup], color=blue, label=r\"\\(\\mathrm{DSM_{true}}\\)\", linewidth=2.5)\n",
    "\n",
    "ax.set_ylabel(\"\\(\\mathrm{Elevation~ (m)}\\)\")\n",
    "ax.set_xlabel(\"\\(\\mathrm{Columns}\\)\")\n",
    "\n",
    "ax.set_xlim([col_inf, col_sup-1])\n",
    "ax.grid(True)\n",
    "\n",
    "ax.legend(framealpha=1)"
   ]
  }
 ],
 "metadata": {
  "kernelspec": {
   "display_name": "venv_cars_trex",
   "language": "python",
   "name": "venv_cars_trex"
  },
  "language_info": {
   "codemirror_mode": {
    "name": "ipython",
    "version": 3
   },
   "file_extension": ".py",
   "mimetype": "text/x-python",
   "name": "python",
   "nbconvert_exporter": "python",
   "pygments_lexer": "ipython3",
   "version": "3.8.4"
  }
 },
 "nbformat": 4,
 "nbformat_minor": 5
}
